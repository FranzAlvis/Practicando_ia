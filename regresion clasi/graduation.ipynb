{
  "cells": [
    {
      "cell_type": "code",
      "execution_count": 1,
      "metadata": {
        "id": "GYTe60lFZlqg"
      },
      "outputs": [],
      "source": [
        "import pandas as pd"
      ]
    },
    {
      "cell_type": "code",
      "execution_count": 2,
      "metadata": {
        "id": "oIlq_6NJZys6"
      },
      "outputs": [],
      "source": [
        "# Importar libreria para dividir entrenamiento y prueba\n",
        "from sklearn.model_selection import train_test_split"
      ]
    },
    {
      "cell_type": "code",
      "execution_count": 3,
      "metadata": {
        "id": "mwiCvk28bbzn"
      },
      "outputs": [],
      "source": [
        "# se utiliza para el manejo de rutas y directorios.\n",
        "import os\n",
        "\n",
        "# Calculo cientifico y vectorial para python\n",
        "import numpy as np\n",
        "\n",
        "# Librerias para graficar\n",
        "from matplotlib import pyplot\n",
        "\n",
        "# Modulo de optimización de scipy\n",
        "from scipy import optimize\n",
        "\n",
        "# se utiliza para codificar variables categóricas en variables numéricas\n",
        "from sklearn.preprocessing import LabelEncoder\n",
        "\n",
        "# le dice a matplotlib que incruste gráficos en el cuaderno\n",
        "%matplotlib inline"
      ]
    },
    {
      "cell_type": "code",
      "execution_count": 4,
      "metadata": {
        "id": "RMxR0SB8Z1sj"
      },
      "outputs": [],
      "source": [
        "#Carga de dataset\n",
        "data = pd.read_csv('loan_approval_dataset.csv', header=0, skipinitialspace=True)"
      ]
    },
    {
      "cell_type": "code",
      "execution_count": 5,
      "metadata": {
        "colab": {
          "base_uri": "https://localhost:8080/"
        },
        "id": "0Jyw2zxjaR-U",
        "outputId": "6610c2a9-ea50-4a2a-cf4c-e6cacba8f923"
      },
      "outputs": [
        {
          "name": "stdout",
          "output_type": "stream",
          "text": [
            "<class 'pandas.core.frame.DataFrame'>\n",
            "RangeIndex: 4269 entries, 0 to 4268\n",
            "Data columns (total 13 columns):\n",
            " #   Column                    Non-Null Count  Dtype \n",
            "---  ------                    --------------  ----- \n",
            " 0   loan_id                   4269 non-null   int64 \n",
            " 1   no_of_dependents          4269 non-null   int64 \n",
            " 2   education                 4269 non-null   object\n",
            " 3   self_employed             4269 non-null   object\n",
            " 4   income_annum              4269 non-null   int64 \n",
            " 5   loan_amount               4269 non-null   int64 \n",
            " 6   loan_term                 4269 non-null   int64 \n",
            " 7   cibil_score               4269 non-null   int64 \n",
            " 8   residential_assets_value  4269 non-null   int64 \n",
            " 9   commercial_assets_value   4269 non-null   int64 \n",
            " 10  luxury_assets_value       4269 non-null   int64 \n",
            " 11  bank_asset_value          4269 non-null   int64 \n",
            " 12  loan_status               4269 non-null   object\n",
            "dtypes: int64(10), object(3)\n",
            "memory usage: 433.7+ KB\n"
          ]
        }
      ],
      "source": [
        "data.info()"
      ]
    },
    {
      "cell_type": "code",
      "execution_count": 6,
      "metadata": {
        "id": "5eSYdbGraejA"
      },
      "outputs": [
        {
          "name": "stdout",
          "output_type": "stream",
          "text": [
            "<class 'pandas.core.frame.DataFrame'>\n",
            "RangeIndex: 4269 entries, 0 to 4268\n",
            "Data columns (total 11 columns):\n",
            " #   Column                    Non-Null Count  Dtype \n",
            "---  ------                    --------------  ----- \n",
            " 0   education                 4269 non-null   object\n",
            " 1   self_employed             4269 non-null   object\n",
            " 2   income_annum              4269 non-null   int64 \n",
            " 3   loan_amount               4269 non-null   int64 \n",
            " 4   loan_term                 4269 non-null   int64 \n",
            " 5   cibil_score               4269 non-null   int64 \n",
            " 6   residential_assets_value  4269 non-null   int64 \n",
            " 7   commercial_assets_value   4269 non-null   int64 \n",
            " 8   luxury_assets_value       4269 non-null   int64 \n",
            " 9   bank_asset_value          4269 non-null   int64 \n",
            " 10  loan_status               4269 non-null   object\n",
            "dtypes: int64(8), object(3)\n",
            "memory usage: 367.0+ KB\n"
          ]
        }
      ],
      "source": [
        "# Eliminar columnas irrelevantes para la regresion\n",
        "columna_eliminar = ['loan_id', 'no_of_dependents']\n",
        "data.drop(columna_eliminar, axis=1, inplace=True)\n",
        "\n",
        "# Muestra el DataFrame resultante\n",
        "data.info()"
      ]
    },
    {
      "cell_type": "code",
      "execution_count": 7,
      "metadata": {
        "id": "AKSw7ln5a7jj"
      },
      "outputs": [],
      "source": [
        "columnas_categoricas = data.select_dtypes(include=['object']).columns"
      ]
    },
    {
      "cell_type": "code",
      "execution_count": 8,
      "metadata": {
        "colab": {
          "base_uri": "https://localhost:8080/"
        },
        "id": "ucH0lDRua_YA",
        "outputId": "96ff807b-b521-48a0-e57c-fb05b06bbd6d"
      },
      "outputs": [
        {
          "name": "stdout",
          "output_type": "stream",
          "text": [
            "Index(['education', 'self_employed', 'loan_status'], dtype='object')\n"
          ]
        }
      ],
      "source": [
        "print(columnas_categoricas)"
      ]
    },
    {
      "cell_type": "code",
      "execution_count": 9,
      "metadata": {
        "id": "PjUv370gbDg0"
      },
      "outputs": [],
      "source": [
        "#Procesamiento de frases o palabras\n",
        "for columna in columnas_categoricas:\n",
        "  # se crea una instancia (se utiliza para convetir categoricos a numericos)\n",
        "  le = LabelEncoder()\n",
        "  # cambia de categoricos a numericos unico\n",
        "  data[columna] = le.fit_transform(data[columna])"
      ]
    },
    {
      "cell_type": "code",
      "execution_count": 10,
      "metadata": {
        "colab": {
          "base_uri": "https://localhost:8080/"
        },
        "id": "IRxaUhWsbrKH",
        "outputId": "109e5db0-9cd7-4501-fc86-092116b29acb"
      },
      "outputs": [
        {
          "name": "stdout",
          "output_type": "stream",
          "text": [
            "<class 'pandas.core.frame.DataFrame'>\n",
            "RangeIndex: 4269 entries, 0 to 4268\n",
            "Data columns (total 11 columns):\n",
            " #   Column                    Non-Null Count  Dtype\n",
            "---  ------                    --------------  -----\n",
            " 0   education                 4269 non-null   int32\n",
            " 1   self_employed             4269 non-null   int32\n",
            " 2   income_annum              4269 non-null   int64\n",
            " 3   loan_amount               4269 non-null   int64\n",
            " 4   loan_term                 4269 non-null   int64\n",
            " 5   cibil_score               4269 non-null   int64\n",
            " 6   residential_assets_value  4269 non-null   int64\n",
            " 7   commercial_assets_value   4269 non-null   int64\n",
            " 8   luxury_assets_value       4269 non-null   int64\n",
            " 9   bank_asset_value          4269 non-null   int64\n",
            " 10  loan_status               4269 non-null   int32\n",
            "dtypes: int32(3), int64(8)\n",
            "memory usage: 317.0 KB\n"
          ]
        }
      ],
      "source": [
        "data.info()"
      ]
    },
    {
      "cell_type": "code",
      "execution_count": 11,
      "metadata": {},
      "outputs": [
        {
          "name": "stdout",
          "output_type": "stream",
          "text": [
            "Test longitud 854, Train longitud 3415\n"
          ]
        }
      ],
      "source": [
        "longitud = 4269\n",
        "train_long = longitud - longitud * 0.2\n",
        "test_long = longitud - longitud * 0.8\n",
        "print(f'Test longitud {int(np.round(test_long))}, Train longitud {int(train_long)}')"
      ]
    },
    {
      "cell_type": "code",
      "execution_count": 12,
      "metadata": {
        "id": "aqZEZRsVbtvr"
      },
      "outputs": [],
      "source": [
        "# Division de dataset en entrenamiento y prueba\n",
        "train_data, test_data = train_test_split(data, test_size=0.2, random_state=42)"
      ]
    },
    {
      "cell_type": "code",
      "execution_count": 13,
      "metadata": {
        "colab": {
          "base_uri": "https://localhost:8080/"
        },
        "id": "Aka-O-racCDn",
        "outputId": "cbcfd354-59c7-4c81-b4b1-a76dc7cc9c82"
      },
      "outputs": [
        {
          "name": "stdout",
          "output_type": "stream",
          "text": [
            "<class 'pandas.core.frame.DataFrame'>\n",
            "Index: 3415 entries, 1675 to 860\n",
            "Data columns (total 11 columns):\n",
            " #   Column                    Non-Null Count  Dtype\n",
            "---  ------                    --------------  -----\n",
            " 0   education                 3415 non-null   int32\n",
            " 1   self_employed             3415 non-null   int32\n",
            " 2   income_annum              3415 non-null   int64\n",
            " 3   loan_amount               3415 non-null   int64\n",
            " 4   loan_term                 3415 non-null   int64\n",
            " 5   cibil_score               3415 non-null   int64\n",
            " 6   residential_assets_value  3415 non-null   int64\n",
            " 7   commercial_assets_value   3415 non-null   int64\n",
            " 8   luxury_assets_value       3415 non-null   int64\n",
            " 9   bank_asset_value          3415 non-null   int64\n",
            " 10  loan_status               3415 non-null   int32\n",
            "dtypes: int32(3), int64(8)\n",
            "memory usage: 280.1 KB\n"
          ]
        }
      ],
      "source": [
        "train_data.info()"
      ]
    },
    {
      "cell_type": "code",
      "execution_count": 14,
      "metadata": {
        "colab": {
          "base_uri": "https://localhost:8080/"
        },
        "id": "Md89vT7YcFgr",
        "outputId": "a57a0918-f0de-49e4-d543-fa2b84b1b118"
      },
      "outputs": [
        {
          "name": "stdout",
          "output_type": "stream",
          "text": [
            "<class 'pandas.core.frame.DataFrame'>\n",
            "Index: 854 entries, 1703 to 1114\n",
            "Data columns (total 11 columns):\n",
            " #   Column                    Non-Null Count  Dtype\n",
            "---  ------                    --------------  -----\n",
            " 0   education                 854 non-null    int32\n",
            " 1   self_employed             854 non-null    int32\n",
            " 2   income_annum              854 non-null    int64\n",
            " 3   loan_amount               854 non-null    int64\n",
            " 4   loan_term                 854 non-null    int64\n",
            " 5   cibil_score               854 non-null    int64\n",
            " 6   residential_assets_value  854 non-null    int64\n",
            " 7   commercial_assets_value   854 non-null    int64\n",
            " 8   luxury_assets_value       854 non-null    int64\n",
            " 9   bank_asset_value          854 non-null    int64\n",
            " 10  loan_status               854 non-null    int32\n",
            "dtypes: int32(3), int64(8)\n",
            "memory usage: 70.1 KB\n"
          ]
        }
      ],
      "source": [
        "test_data.info()"
      ]
    },
    {
      "cell_type": "code",
      "execution_count": 15,
      "metadata": {
        "id": "eDzcIEGhcG-9"
      },
      "outputs": [],
      "source": [
        "train_data.to_csv(\"train.csv\", index=False)"
      ]
    },
    {
      "cell_type": "code",
      "execution_count": 16,
      "metadata": {
        "id": "otTXytTncKkK"
      },
      "outputs": [],
      "source": [
        "test_data.to_csv(\"test.csv\", index=False)"
      ]
    },
    {
      "cell_type": "code",
      "execution_count": 17,
      "metadata": {
        "id": "hXUAby4kcOA1"
      },
      "outputs": [],
      "source": [
        "#Carga de dataset\n",
        "data = pd.read_csv('train.csv')"
      ]
    },
    {
      "cell_type": "code",
      "execution_count": 18,
      "metadata": {
        "colab": {
          "base_uri": "https://localhost:8080/"
        },
        "id": "hVj41oeEfIU9",
        "outputId": "1ee6c842-1e5a-4581-f0a2-32a4fb03a167"
      },
      "outputs": [
        {
          "name": "stdout",
          "output_type": "stream",
          "text": [
            "<class 'pandas.core.frame.DataFrame'>\n",
            "RangeIndex: 3415 entries, 0 to 3414\n",
            "Data columns (total 11 columns):\n",
            " #   Column                    Non-Null Count  Dtype\n",
            "---  ------                    --------------  -----\n",
            " 0   education                 3415 non-null   int64\n",
            " 1   self_employed             3415 non-null   int64\n",
            " 2   income_annum              3415 non-null   int64\n",
            " 3   loan_amount               3415 non-null   int64\n",
            " 4   loan_term                 3415 non-null   int64\n",
            " 5   cibil_score               3415 non-null   int64\n",
            " 6   residential_assets_value  3415 non-null   int64\n",
            " 7   commercial_assets_value   3415 non-null   int64\n",
            " 8   luxury_assets_value       3415 non-null   int64\n",
            " 9   bank_asset_value          3415 non-null   int64\n",
            " 10  loan_status               3415 non-null   int64\n",
            "dtypes: int64(11)\n",
            "memory usage: 293.6 KB\n"
          ]
        }
      ],
      "source": [
        "data.info()"
      ]
    },
    {
      "cell_type": "code",
      "execution_count": 19,
      "metadata": {
        "id": "HuV8mvxLcR5b"
      },
      "outputs": [],
      "source": [
        "X = data.iloc[:, :10]\n",
        "y = data.iloc[:, 10]\n",
        "m = y.size"
      ]
    },
    {
      "cell_type": "code",
      "execution_count": 20,
      "metadata": {
        "colab": {
          "base_uri": "https://localhost:8080/"
        },
        "id": "96wj6J7ocUo7",
        "outputId": "4ae83aec-d479-44a1-c198-305987eafb58"
      },
      "outputs": [
        {
          "name": "stdout",
          "output_type": "stream",
          "text": [
            "      education  self_employed  income_annum  loan_amount  loan_term  \\\n",
            "0             1              0       7900000     29900000          6   \n",
            "1             1              1       9600000     34000000         12   \n",
            "2             0              0        800000      2900000          8   \n",
            "3             0              1       4900000     13100000         18   \n",
            "4             0              1       3000000     11100000         12   \n",
            "...         ...            ...           ...          ...        ...   \n",
            "3410          0              1       1300000      4700000         16   \n",
            "3411          1              1        500000      1800000         18   \n",
            "3412          1              1       8600000     20600000         16   \n",
            "3413          1              1       7000000     21400000         12   \n",
            "3414          0              0       6200000     17300000          6   \n",
            "\n",
            "      cibil_score  residential_assets_value  commercial_assets_value  \\\n",
            "0             568                   5800000                 13900000   \n",
            "1             710                  23800000                 10300000   \n",
            "2             682                   2200000                  1100000   \n",
            "3             754                   8200000                  3300000   \n",
            "4             441                   8500000                  2500000   \n",
            "...           ...                       ...                      ...   \n",
            "3410          530                   3200000                  1000000   \n",
            "3411          411                   1000000                   500000   \n",
            "3412          449                  10800000                 10600000   \n",
            "3413          541                   3700000                  1300000   \n",
            "3414          837                  12600000                  3700000   \n",
            "\n",
            "      luxury_assets_value  bank_asset_value  \n",
            "0                15900000           8700000  \n",
            "1                38100000           7800000  \n",
            "2                 2900000            700000  \n",
            "3                16500000           7200000  \n",
            "4                 7300000           2000000  \n",
            "...                   ...               ...  \n",
            "3410              3800000            800000  \n",
            "3411              1300000            200000  \n",
            "3412             28700000           5400000  \n",
            "3413             19800000           9600000  \n",
            "3414             24700000           4600000  \n",
            "\n",
            "[3415 rows x 10 columns]\n",
            "*************************\n",
            "0       0\n",
            "1       0\n",
            "2       0\n",
            "3       0\n",
            "4       1\n",
            "       ..\n",
            "3410    1\n",
            "3411    1\n",
            "3412    1\n",
            "3413    1\n",
            "3414    0\n",
            "Name: loan_status, Length: 3415, dtype: int64\n"
          ]
        }
      ],
      "source": [
        "print(X)\n",
        "print('*'*25)\n",
        "print(y)"
      ]
    },
    {
      "cell_type": "code",
      "execution_count": 21,
      "metadata": {
        "colab": {
          "base_uri": "https://localhost:8080/"
        },
        "id": "ykV-r6x4pnqx",
        "outputId": "52dcf0cb-38f4-4543-e11b-f1a1a66fee59"
      },
      "outputs": [
        {
          "name": "stdout",
          "output_type": "stream",
          "text": [
            "<class 'pandas.core.frame.DataFrame'>\n",
            "RangeIndex: 3415 entries, 0 to 3414\n",
            "Data columns (total 11 columns):\n",
            " #   Column                    Non-Null Count  Dtype\n",
            "---  ------                    --------------  -----\n",
            " 0   education                 3415 non-null   int64\n",
            " 1   self_employed             3415 non-null   int64\n",
            " 2   income_annum              3415 non-null   int64\n",
            " 3   loan_amount               3415 non-null   int64\n",
            " 4   loan_term                 3415 non-null   int64\n",
            " 5   cibil_score               3415 non-null   int64\n",
            " 6   residential_assets_value  3415 non-null   int64\n",
            " 7   commercial_assets_value   3415 non-null   int64\n",
            " 8   luxury_assets_value       3415 non-null   int64\n",
            " 9   bank_asset_value          3415 non-null   int64\n",
            " 10  loan_status               3415 non-null   int64\n",
            "dtypes: int64(11)\n",
            "memory usage: 293.6 KB\n"
          ]
        }
      ],
      "source": [
        "data.info()"
      ]
    },
    {
      "cell_type": "code",
      "execution_count": 22,
      "metadata": {
        "id": "CDG5hG29cYkc"
      },
      "outputs": [],
      "source": [
        "def sigmoid(z):\n",
        "    # Calcula la sigmoide de una entrada z\n",
        "    # Convierte la entrada a un arreglo numpy\n",
        "    z = np.array(z)\n",
        "\n",
        "    # Limita los valores de z para evitar overflow\n",
        "    z = np.clip(z, -500, 500)\n",
        "\n",
        "    g = 1 / (1 + np.exp(-z))\n",
        "\n",
        "    return g"
      ]
    },
    {
      "cell_type": "code",
      "execution_count": 23,
      "metadata": {
        "colab": {
          "base_uri": "https://localhost:8080/"
        },
        "id": "qFFcepVNkikm",
        "outputId": "4c600bc5-01c1-4bb8-aea4-48f5c3e71688"
      },
      "outputs": [
        {
          "name": "stdout",
          "output_type": "stream",
          "text": [
            "g( 0.5 ) =  0.6224593312018546\n"
          ]
        }
      ],
      "source": [
        "# Prueba la implementacion de la funcion sigmoid\n",
        "z = 0.5\n",
        "g = sigmoid(z)\n",
        "\n",
        "print('g(', z, ') = ', g)"
      ]
    },
    {
      "cell_type": "code",
      "execution_count": 24,
      "metadata": {
        "id": "iZTfAttKyypr"
      },
      "outputs": [],
      "source": [
        "def  featureNormalize(X):\n",
        "    # Se crea una copia del conjunto de datos X para evitar modificar los datos originales.\n",
        "    X_norm = X.copy()\n",
        "    # se crea un arreglo de 0 para almacenar la media y desviacion estandar\n",
        "    mu = np.zeros(X.shape[1])\n",
        "    sigma = np.zeros(X.shape[1])\n",
        "\n",
        "    # media\n",
        "    mu = np.mean(X, axis = 0)\n",
        "    # desviacion estandar\n",
        "    sigma = np.std(X, axis = 0)\n",
        "    X_norm = (X - mu) / sigma\n",
        "\n",
        "    return X_norm, mu, sigma"
      ]
    },
    {
      "cell_type": "code",
      "execution_count": 25,
      "metadata": {
        "colab": {
          "base_uri": "https://localhost:8080/"
        },
        "id": "gPx4IrL2yy-c",
        "outputId": "1ca5634f-88b8-407c-a1e3-82bb16075515"
      },
      "outputs": [
        {
          "name": "stdout",
          "output_type": "stream",
          "text": [
            "      education  self_employed  income_annum  loan_amount  loan_term  \\\n",
            "0             1              0       7900000     29900000          6   \n",
            "1             1              1       9600000     34000000         12   \n",
            "2             0              0        800000      2900000          8   \n",
            "3             0              1       4900000     13100000         18   \n",
            "4             0              1       3000000     11100000         12   \n",
            "...         ...            ...           ...          ...        ...   \n",
            "3410          0              1       1300000      4700000         16   \n",
            "3411          1              1        500000      1800000         18   \n",
            "3412          1              1       8600000     20600000         16   \n",
            "3413          1              1       7000000     21400000         12   \n",
            "3414          0              0       6200000     17300000          6   \n",
            "\n",
            "      cibil_score  residential_assets_value  commercial_assets_value  \\\n",
            "0             568                   5800000                 13900000   \n",
            "1             710                  23800000                 10300000   \n",
            "2             682                   2200000                  1100000   \n",
            "3             754                   8200000                  3300000   \n",
            "4             441                   8500000                  2500000   \n",
            "...           ...                       ...                      ...   \n",
            "3410          530                   3200000                  1000000   \n",
            "3411          411                   1000000                   500000   \n",
            "3412          449                  10800000                 10600000   \n",
            "3413          541                   3700000                  1300000   \n",
            "3414          837                  12600000                  3700000   \n",
            "\n",
            "      luxury_assets_value  bank_asset_value  \n",
            "0                15900000           8700000  \n",
            "1                38100000           7800000  \n",
            "2                 2900000            700000  \n",
            "3                16500000           7200000  \n",
            "4                 7300000           2000000  \n",
            "...                   ...               ...  \n",
            "3410              3800000            800000  \n",
            "3411              1300000            200000  \n",
            "3412             28700000           5400000  \n",
            "3413             19800000           9600000  \n",
            "3414             24700000           4600000  \n",
            "\n",
            "[3415 rows x 10 columns]\n",
            "********************\n",
            "Media calculada: education                   4.986823e-01\n",
            "self_employed               5.074671e-01\n",
            "income_annum                5.061845e+06\n",
            "loan_amount                 1.517362e+07\n",
            "loan_term                   1.091947e+01\n",
            "cibil_score                 6.002635e+02\n",
            "residential_assets_value    7.470952e+06\n",
            "commercial_assets_value     4.954202e+06\n",
            "luxury_assets_value         1.518381e+07\n",
            "bank_asset_value            4.948580e+06\n",
            "dtype: float64\n",
            "********************\n",
            "Desviación estandar calculada: education                   4.999983e-01\n",
            "self_employed               4.999442e-01\n",
            "income_annum                2.811446e+06\n",
            "loan_amount                 9.063659e+06\n",
            "loan_term                   5.720295e+00\n",
            "cibil_score                 1.721635e+02\n",
            "residential_assets_value    6.542891e+06\n",
            "commercial_assets_value     4.370657e+06\n",
            "luxury_assets_value         9.172230e+06\n",
            "bank_asset_value            3.232830e+06\n",
            "dtype: float64\n",
            "********************\n",
            "      education  self_employed  income_annum  loan_amount  loan_term  \\\n",
            "0      1.002639      -1.015047      1.009500     1.624772  -0.860003   \n",
            "1      1.002639       0.985176      1.614171     2.077128   0.188894   \n",
            "2     -0.997368      -1.015047     -1.515891    -1.354157  -0.510371   \n",
            "3     -0.997368       0.985176     -0.057566    -0.228784   1.237791   \n",
            "4     -0.997368       0.985176     -0.733375    -0.449445   0.188894   \n",
            "...         ...            ...           ...          ...        ...   \n",
            "3410  -0.997368       0.985176     -1.338046    -1.155562   0.888158   \n",
            "3411   1.002639       0.985176     -1.622597    -1.475521   1.237791   \n",
            "3412   1.002639       0.985176      1.258482     0.598697   0.888158   \n",
            "3413   1.002639       0.985176      0.689380     0.686961   0.188894   \n",
            "3414  -0.997368      -1.015047      0.404829     0.234605  -0.860003   \n",
            "\n",
            "      cibil_score  residential_assets_value  commercial_assets_value  \\\n",
            "0       -0.187401                 -0.255384                 2.046786   \n",
            "1        0.637397                  2.495693                 1.223111   \n",
            "2        0.474761                 -0.805600                -0.881836   \n",
            "3        0.892968                  0.111426                -0.378479   \n",
            "4       -0.925072                  0.157277                -0.561518   \n",
            "...           ...                       ...                      ...   \n",
            "3410    -0.408121                 -0.652762                -0.904716   \n",
            "3411    -1.099324                 -0.989005                -1.019115   \n",
            "3412    -0.878604                  0.508804                 1.291750   \n",
            "3413    -0.344228                 -0.576343                -0.836076   \n",
            "3414     1.375068                  0.783912                -0.286960   \n",
            "\n",
            "      luxury_assets_value  bank_asset_value  \n",
            "0                0.078083          1.160414  \n",
            "1                2.498432          0.882020  \n",
            "2               -1.339239         -1.314198  \n",
            "3                0.143498          0.696424  \n",
            "4               -0.859530         -0.912074  \n",
            "...                   ...               ...  \n",
            "3410            -1.241117         -1.283266  \n",
            "3411            -1.513678         -1.468862  \n",
            "3412             1.473599          0.139636  \n",
            "3413             0.503279          1.438808  \n",
            "3414             1.037500         -0.107825  \n",
            "\n",
            "[3415 rows x 10 columns]\n"
          ]
        }
      ],
      "source": [
        "# llama featureNormalize con los datos cargados\n",
        "X_norm, mu, sigma = featureNormalize(X)\n",
        "\n",
        "print(X)\n",
        "print('*'*20)\n",
        "print('Media calculada:', mu)\n",
        "print('*'*20)\n",
        "print('Desviación estandar calculada:', sigma)\n",
        "print('*'*20)\n",
        "print(X_norm)"
      ]
    },
    {
      "cell_type": "code",
      "execution_count": 26,
      "metadata": {
        "colab": {
          "base_uri": "https://localhost:8080/"
        },
        "id": "UY1-Z3cbca-0",
        "outputId": "5bdc1a87-e66e-43e9-e5b4-1e335ce8d212"
      },
      "outputs": [
        {
          "name": "stdout",
          "output_type": "stream",
          "text": [
            "3415\n",
            "10\n",
            "[[ 1.          1.00263891 -1.01504731 ...  2.04678575  0.07808278\n",
            "   1.16041374]\n",
            " [ 1.          1.00263891  0.98517575 ...  1.22311091  2.49843196\n",
            "   0.88201987]\n",
            " [ 1.         -0.99736803 -1.01504731 ... -0.8818359  -1.33923881\n",
            "  -1.31419838]\n",
            " ...\n",
            " [ 1.          1.00263891  0.98517575 ...  1.29175048  1.47359943\n",
            "   0.13963624]\n",
            " [ 1.          1.00263891  0.98517575 ... -0.83607619  0.50327926\n",
            "   1.4388076 ]\n",
            " [ 1.         -0.99736803 -1.01504731 ... -0.28695963  1.03750048\n",
            "  -0.10782497]]\n"
          ]
        }
      ],
      "source": [
        "# Configurar la matriz adecuadamente, y agregar una columna de unos que corresponde al termino de intercepción.\n",
        "m, n = X.shape\n",
        "print(m)\n",
        "print(n)\n",
        "# Agrega el termino de intercepción a A\n",
        "X = np.concatenate([np.ones((m, 1)), X_norm], axis=1)\n",
        "\n",
        "print(X)"
      ]
    },
    {
      "cell_type": "code",
      "execution_count": 27,
      "metadata": {
        "id": "DNRZ1Xn2cfHy"
      },
      "outputs": [],
      "source": [
        "def calcularCosto(theta, X, y):\n",
        "    # Inicializar algunos valores utiles\n",
        "    m = y.size  # numero de ejemplos de entrenamiento\n",
        "    #epsilon = 1e-8\n",
        "\n",
        "    J = 0\n",
        "    h = sigmoid(X.dot(theta.T))\n",
        "\n",
        "    epsilon = 1e-10  # Un valor pequeño para evitar divisiones por cero\n",
        "    J = (1 / m) * np.sum(-y.dot(np.log(h + epsilon)) - (1 - y).dot(np.log(1 - h + epsilon)))\n",
        "\n",
        "    # J = (1 / m) * np.sum(-y.dot(np.log(h)) - (1 - y).dot(np.log(1 - h)))\n",
        "\n",
        "    return J"
      ]
    },
    {
      "cell_type": "code",
      "execution_count": 28,
      "metadata": {
        "id": "p0WEMERTchvl"
      },
      "outputs": [],
      "source": [
        "def descensoGradiente(theta, X, y, alpha, num_iters):\n",
        "    # Inicializa algunos valores\n",
        "    m = y.shape[0] # numero de ejemplos de entrenamiento\n",
        "\n",
        "    # realiza una copia de theta, el cual será acutalizada por el descenso por el gradiente\n",
        "    theta = theta.copy()\n",
        "    J_history = []\n",
        "\n",
        "    for i in range(num_iters):\n",
        "        h = sigmoid(X.dot(theta.T))\n",
        "        theta = theta - (alpha / m) * (h - y).dot(X)\n",
        "\n",
        "        J_history.append(calcularCosto(theta, X, y))\n",
        "    return theta, J_history"
      ]
    },
    {
      "cell_type": "code",
      "execution_count": 29,
      "metadata": {
        "colab": {
          "base_uri": "https://localhost:8080/"
        },
        "id": "-tfQ3ZUVvm5r",
        "outputId": "dd274a43-ecca-4b2a-e531-98b71b1c64c0"
      },
      "outputs": [
        {
          "name": "stdout",
          "output_type": "stream",
          "text": [
            "     education  self_employed  income_annum  loan_amount  loan_term  \\\n",
            "0            0              0       5400000     19700000         20   \n",
            "1            0              0       5900000     14000000          8   \n",
            "2            0              0       9600000     19900000         14   \n",
            "3            0              0       6200000     23400000          8   \n",
            "4            1              1       5800000     14100000         12   \n",
            "..         ...            ...           ...          ...        ...   \n",
            "849          0              0       2500000      5400000         10   \n",
            "850          0              0       7700000     16700000          6   \n",
            "851          1              1       5600000     11500000          4   \n",
            "852          1              0       2200000      8600000         20   \n",
            "853          1              0       2900000      8900000          6   \n",
            "\n",
            "     cibil_score  residential_assets_value  commercial_assets_value  \\\n",
            "0            423                   6500000                 10000000   \n",
            "1            599                   4700000                  9500000   \n",
            "2            452                   4200000                 16200000   \n",
            "3            605                  10000000                 10800000   \n",
            "4            738                  11700000                  4400000   \n",
            "..           ...                       ...                      ...   \n",
            "849          592                   3400000                  1500000   \n",
            "850          555                  12900000                  2900000   \n",
            "851          695                   9500000                  7100000   \n",
            "852          373                   4100000                  1300000   \n",
            "853          523                    900000                  5600000   \n",
            "\n",
            "     luxury_assets_value  bank_asset_value  loan_status  \n",
            "0               15700000           7300000            1  \n",
            "1               17800000           6700000            0  \n",
            "2               28500000           6600000            1  \n",
            "3               21800000           9200000            0  \n",
            "4               15400000           8400000            0  \n",
            "..                   ...               ...          ...  \n",
            "849              9900000           2900000            0  \n",
            "850             18100000           8500000            0  \n",
            "851             11700000           7800000            0  \n",
            "852              5900000           1400000            1  \n",
            "853              9700000           1800000            1  \n",
            "\n",
            "[854 rows x 11 columns]\n"
          ]
        }
      ],
      "source": [
        "data = pd.read_csv('test.csv')\n",
        "print(data)"
      ]
    },
    {
      "cell_type": "code",
      "execution_count": 30,
      "metadata": {
        "colab": {
          "base_uri": "https://localhost:8080/"
        },
        "id": "WvyALuMecmRF",
        "outputId": "7496f889-556f-4c88-b4d0-2fe87129bb6d"
      },
      "outputs": [
        {
          "name": "stdout",
          "output_type": "stream",
          "text": [
            "[1, 1, 2900000, 6300000, 6, 719, 7900000, 1600000, 8000000, 1600000, 0]\n"
          ]
        }
      ],
      "source": [
        "fila_deseada = 11\n",
        "\n",
        "if fila_deseada < len(data):\n",
        "  fila_completa = data.iloc[fila_deseada].tolist()\n",
        "  print(fila_completa)\n",
        "else:\n",
        "  print(\"La fila no existe\")"
      ]
    },
    {
      "cell_type": "code",
      "execution_count": 31,
      "metadata": {
        "colab": {
          "base_uri": "https://localhost:8080/",
          "height": 503
        },
        "id": "F565FrXpcwoW",
        "outputId": "b18f0d22-5abc-4f87-ea44-b20090d80ce4"
      },
      "outputs": [
        {
          "name": "stdout",
          "output_type": "stream",
          "text": [
            "theta calculado por el descenso por el gradiente: [-1.71867246  0.0192845  -0.07050833  0.97791368 -0.96761531  0.84452601\n",
            " -4.11205205 -0.00466083 -0.05528581 -0.04048589 -0.01541668]\n",
            "0.9124980912437755\n"
          ]
        },
        {
          "data": {
            "image/png": "[encoded data removed]",
            "text/plain": [
              "<Figure size 640x480 with 1 Axes>"
            ]
          },
          "metadata": {},
          "output_type": "display_data"
        }
      ],
      "source": [
        "# Elegir algun valor para alpha (probar varias alternativas)\n",
        "alpha = 0.03 #0.001\n",
        "num_iters = 10000 # 100\n",
        "\n",
        "# inicializa theta y ejecuta el descenso por el gradiente\n",
        "theta = np.zeros(11)\n",
        "theta, J_history = descensoGradiente(theta, X, y, alpha, num_iters)\n",
        "\n",
        "# Grafica la convergencia del costo\n",
        "pyplot.plot(np.arange(len(J_history)), J_history, lw=2)\n",
        "pyplot.xlabel('Numero de iteraciones')\n",
        "pyplot.ylabel('Costo J')\n",
        "\n",
        "# Muestra los resultados del descenso por el gradiente\n",
        "print('theta calculado por el descenso por el gradiente: {:s}'.format(str(theta)))\n",
        "\n",
        "X_array = [1, 1, 0, 2900000, 6300000, 6, 719, 790000, 1600000, 8000000, 1600000]\n",
        "mean = np.mean(X_array)\n",
        "std = np.std(X_array)\n",
        "X_array = (X_array - mean) / std\n",
        "\n",
        "\n",
        "z = np.dot(X_array, theta)\n",
        "probability = sigmoid(z)\n",
        "\n",
        "print(probability)\n",
        "\n",
        "# print(f\" (usando el descenso por el gradiente):{aprueba}\")\n",
        "#0.9124981079062219"
      ]
    },
    {
      "cell_type": "code",
      "execution_count": 32,
      "metadata": {
        "id": "Mgcbo1tE3ST5"
      },
      "outputs": [],
      "source": [
        "def costFunction(theta, X, y):\n",
        "    # Inicializar algunos valores utiles\n",
        "    m = y.size  # numero de ejemplos de entrenamiento\n",
        "\n",
        "    J = 0\n",
        "    grad = np.zeros(theta.shape)\n",
        "\n",
        "    h = sigmoid(X.dot(theta.T))\n",
        "\n",
        "    epsilon = 1e-10  # Un valor pequeño para evitar divisiones por cero\n",
        "    J = (1 / m) * np.sum(-y.dot(np.log(h + epsilon)) - (1 - y).dot(np.log(1 - h + epsilon)))\n",
        "    grad = (1 / m) * (h - y).dot(X)\n",
        "\n",
        "    return J, grad"
      ]
    },
    {
      "cell_type": "code",
      "execution_count": 33,
      "metadata": {
        "colab": {
          "base_uri": "https://localhost:8080/"
        },
        "id": "x5SOQsk63W_E",
        "outputId": "f3e1d19e-e0df-4aed-dc4f-1f129b7b4611"
      },
      "outputs": [
        {
          "name": "stdout",
          "output_type": "stream",
          "text": [
            "[0. 0. 0. 0. 0. 0. 0. 0. 0. 0. 0.]\n",
            "Costo en theta inicial (zeros): 0.693\n",
            "Costo esperado (aproximado): 0.693\n",
            "\n",
            "[ 0.12079063  0.00222171  0.00127091 -0.01065619  0.00455323 -0.05606826\n",
            "  0.37432036 -0.01088963  0.00371114 -0.00932122 -0.00681054]\n"
          ]
        }
      ],
      "source": [
        "# Inicializacion de parametros de ajuste\n",
        "initial_theta = np.zeros(n+1)\n",
        "print(initial_theta)\n",
        "cost, grad = costFunction(initial_theta, X, y)\n",
        "print('Costo en theta inicial (zeros): {:.3f}'.format(cost))\n",
        "print('Costo esperado (aproximado): 0.693\\n')\n",
        "print(grad)"
      ]
    },
    {
      "cell_type": "code",
      "execution_count": 34,
      "metadata": {
        "colab": {
          "base_uri": "https://localhost:8080/"
        },
        "id": "jXodMk173lKJ",
        "outputId": "325523c5-9b89-4d58-c1b9-0d760e0d8209"
      },
      "outputs": [
        {
          "name": "stdout",
          "output_type": "stream",
          "text": [
            "[ 0.12079063  0.00222171  0.00127091 -0.01065619  0.00455323 -0.05606826\n",
            "  0.37432036 -0.01088963  0.00371114 -0.00932122 -0.00681054]\n",
            "Costo en theta prueba: 0.871\n",
            "Costo esperado (aproximado): 11.301\n",
            "\n",
            "Gradiente en theta prueba:\n",
            "\t[0.150, 0.003, 0.001]\n",
            "Gradiente esperado (aproximado):\n",
            "\t[0.150, 0.003, 0.001]\n"
          ]
        }
      ],
      "source": [
        "# Calcula y muestra el costo y el gradiente con valores de theta diferentes a cero\n",
        "\n",
        "test_theta = np.array([0.12079063,  0.00222171,  0.00127091, -0.01065619,  0.00455323, -0.05606826,\n",
        "  0.37432036, -0.01088963,  0.00371114, -0.00932122, -0.00681054])\n",
        "#test_theta = np.array([-11.74749157, 0.09927308, 0.09316497])\n",
        "print(test_theta)\n",
        "cost, grad = costFunction(test_theta, X, y)\n",
        "\n",
        "print('Costo en theta prueba: {:.3f}'.format(cost))\n",
        "print('Costo esperado (aproximado): 11.301\\n')\n",
        "\n",
        "print('Gradiente en theta prueba:')\n",
        "print('\\t[{:.3f}, {:.3f}, {:.3f}]'.format(*grad))\n",
        "print('Gradiente esperado (aproximado):\\n\\t[0.150, 0.003, 0.001]')"
      ]
    },
    {
      "cell_type": "code",
      "execution_count": 35,
      "metadata": {
        "colab": {
          "base_uri": "https://localhost:8080/"
        },
        "id": "iKEM1dub34Ny",
        "outputId": "691373c4-6ee1-4117-cf1e-98a90dd211d6"
      },
      "outputs": [
        {
          "name": "stdout",
          "output_type": "stream",
          "text": [
            "Costo con un valor de theta encontrado por optimize.minimize: 0.218\n",
            "Costo esperado (aproximado): 0.218\n",
            "\n",
            "theta:\n",
            "\t[-1.803, 0.022, -0.066]\n",
            "Theta esperado (aproximado):\n",
            "\t[-1.803, 0.022, -0.066]\n"
          ]
        }
      ],
      "source": [
        "# Establecer las opciones para optimize.minimize\n",
        "# options= {'maxiter': 1000}\n",
        "options= {}\n",
        "\n",
        "# revisar la documentacion de scipy's optimize.minimize para mayor descripcion de los parametros\n",
        "# La funcion devuekve un objeto `OptimizeResult`\n",
        "# Se utiliza el algoritmo de Newton truncado para la optimización.\n",
        "res = optimize.minimize(costFunction,\n",
        "                        initial_theta,\n",
        "                        (X, y),\n",
        "                        jac=True,\n",
        "                        method='TNC',\n",
        "                        options=options)\n",
        "\n",
        "# la propiedad fun del objeto devuelto por `OptimizeResult`\n",
        "# contiene el valor del costFunction de un theta optimizado\n",
        "cost = res.fun\n",
        "\n",
        "# Theta optimizada esta en la propiedad x\n",
        "theta = res.x\n",
        "\n",
        "# Imprimir theta en la pantalla\n",
        "print('Costo con un valor de theta encontrado por optimize.minimize: {:.3f}'.format(cost))\n",
        "print('Costo esperado (aproximado): 0.218\\n');\n",
        "\n",
        "print('theta:')\n",
        "print('\\t[{:.3f}, {:.3f}, {:.3f}]'.format(*theta))\n",
        "print('Theta esperado (aproximado):\\n\\t[-1.803, 0.022, -0.066]')"
      ]
    },
    {
      "cell_type": "code",
      "execution_count": 36,
      "metadata": {
        "id": "7lrQrvgk4pIK"
      },
      "outputs": [],
      "source": [
        "def plotData(X, y):\n",
        "    # Gragica los puntos de datos X y y en una nueva figura. Grafica los puntos de datos con * para los positivos y\n",
        "    # o para los negativos.\n",
        "\n",
        "    # Crea una nueva figura\n",
        "    fig = pyplot.figure()\n",
        "\n",
        "    # Find Indices of Positive and Negative Examples\n",
        "    pos = y == 1\n",
        "    neg = y == 0\n",
        "\n",
        "    # Plot Examples\n",
        "    pyplot.plot(X[pos, 0], X[pos, 1], 'k*', lw=2, ms=10)\n",
        "    pyplot.plot(X[neg, 0], X[neg, 1], 'ko', mfc='y', ms=8, mec='k', mew=1)"
      ]
    },
    {
      "cell_type": "code",
      "execution_count": 37,
      "metadata": {
        "id": "DihSeh0D3-Sw"
      },
      "outputs": [],
      "source": [
        "def plotDecisionBoundary(plotData, theta, X, y):\n",
        "    \"\"\"\n",
        "    Grafica los puntos X y Y en una nueva figura con un limite de desicion definido por theta.\n",
        "    the data points X and y into a new figure with the decision boundary defined by theta.\n",
        "    Grafica los puntos con * para los ejemplos positivos y con o para los ejemplos negativos.\n",
        "\n",
        "    Parametros:\n",
        "    ----------\n",
        "    plotData : func\n",
        "        A function reference for plotting the X, y data.\n",
        "\n",
        "    theta : array_like\n",
        "        Parametros para la regresion logistica. Un vecto de la forma (n+1, ).\n",
        "\n",
        "    X : array_like\n",
        "        Data set de entrada. Se supone que X es una de las siguientes:\n",
        "            1) Matriz Mx3, donde la primera columna es una columna de unos para intercepción.\n",
        "            2) Matriz MxN, N> 3, donde la primera columna son todos unos.\n",
        "\n",
        "    y : array_like\n",
        "        Vector de datos de etiquetas de la forma (m, ).\n",
        "    \"\"\"\n",
        "    # hacer que theta sera un arreglo numpy\n",
        "    theta = np.array(theta)\n",
        "      # Graficar los datos (recordar que la primera columna en X es la intercepción)\n",
        "    plotData(X[:, 1:3], y)\n",
        "\n",
        "    if X.shape[1] <= 3:\n",
        "        # Solo se requieren 2 puntos para definir una linea, para lo cual se eligen dos puntos finales\n",
        "        plot_x = np.array([np.min(X[:, 1]) - 2, np.max(X[:, 1]) + 2])\n",
        "\n",
        "        # Calcular la línea límite de decisión\n",
        "        plot_y = (-1. / theta[2]) * (theta[1] * plot_x + theta[0])\n",
        "\n",
        "        # Graficar la línea límite de decisión\n",
        "        pyplot.plot(plot_x, plot_y)\n",
        "\n",
        "        # Leyenda, específica para el ejercicio\n",
        "        pyplot.legend(['Aceptado', 'No aceptado', 'Límite de decisión'])\n",
        "        pyplot.xlim([30, 100])\n",
        "        pyplot.ylim([30, 100])\n",
        "    else:\n",
        "       # Rango de la grilla\n",
        "        u = np.linspace(-1, 1.5, 50)\n",
        "        v = np.linspace(-1, 1.5, 50)\n",
        "\n",
        "        z = np.zeros((len(u), len(v)))\n",
        "        # Evaluar z = theta*x sobre la grilla\n",
        "        for i, ui in enumerate(u):\n",
        "            for j, vj in enumerate(v):\n",
        "                z[i, j] = np.dot(mapFeature(ui, vj), theta)\n",
        "\n",
        "        z = z.T  # Importante transponer z antes de llamar al contorno\n",
        "\n",
        "        # Plot z = 0 como contorno y z < 0 como región negativa\n",
        "        pyplot.contour(u, v, z, levels=[0], linewidths=2, colors='g')\n",
        "        pyplot.contourf(u, v, z, levels=[np.min(z), 0, np.max(z)], cmap='Greens', alpha=0.4)\n"
      ]
    },
    {
      "cell_type": "code",
      "execution_count": 39,
      "metadata": {
        "colab": {
          "base_uri": "https://localhost:8080/",
          "height": 739
        },
        "id": "4_OilYbW4JHl",
        "outputId": "87bfc8f4-fffb-46ba-9dd3-7e272f16f641"
      },
      "outputs": [
        {
          "ename": "NameError",
          "evalue": "name 'mapFeature' is not defined",
          "output_type": "error",
          "traceback": [
            "\u001b[1;31m---------------------------------------------------------------------------\u001b[0m",
            "\u001b[1;31mNameError\u001b[0m                                 Traceback (most recent call last)",
            "\u001b[1;32mc:\\Users\\ACER NITRO 5\\Desktop\\Laboratorios-IA\\Laboratorio 3\\Laboratorio 3.ipynb Cell 38\u001b[0m line \u001b[0;36m2\n\u001b[0;32m      <a href='vscode-notebook-cell:/c%3A/Users/ACER%20NITRO%205/Desktop/Laboratorios-IA/Laboratorio%203/Laboratorio%203.ipynb#X52sZmlsZQ%3D%3D?line=0'>1</a>\u001b[0m \u001b[39m# Graficar limites\u001b[39;00m\n\u001b[1;32m----> <a href='vscode-notebook-cell:/c%3A/Users/ACER%20NITRO%205/Desktop/Laboratorios-IA/Laboratorio%203/Laboratorio%203.ipynb#X52sZmlsZQ%3D%3D?line=1'>2</a>\u001b[0m plotDecisionBoundary(plotData, theta, X, y)\n",
            "\u001b[1;32mc:\\Users\\ACER NITRO 5\\Desktop\\Laboratorios-IA\\Laboratorio 3\\Laboratorio 3.ipynb Cell 38\u001b[0m line \u001b[0;36m5\n\u001b[0;32m     <a href='vscode-notebook-cell:/c%3A/Users/ACER%20NITRO%205/Desktop/Laboratorios-IA/Laboratorio%203/Laboratorio%203.ipynb#X52sZmlsZQ%3D%3D?line=48'>49</a>\u001b[0m \u001b[39mfor\u001b[39;00m i, ui \u001b[39min\u001b[39;00m \u001b[39menumerate\u001b[39m(u):\n\u001b[0;32m     <a href='vscode-notebook-cell:/c%3A/Users/ACER%20NITRO%205/Desktop/Laboratorios-IA/Laboratorio%203/Laboratorio%203.ipynb#X52sZmlsZQ%3D%3D?line=49'>50</a>\u001b[0m     \u001b[39mfor\u001b[39;00m j, vj \u001b[39min\u001b[39;00m \u001b[39menumerate\u001b[39m(v):\n\u001b[1;32m---> <a href='vscode-notebook-cell:/c%3A/Users/ACER%20NITRO%205/Desktop/Laboratorios-IA/Laboratorio%203/Laboratorio%203.ipynb#X52sZmlsZQ%3D%3D?line=50'>51</a>\u001b[0m         z[i, j] \u001b[39m=\u001b[39m np\u001b[39m.\u001b[39mdot(mapFeature(ui, vj), theta)\n\u001b[0;32m     <a href='vscode-notebook-cell:/c%3A/Users/ACER%20NITRO%205/Desktop/Laboratorios-IA/Laboratorio%203/Laboratorio%203.ipynb#X52sZmlsZQ%3D%3D?line=52'>53</a>\u001b[0m z \u001b[39m=\u001b[39m z\u001b[39m.\u001b[39mT  \u001b[39m# Importante transponer z antes de llamar al contorno\u001b[39;00m\n\u001b[0;32m     <a href='vscode-notebook-cell:/c%3A/Users/ACER%20NITRO%205/Desktop/Laboratorios-IA/Laboratorio%203/Laboratorio%203.ipynb#X52sZmlsZQ%3D%3D?line=54'>55</a>\u001b[0m \u001b[39m# Plot z = 0 como contorno y z < 0 como región negativa\u001b[39;00m\n",
            "\u001b[1;31mNameError\u001b[0m: name 'mapFeature' is not defined"
          ]
        },
        {
          "data": {
            "image/png": "[encoded data removed]",
            "text/plain": [
              "<Figure size 640x480 with 1 Axes>"
            ]
          },
          "metadata": {},
          "output_type": "display_data"
        }
      ],
      "source": [
        "# Graficar limites\n",
        "plotDecisionBoundary(plotData, theta, X, y)"
      ]
    },
    {
      "cell_type": "code",
      "execution_count": 40,
      "metadata": {
        "id": "rebzLSHv4Pez"
      },
      "outputs": [],
      "source": [
        "def predict(theta, X):\n",
        "    \"\"\"\n",
        "    Predecir si la etiqueta es 0 o 1 mediante regresión logística aprendida.\n",
        "    Calcula las predicciones para X usando un umbral en 0.5 (es decir, si sigmoide (theta.T * x)> = 0.5, predice 1)\n",
        "\n",
        "    Parametros\n",
        "    ----------\n",
        "    theta : array_like\n",
        "        Parametros para regresion logistica. Un vecto de la forma (n+1, ).\n",
        "\n",
        "    X : array_like\n",
        "        Datos utilizados para el calculo de las predicciones.\n",
        "        La fila es el numero de los puntos para calcular las predicciones,\n",
        "        y las columnas con el numero de caracteristicas.\n",
        "\n",
        "    Devuelve\n",
        "    -------\n",
        "    p : array_like\n",
        "        Predicciones y 0 o 1 para cada fila en X.\n",
        "    \"\"\"\n",
        "    m = X.shape[0] # Numero de ejemplo de entrenamiento\n",
        "\n",
        "    p = np.zeros(m)\n",
        "\n",
        "    p = np.round(sigmoid(X.dot(theta.T)))\n",
        "    return p"
      ]
    },
    {
      "cell_type": "code",
      "execution_count": 41,
      "metadata": {
        "colab": {
          "base_uri": "https://localhost:8080/"
        },
        "id": "TSsOVeju4SVi",
        "outputId": "1e4c83a7-1213-4c33-e2e4-5ae3eb4c4f86"
      },
      "outputs": [
        {
          "name": "stdout",
          "output_type": "stream",
          "text": [
            "7.124576406741285e-218\n",
            "Precisión de entrenamiento: 92.04 %\n"
          ]
        }
      ],
      "source": [
        "#  Predice la probabilidad de ingreso para un estudiante con nota de 45 en el examen 1 y nota de 85 en el examen 2\n",
        "prob = sigmoid(np.dot([1, 596.0, 1.0, 1.0, 32.0, 3.0, 96709.07, 2.0, 0.0, 0.0, 41788.37], theta))\n",
        "print (prob)\n",
        "# print('Para un estudiante con notas de 45 y 85, se predice una probabilidad de admisión de: {:.3f}%'.format(prob))\n",
        "# print('Valor esperado: 0.775 +/- 0.002\\n')\n",
        "\n",
        "# Compute accuracy on our training set\n",
        "p = predict(theta, X)\n",
        "print('Precisión de entrenamiento: {:.2f} %'.format(np.mean(p == y) * 100))\n",
        "# print('Precisión esperada (aproximadamente): 92.04 %')"
      ]
    }
  ],
  "metadata": {
    "colab": {
      "provenance": []
    },
    "kernelspec": {
      "display_name": "Python 3",
      "name": "python3"
    },
    "language_info": {
      "codemirror_mode": {
        "name": "ipython",
        "version": 3
      },
      "file_extension": ".py",
      "mimetype": "text/x-python",
      "name": "python",
      "nbconvert_exporter": "python",
      "pygments_lexer": "ipython3",
      "version": "3.11.4"
    }
  },
  "nbformat": 4,
  "nbformat_minor": 0
}
