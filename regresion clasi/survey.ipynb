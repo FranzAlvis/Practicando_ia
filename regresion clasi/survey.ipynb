{
  "cells": [
    {
      "cell_type": "code",
      "execution_count": 1,
      "metadata": {
        "id": "GYTe60lFZlqg"
      },
      "outputs": [],
      "source": [
        "import pandas as pd"
      ]
    },
    {
      "cell_type": "code",
      "execution_count": 2,
      "metadata": {
        "id": "oIlq_6NJZys6"
      },
      "outputs": [],
      "source": [
        "# Importar libreria para dividir entrenamiento y prueba\n",
        "from sklearn.model_selection import train_test_split"
      ]
    },
    {
      "cell_type": "code",
      "execution_count": 3,
      "metadata": {
        "id": "mwiCvk28bbzn"
      },
      "outputs": [],
      "source": [
        "# se utiliza para el manejo de rutas y directorios.\n",
        "import os\n",
        "\n",
        "# Calculo cientifico y vectorial para python\n",
        "import numpy as np\n",
        "\n",
        "# Librerias para graficar\n",
        "from matplotlib import pyplot\n",
        "\n",
        "# Modulo de optimización de scipy\n",
        "from scipy import optimize\n",
        "\n",
        "# se utiliza para codificar variables categóricas en variables numéricas\n",
        "from sklearn.preprocessing import LabelEncoder\n",
        "\n",
        "# le dice a matplotlib que incruste gráficos en el cuaderno\n",
        "%matplotlib inline"
      ]
    },
    {
      "cell_type": "code",
      "execution_count": 4,
      "metadata": {
        "id": "RMxR0SB8Z1sj"
      },
      "outputs": [],
      "source": [
        "#Carga de dataset\n",
        "data = pd.read_csv('survey lung cancer.csv', header=0)"
      ]
    },
    {
      "cell_type": "code",
      "execution_count": 5,
      "metadata": {
        "colab": {
          "base_uri": "https://localhost:8080/"
        },
        "id": "0Jyw2zxjaR-U",
        "outputId": "6610c2a9-ea50-4a2a-cf4c-e6cacba8f923"
      },
      "outputs": [
        {
          "name": "stdout",
          "output_type": "stream",
          "text": [
            "<class 'pandas.core.frame.DataFrame'>\n",
            "RangeIndex: 309 entries, 0 to 308\n",
            "Data columns (total 16 columns):\n",
            " #   Column                 Non-Null Count  Dtype \n",
            "---  ------                 --------------  ----- \n",
            " 0   GENDER                 309 non-null    object\n",
            " 1   AGE                    309 non-null    int64 \n",
            " 2   SMOKING                309 non-null    int64 \n",
            " 3   YELLOW_FINGERS         309 non-null    int64 \n",
            " 4   ANXIETY                309 non-null    int64 \n",
            " 5   PEER_PRESSURE          309 non-null    int64 \n",
            " 6   CHRONIC DISEASE        309 non-null    int64 \n",
            " 7   FATIGUE                309 non-null    int64 \n",
            " 8   ALLERGY                309 non-null    int64 \n",
            " 9   WHEEZING               309 non-null    int64 \n",
            " 10  ALCOHOL CONSUMING      309 non-null    int64 \n",
            " 11  COUGHING               309 non-null    int64 \n",
            " 12  SHORTNESS OF BREATH    309 non-null    int64 \n",
            " 13  SWALLOWING DIFFICULTY  309 non-null    int64 \n",
            " 14  CHEST PAIN             309 non-null    int64 \n",
            " 15  LUNG_CANCER            309 non-null    object\n",
            "dtypes: int64(14), object(2)\n",
            "memory usage: 38.8+ KB\n"
          ]
        }
      ],
      "source": [
        "data.info()"
      ]
    },
    {
      "cell_type": "code",
      "execution_count": 6,
      "metadata": {
        "id": "AKSw7ln5a7jj"
      },
      "outputs": [],
      "source": [
        "columnas_categoricas = data.select_dtypes(include=['object']).columns"
      ]
    },
    {
      "cell_type": "code",
      "execution_count": 7,
      "metadata": {
        "colab": {
          "base_uri": "https://localhost:8080/"
        },
        "id": "ucH0lDRua_YA",
        "outputId": "96ff807b-b521-48a0-e57c-fb05b06bbd6d"
      },
      "outputs": [
        {
          "name": "stdout",
          "output_type": "stream",
          "text": [
            "Index(['GENDER', 'LUNG_CANCER'], dtype='object')\n"
          ]
        }
      ],
      "source": [
        "print(columnas_categoricas)"
      ]
    },
    {
      "cell_type": "code",
      "execution_count": 8,
      "metadata": {
        "id": "PjUv370gbDg0"
      },
      "outputs": [],
      "source": [
        "#Procesamiento de frases o palabras\n",
        "for columna in columnas_categoricas:\n",
        "  # se crea una instancia (se utiliza para convetir categoricos a numericos)\n",
        "  le = LabelEncoder()\n",
        "  # cambia de categoricos a numericos unico\n",
        "  data[columna] = le.fit_transform(data[columna])"
      ]
    },
    {
      "cell_type": "code",
      "execution_count": 9,
      "metadata": {
        "colab": {
          "base_uri": "https://localhost:8080/"
        },
        "id": "IRxaUhWsbrKH",
        "outputId": "109e5db0-9cd7-4501-fc86-092116b29acb"
      },
      "outputs": [
        {
          "name": "stdout",
          "output_type": "stream",
          "text": [
            "<class 'pandas.core.frame.DataFrame'>\n",
            "RangeIndex: 309 entries, 0 to 308\n",
            "Data columns (total 16 columns):\n",
            " #   Column                 Non-Null Count  Dtype\n",
            "---  ------                 --------------  -----\n",
            " 0   GENDER                 309 non-null    int32\n",
            " 1   AGE                    309 non-null    int64\n",
            " 2   SMOKING                309 non-null    int64\n",
            " 3   YELLOW_FINGERS         309 non-null    int64\n",
            " 4   ANXIETY                309 non-null    int64\n",
            " 5   PEER_PRESSURE          309 non-null    int64\n",
            " 6   CHRONIC DISEASE        309 non-null    int64\n",
            " 7   FATIGUE                309 non-null    int64\n",
            " 8   ALLERGY                309 non-null    int64\n",
            " 9   WHEEZING               309 non-null    int64\n",
            " 10  ALCOHOL CONSUMING      309 non-null    int64\n",
            " 11  COUGHING               309 non-null    int64\n",
            " 12  SHORTNESS OF BREATH    309 non-null    int64\n",
            " 13  SWALLOWING DIFFICULTY  309 non-null    int64\n",
            " 14  CHEST PAIN             309 non-null    int64\n",
            " 15  LUNG_CANCER            309 non-null    int32\n",
            "dtypes: int32(2), int64(14)\n",
            "memory usage: 36.3 KB\n"
          ]
        }
      ],
      "source": [
        "data.info()"
      ]
    },
    {
      "cell_type": "code",
      "execution_count": 10,
      "metadata": {},
      "outputs": [
        {
          "name": "stdout",
          "output_type": "stream",
          "text": [
            "Test longitud 62, Train longitud 247\n"
          ]
        }
      ],
      "source": [
        "longitud = 309\n",
        "train_long = longitud - longitud * 0.2\n",
        "test_long = longitud - longitud * 0.8\n",
        "print(f'Test longitud {int(np.round(test_long))}, Train longitud {int(train_long)}')"
      ]
    },
    {
      "cell_type": "code",
      "execution_count": 11,
      "metadata": {
        "id": "aqZEZRsVbtvr"
      },
      "outputs": [],
      "source": [
        "# Division de dataset en entrenamiento y prueba\n",
        "train_data, test_data = train_test_split(data, test_size=0.2, random_state=42)"
      ]
    },
    {
      "cell_type": "code",
      "execution_count": 12,
      "metadata": {
        "colab": {
          "base_uri": "https://localhost:8080/"
        },
        "id": "Aka-O-racCDn",
        "outputId": "cbcfd354-59c7-4c81-b4b1-a76dc7cc9c82"
      },
      "outputs": [
        {
          "name": "stdout",
          "output_type": "stream",
          "text": [
            "<class 'pandas.core.frame.DataFrame'>\n",
            "Index: 247 entries, 126 to 102\n",
            "Data columns (total 16 columns):\n",
            " #   Column                 Non-Null Count  Dtype\n",
            "---  ------                 --------------  -----\n",
            " 0   GENDER                 247 non-null    int32\n",
            " 1   AGE                    247 non-null    int64\n",
            " 2   SMOKING                247 non-null    int64\n",
            " 3   YELLOW_FINGERS         247 non-null    int64\n",
            " 4   ANXIETY                247 non-null    int64\n",
            " 5   PEER_PRESSURE          247 non-null    int64\n",
            " 6   CHRONIC DISEASE        247 non-null    int64\n",
            " 7   FATIGUE                247 non-null    int64\n",
            " 8   ALLERGY                247 non-null    int64\n",
            " 9   WHEEZING               247 non-null    int64\n",
            " 10  ALCOHOL CONSUMING      247 non-null    int64\n",
            " 11  COUGHING               247 non-null    int64\n",
            " 12  SHORTNESS OF BREATH    247 non-null    int64\n",
            " 13  SWALLOWING DIFFICULTY  247 non-null    int64\n",
            " 14  CHEST PAIN             247 non-null    int64\n",
            " 15  LUNG_CANCER            247 non-null    int32\n",
            "dtypes: int32(2), int64(14)\n",
            "memory usage: 30.9 KB\n"
          ]
        }
      ],
      "source": [
        "train_data.info()"
      ]
    },
    {
      "cell_type": "code",
      "execution_count": 13,
      "metadata": {
        "colab": {
          "base_uri": "https://localhost:8080/"
        },
        "id": "Md89vT7YcFgr",
        "outputId": "a57a0918-f0de-49e4-d543-fa2b84b1b118"
      },
      "outputs": [
        {
          "name": "stdout",
          "output_type": "stream",
          "text": [
            "<class 'pandas.core.frame.DataFrame'>\n",
            "Index: 62 entries, 288 to 158\n",
            "Data columns (total 16 columns):\n",
            " #   Column                 Non-Null Count  Dtype\n",
            "---  ------                 --------------  -----\n",
            " 0   GENDER                 62 non-null     int32\n",
            " 1   AGE                    62 non-null     int64\n",
            " 2   SMOKING                62 non-null     int64\n",
            " 3   YELLOW_FINGERS         62 non-null     int64\n",
            " 4   ANXIETY                62 non-null     int64\n",
            " 5   PEER_PRESSURE          62 non-null     int64\n",
            " 6   CHRONIC DISEASE        62 non-null     int64\n",
            " 7   FATIGUE                62 non-null     int64\n",
            " 8   ALLERGY                62 non-null     int64\n",
            " 9   WHEEZING               62 non-null     int64\n",
            " 10  ALCOHOL CONSUMING      62 non-null     int64\n",
            " 11  COUGHING               62 non-null     int64\n",
            " 12  SHORTNESS OF BREATH    62 non-null     int64\n",
            " 13  SWALLOWING DIFFICULTY  62 non-null     int64\n",
            " 14  CHEST PAIN             62 non-null     int64\n",
            " 15  LUNG_CANCER            62 non-null     int32\n",
            "dtypes: int32(2), int64(14)\n",
            "memory usage: 7.8 KB\n"
          ]
        }
      ],
      "source": [
        "test_data.info()"
      ]
    },
    {
      "cell_type": "code",
      "execution_count": 14,
      "metadata": {
        "id": "eDzcIEGhcG-9"
      },
      "outputs": [],
      "source": [
        "train_data.to_csv(\"train.csv\", index=False)"
      ]
    },
    {
      "cell_type": "code",
      "execution_count": 15,
      "metadata": {
        "id": "otTXytTncKkK"
      },
      "outputs": [],
      "source": [
        "test_data.to_csv(\"test.csv\", index=False)"
      ]
    },
    {
      "cell_type": "code",
      "execution_count": 16,
      "metadata": {
        "id": "hXUAby4kcOA1"
      },
      "outputs": [],
      "source": [
        "#Carga de dataset\n",
        "data = pd.read_csv('train.csv')"
      ]
    },
    {
      "cell_type": "code",
      "execution_count": 17,
      "metadata": {
        "colab": {
          "base_uri": "https://localhost:8080/"
        },
        "id": "hVj41oeEfIU9",
        "outputId": "1ee6c842-1e5a-4581-f0a2-32a4fb03a167"
      },
      "outputs": [
        {
          "name": "stdout",
          "output_type": "stream",
          "text": [
            "<class 'pandas.core.frame.DataFrame'>\n",
            "RangeIndex: 247 entries, 0 to 246\n",
            "Data columns (total 16 columns):\n",
            " #   Column                 Non-Null Count  Dtype\n",
            "---  ------                 --------------  -----\n",
            " 0   GENDER                 247 non-null    int64\n",
            " 1   AGE                    247 non-null    int64\n",
            " 2   SMOKING                247 non-null    int64\n",
            " 3   YELLOW_FINGERS         247 non-null    int64\n",
            " 4   ANXIETY                247 non-null    int64\n",
            " 5   PEER_PRESSURE          247 non-null    int64\n",
            " 6   CHRONIC DISEASE        247 non-null    int64\n",
            " 7   FATIGUE                247 non-null    int64\n",
            " 8   ALLERGY                247 non-null    int64\n",
            " 9   WHEEZING               247 non-null    int64\n",
            " 10  ALCOHOL CONSUMING      247 non-null    int64\n",
            " 11  COUGHING               247 non-null    int64\n",
            " 12  SHORTNESS OF BREATH    247 non-null    int64\n",
            " 13  SWALLOWING DIFFICULTY  247 non-null    int64\n",
            " 14  CHEST PAIN             247 non-null    int64\n",
            " 15  LUNG_CANCER            247 non-null    int64\n",
            "dtypes: int64(16)\n",
            "memory usage: 31.0 KB\n"
          ]
        }
      ],
      "source": [
        "data.info()"
      ]
    },
    {
      "cell_type": "code",
      "execution_count": 18,
      "metadata": {
        "id": "HuV8mvxLcR5b"
      },
      "outputs": [],
      "source": [
        "X = data.iloc[:, :15]\n",
        "y = data.iloc[:, 15]\n",
        "m = y.size"
      ]
    },
    {
      "cell_type": "code",
      "execution_count": 19,
      "metadata": {
        "colab": {
          "base_uri": "https://localhost:8080/"
        },
        "id": "96wj6J7ocUo7",
        "outputId": "4ae83aec-d479-44a1-c198-305987eafb58"
      },
      "outputs": [
        {
          "name": "stdout",
          "output_type": "stream",
          "text": [
            "     GENDER  AGE  SMOKING  YELLOW_FINGERS  ANXIETY  PEER_PRESSURE  \\\n",
            "0         1   51        2               1        1              1   \n",
            "1         1   53        1               1        1              1   \n",
            "2         1   67        1               2        1              1   \n",
            "3         1   77        1               2        1              2   \n",
            "4         1   74        2               1        1              1   \n",
            "..      ...  ...      ...             ...      ...            ...   \n",
            "242       1   65        2               2        2              2   \n",
            "243       0   66        2               2        2              2   \n",
            "244       0   61        2               2        2              2   \n",
            "245       0   70        2               1        1              1   \n",
            "246       1   64        2               1        1              1   \n",
            "\n",
            "     CHRONIC DISEASE  FATIGUE   ALLERGY   WHEEZING  ALCOHOL CONSUMING  \\\n",
            "0                  1         2         1         2                  2   \n",
            "1                  2         2         2         1                  2   \n",
            "2                  1         2         1         2                  2   \n",
            "3                  1         2         2         2                  2   \n",
            "4                  2         2         2         2                  2   \n",
            "..               ...       ...       ...       ...                ...   \n",
            "242                2         1         1         1                  1   \n",
            "243                1         2         1         2                  1   \n",
            "244                2         2         1         1                  1   \n",
            "245                1         2         1         1                  1   \n",
            "246                1         2         2         2                  2   \n",
            "\n",
            "     COUGHING  SHORTNESS OF BREATH  SWALLOWING DIFFICULTY  CHEST PAIN  \n",
            "0           2                    2                      1           2  \n",
            "1           1                    2                      1           2  \n",
            "2           2                    2                      1           1  \n",
            "3           2                    1                      1           1  \n",
            "4           1                    1                      2           2  \n",
            "..        ...                  ...                    ...         ...  \n",
            "242         1                    1                      1           1  \n",
            "243         2                    2                      2           1  \n",
            "244         1                    2                      2           1  \n",
            "245         1                    2                      1           1  \n",
            "246         2                    2                      1           2  \n",
            "\n",
            "[247 rows x 15 columns]\n",
            "*************************\n",
            "0      1\n",
            "1      1\n",
            "2      1\n",
            "3      1\n",
            "4      1\n",
            "      ..\n",
            "242    1\n",
            "243    1\n",
            "244    1\n",
            "245    0\n",
            "246    1\n",
            "Name: LUNG_CANCER, Length: 247, dtype: int64\n"
          ]
        }
      ],
      "source": [
        "print(X)\n",
        "print('*'*25)\n",
        "print(y)"
      ]
    },
    {
      "cell_type": "code",
      "execution_count": 20,
      "metadata": {
        "colab": {
          "base_uri": "https://localhost:8080/"
        },
        "id": "ykV-r6x4pnqx",
        "outputId": "52dcf0cb-38f4-4543-e11b-f1a1a66fee59"
      },
      "outputs": [
        {
          "name": "stdout",
          "output_type": "stream",
          "text": [
            "<class 'pandas.core.frame.DataFrame'>\n",
            "RangeIndex: 247 entries, 0 to 246\n",
            "Data columns (total 16 columns):\n",
            " #   Column                 Non-Null Count  Dtype\n",
            "---  ------                 --------------  -----\n",
            " 0   GENDER                 247 non-null    int64\n",
            " 1   AGE                    247 non-null    int64\n",
            " 2   SMOKING                247 non-null    int64\n",
            " 3   YELLOW_FINGERS         247 non-null    int64\n",
            " 4   ANXIETY                247 non-null    int64\n",
            " 5   PEER_PRESSURE          247 non-null    int64\n",
            " 6   CHRONIC DISEASE        247 non-null    int64\n",
            " 7   FATIGUE                247 non-null    int64\n",
            " 8   ALLERGY                247 non-null    int64\n",
            " 9   WHEEZING               247 non-null    int64\n",
            " 10  ALCOHOL CONSUMING      247 non-null    int64\n",
            " 11  COUGHING               247 non-null    int64\n",
            " 12  SHORTNESS OF BREATH    247 non-null    int64\n",
            " 13  SWALLOWING DIFFICULTY  247 non-null    int64\n",
            " 14  CHEST PAIN             247 non-null    int64\n",
            " 15  LUNG_CANCER            247 non-null    int64\n",
            "dtypes: int64(16)\n",
            "memory usage: 31.0 KB\n"
          ]
        }
      ],
      "source": [
        "data.info()"
      ]
    },
    {
      "cell_type": "code",
      "execution_count": 21,
      "metadata": {
        "id": "CDG5hG29cYkc"
      },
      "outputs": [],
      "source": [
        "def sigmoid(z):\n",
        "    # Calcula la sigmoide de una entrada z\n",
        "    # Convierte la entrada a un arreglo numpy\n",
        "    z = np.array(z)\n",
        "\n",
        "    # Limita los valores de z para evitar overflow\n",
        "    z = np.clip(z, -500, 500)\n",
        "\n",
        "    g = 1 / (1 + np.exp(-z))\n",
        "\n",
        "    return g"
      ]
    },
    {
      "cell_type": "code",
      "execution_count": 22,
      "metadata": {
        "colab": {
          "base_uri": "https://localhost:8080/"
        },
        "id": "qFFcepVNkikm",
        "outputId": "4c600bc5-01c1-4bb8-aea4-48f5c3e71688"
      },
      "outputs": [
        {
          "name": "stdout",
          "output_type": "stream",
          "text": [
            "g( 0.5 ) =  0.6224593312018546\n"
          ]
        }
      ],
      "source": [
        "# Prueba la implementacion de la funcion sigmoid\n",
        "z = 0.5\n",
        "g = sigmoid(z)\n",
        "\n",
        "print('g(', z, ') = ', g)"
      ]
    },
    {
      "cell_type": "code",
      "execution_count": 23,
      "metadata": {
        "id": "iZTfAttKyypr"
      },
      "outputs": [],
      "source": [
        "def  featureNormalize(X):\n",
        "    # Se crea una copia del conjunto de datos X para evitar modificar los datos originales.\n",
        "    X_norm = X.copy()\n",
        "    # se crea un arreglo de 0 para almacenar la media y desviacion estandar\n",
        "    mu = np.zeros(X.shape[1])\n",
        "    sigma = np.zeros(X.shape[1])\n",
        "\n",
        "    # media\n",
        "    mu = np.mean(X, axis = 0)\n",
        "    # desviacion estandar\n",
        "    sigma = np.std(X, axis = 0)\n",
        "    X_norm = (X - mu) / sigma\n",
        "\n",
        "    return X_norm, mu, sigma"
      ]
    },
    {
      "cell_type": "code",
      "execution_count": 24,
      "metadata": {
        "colab": {
          "base_uri": "https://localhost:8080/"
        },
        "id": "gPx4IrL2yy-c",
        "outputId": "1ca5634f-88b8-407c-a1e3-82bb16075515"
      },
      "outputs": [
        {
          "name": "stdout",
          "output_type": "stream",
          "text": [
            "     GENDER  AGE  SMOKING  YELLOW_FINGERS  ANXIETY  PEER_PRESSURE  \\\n",
            "0         1   51        2               1        1              1   \n",
            "1         1   53        1               1        1              1   \n",
            "2         1   67        1               2        1              1   \n",
            "3         1   77        1               2        1              2   \n",
            "4         1   74        2               1        1              1   \n",
            "..      ...  ...      ...             ...      ...            ...   \n",
            "242       1   65        2               2        2              2   \n",
            "243       0   66        2               2        2              2   \n",
            "244       0   61        2               2        2              2   \n",
            "245       0   70        2               1        1              1   \n",
            "246       1   64        2               1        1              1   \n",
            "\n",
            "     CHRONIC DISEASE  FATIGUE   ALLERGY   WHEEZING  ALCOHOL CONSUMING  \\\n",
            "0                  1         2         1         2                  2   \n",
            "1                  2         2         2         1                  2   \n",
            "2                  1         2         1         2                  2   \n",
            "3                  1         2         2         2                  2   \n",
            "4                  2         2         2         2                  2   \n",
            "..               ...       ...       ...       ...                ...   \n",
            "242                2         1         1         1                  1   \n",
            "243                1         2         1         2                  1   \n",
            "244                2         2         1         1                  1   \n",
            "245                1         2         1         1                  1   \n",
            "246                1         2         2         2                  2   \n",
            "\n",
            "     COUGHING  SHORTNESS OF BREATH  SWALLOWING DIFFICULTY  CHEST PAIN  \n",
            "0           2                    2                      1           2  \n",
            "1           1                    2                      1           2  \n",
            "2           2                    2                      1           1  \n",
            "3           2                    1                      1           1  \n",
            "4           1                    1                      2           2  \n",
            "..        ...                  ...                    ...         ...  \n",
            "242         1                    1                      1           1  \n",
            "243         2                    2                      2           1  \n",
            "244         1                    2                      2           1  \n",
            "245         1                    2                      1           1  \n",
            "246         2                    2                      1           2  \n",
            "\n",
            "[247 rows x 15 columns]\n",
            "********************\n",
            "Media calculada: GENDER                    0.534413\n",
            "AGE                      62.246964\n",
            "SMOKING                   1.566802\n",
            "YELLOW_FINGERS            1.542510\n",
            "ANXIETY                   1.477733\n",
            "PEER_PRESSURE             1.493927\n",
            "CHRONIC DISEASE           1.481781\n",
            "FATIGUE                   1.708502\n",
            "ALLERGY                   1.534413\n",
            "WHEEZING                  1.542510\n",
            "ALCOHOL CONSUMING         1.542510\n",
            "COUGHING                  1.582996\n",
            "SHORTNESS OF BREATH       1.659919\n",
            "SWALLOWING DIFFICULTY     1.429150\n",
            "CHEST PAIN                1.542510\n",
            "dtype: float64\n",
            "********************\n",
            "Desviación estandar calculada: GENDER                   0.498814\n",
            "AGE                      8.061488\n",
            "SMOKING                  0.495517\n",
            "YELLOW_FINGERS           0.498190\n",
            "ANXIETY                  0.499504\n",
            "PEER_PRESSURE            0.499963\n",
            "CHRONIC DISEASE          0.499668\n",
            "FATIGUE                  0.454452\n",
            "ALLERGY                  0.498814\n",
            "WHEEZING                 0.498190\n",
            "ALCOHOL CONSUMING        0.498190\n",
            "COUGHING                 0.493064\n",
            "SHORTNESS OF BREATH      0.473736\n",
            "SWALLOWING DIFFICULTY    0.494955\n",
            "CHEST PAIN               0.498190\n",
            "dtype: float64\n",
            "********************\n",
            "       GENDER       AGE   SMOKING  YELLOW_FINGERS   ANXIETY  PEER_PRESSURE  \\\n",
            "0    0.933387 -1.395147  0.874234       -1.088963 -0.956414      -0.987927   \n",
            "1    0.933387 -1.147054 -1.143858       -1.088963 -0.956414      -0.987927   \n",
            "2    0.933387  0.589598 -1.143858        0.918305 -0.956414      -0.987927   \n",
            "3    0.933387  1.830064 -1.143858        0.918305 -0.956414       1.012220   \n",
            "4    0.933387  1.457924  0.874234       -1.088963 -0.956414      -0.987927   \n",
            "..        ...       ...       ...             ...       ...            ...   \n",
            "242  0.933387  0.341505  0.874234        0.918305  1.045572       1.012220   \n",
            "243 -1.071366  0.465551  0.874234        0.918305  1.045572       1.012220   \n",
            "244 -1.071366 -0.154682  0.874234        0.918305  1.045572       1.012220   \n",
            "245 -1.071366  0.961738  0.874234       -1.088963 -0.956414      -0.987927   \n",
            "246  0.933387  0.217458  0.874234       -1.088963 -0.956414      -0.987927   \n",
            "\n",
            "     CHRONIC DISEASE  FATIGUE   ALLERGY   WHEEZING  ALCOHOL CONSUMING  \\\n",
            "0          -0.964203  0.641427 -1.071366  0.918305           0.918305   \n",
            "1           1.037126  0.641427  0.933387 -1.088963           0.918305   \n",
            "2          -0.964203  0.641427 -1.071366  0.918305           0.918305   \n",
            "3          -0.964203  0.641427  0.933387  0.918305           0.918305   \n",
            "4           1.037126  0.641427  0.933387  0.918305           0.918305   \n",
            "..               ...       ...       ...       ...                ...   \n",
            "242         1.037126 -1.559024 -1.071366 -1.088963          -1.088963   \n",
            "243        -0.964203  0.641427 -1.071366  0.918305          -1.088963   \n",
            "244         1.037126  0.641427 -1.071366 -1.088963          -1.088963   \n",
            "245        -0.964203  0.641427 -1.071366 -1.088963          -1.088963   \n",
            "246        -0.964203  0.641427  0.933387  0.918305           0.918305   \n",
            "\n",
            "     COUGHING  SHORTNESS OF BREATH  SWALLOWING DIFFICULTY  CHEST PAIN  \n",
            "0    0.845741              0.71787              -0.867048    0.918305  \n",
            "1   -1.182395              0.71787              -0.867048    0.918305  \n",
            "2    0.845741              0.71787              -0.867048   -1.088963  \n",
            "3    0.845741             -1.39301              -0.867048   -1.088963  \n",
            "4   -1.182395             -1.39301               1.153338    0.918305  \n",
            "..        ...                  ...                    ...         ...  \n",
            "242 -1.182395             -1.39301              -0.867048   -1.088963  \n",
            "243  0.845741              0.71787               1.153338   -1.088963  \n",
            "244 -1.182395              0.71787               1.153338   -1.088963  \n",
            "245 -1.182395              0.71787              -0.867048   -1.088963  \n",
            "246  0.845741              0.71787              -0.867048    0.918305  \n",
            "\n",
            "[247 rows x 15 columns]\n"
          ]
        }
      ],
      "source": [
        "# llama featureNormalize con los datos cargados\n",
        "X_norm, mu, sigma = featureNormalize(X)\n",
        "\n",
        "print(X)\n",
        "print('*'*20)\n",
        "print('Media calculada:', mu)\n",
        "print('*'*20)\n",
        "print('Desviación estandar calculada:', sigma)\n",
        "print('*'*20)\n",
        "print(X_norm)"
      ]
    },
    {
      "cell_type": "code",
      "execution_count": 25,
      "metadata": {
        "colab": {
          "base_uri": "https://localhost:8080/"
        },
        "id": "UY1-Z3cbca-0",
        "outputId": "5bdc1a87-e66e-43e9-e5b4-1e335ce8d212"
      },
      "outputs": [
        {
          "name": "stdout",
          "output_type": "stream",
          "text": [
            "247\n",
            "15\n",
            "[[ 1.          0.93338744 -1.39514731 ...  0.71787006 -0.86704847\n",
            "   0.91830473]\n",
            " [ 1.          0.93338744 -1.14705416 ...  0.71787006 -0.86704847\n",
            "   0.91830473]\n",
            " [ 1.          0.93338744  0.58959789 ...  0.71787006 -0.86704847\n",
            "  -1.08896313]\n",
            " ...\n",
            " [ 1.         -1.07136646 -0.15468156 ...  0.71787006  1.15333806\n",
            "  -1.08896313]\n",
            " [ 1.         -1.07136646  0.96173762 ...  0.71787006 -0.86704847\n",
            "  -1.08896313]\n",
            " [ 1.          0.93338744  0.21745817 ...  0.71787006 -0.86704847\n",
            "   0.91830473]]\n"
          ]
        }
      ],
      "source": [
        "# Configurar la matriz adecuadamente, y agregar una columna de unos que corresponde al termino de intercepción.\n",
        "m, n = X.shape\n",
        "print(m)\n",
        "print(n)\n",
        "# Agrega el termino de intercepción a A\n",
        "X = np.concatenate([np.ones((m, 1)), X_norm], axis=1)\n",
        "\n",
        "print(X)"
      ]
    },
    {
      "cell_type": "code",
      "execution_count": 26,
      "metadata": {
        "id": "DNRZ1Xn2cfHy"
      },
      "outputs": [],
      "source": [
        "def calcularCosto(theta, X, y):\n",
        "    # Inicializar algunos valores utiles\n",
        "    m = y.size  # numero de ejemplos de entrenamiento\n",
        "    #epsilon = 1e-8\n",
        "\n",
        "    J = 0\n",
        "    h = sigmoid(X.dot(theta.T))\n",
        "\n",
        "    epsilon = 1e-10  # Un valor pequeño para evitar divisiones por cero\n",
        "    J = (1 / m) * np.sum(-y.dot(np.log(h + epsilon)) - (1 - y).dot(np.log(1 - h + epsilon)))\n",
        "\n",
        "    # J = (1 / m) * np.sum(-y.dot(np.log(h)) - (1 - y).dot(np.log(1 - h)))\n",
        "\n",
        "    return J"
      ]
    },
    {
      "cell_type": "code",
      "execution_count": 27,
      "metadata": {
        "id": "p0WEMERTchvl"
      },
      "outputs": [],
      "source": [
        "def descensoGradiente(theta, X, y, alpha, num_iters):\n",
        "    # Inicializa algunos valores\n",
        "    m = y.shape[0] # numero de ejemplos de entrenamiento\n",
        "\n",
        "    # realiza una copia de theta, el cual será acutalizada por el descenso por el gradiente\n",
        "    theta = theta.copy()\n",
        "    J_history = []\n",
        "\n",
        "    for i in range(num_iters):\n",
        "        h = sigmoid(X.dot(theta.T))\n",
        "        theta = theta - (alpha / m) * (h - y).dot(X)\n",
        "\n",
        "        J_history.append(calcularCosto(theta, X, y))\n",
        "    return theta, J_history"
      ]
    },
    {
      "cell_type": "code",
      "execution_count": 28,
      "metadata": {
        "colab": {
          "base_uri": "https://localhost:8080/"
        },
        "id": "-tfQ3ZUVvm5r",
        "outputId": "dd274a43-ecca-4b2a-e531-98b71b1c64c0"
      },
      "outputs": [
        {
          "name": "stdout",
          "output_type": "stream",
          "text": [
            "    GENDER  AGE  SMOKING  YELLOW_FINGERS  ANXIETY  PEER_PRESSURE  \\\n",
            "0        0   61        1               2        2              2   \n",
            "1        1   53        2               2        2              2   \n",
            "2        1   73        1               1        1              1   \n",
            "3        1   70        1               2        1              2   \n",
            "4        1   65        1               2        2              1   \n",
            "..     ...  ...      ...             ...      ...            ...   \n",
            "57       0   73        2               2        2              1   \n",
            "58       1   69        1               2        2              1   \n",
            "59       1   54        2               1        1              1   \n",
            "60       0   62        2               1        1              2   \n",
            "61       0   56        1               1        2              2   \n",
            "\n",
            "    CHRONIC DISEASE  FATIGUE   ALLERGY   WHEEZING  ALCOHOL CONSUMING  \\\n",
            "0                 1         1         2         2                  1   \n",
            "1                 2         1         2         1                  2   \n",
            "2                 2         1         2         1                  2   \n",
            "3                 2         2         2         2                  2   \n",
            "4                 1         2         1         2                  2   \n",
            "..              ...       ...       ...       ...                ...   \n",
            "57                2         1         2         1                  2   \n",
            "58                1         1         1         2                  2   \n",
            "59                1         1         2         2                  2   \n",
            "60                1         2         2         2                  2   \n",
            "61                2         2         2         2                  2   \n",
            "\n",
            "    COUGHING  SHORTNESS OF BREATH  SWALLOWING DIFFICULTY  CHEST PAIN  \\\n",
            "0          2                    1                      2           1   \n",
            "1          1                    1                      2           2   \n",
            "2          2                    2                      2           2   \n",
            "3          2                    1                      2           2   \n",
            "4          2                    2                      2           2   \n",
            "..       ...                  ...                    ...         ...   \n",
            "57         1                    1                      1           1   \n",
            "58         2                    2                      2           1   \n",
            "59         2                    1                      1           1   \n",
            "60         2                    1                      2           2   \n",
            "61         1                    2                      2           2   \n",
            "\n",
            "    LUNG_CANCER  \n",
            "0             1  \n",
            "1             1  \n",
            "2             1  \n",
            "3             1  \n",
            "4             1  \n",
            "..          ...  \n",
            "57            1  \n",
            "58            1  \n",
            "59            1  \n",
            "60            1  \n",
            "61            1  \n",
            "\n",
            "[62 rows x 16 columns]\n"
          ]
        }
      ],
      "source": [
        "data = pd.read_csv('test.csv')\n",
        "print(data)"
      ]
    },
    {
      "cell_type": "code",
      "execution_count": 29,
      "metadata": {
        "colab": {
          "base_uri": "https://localhost:8080/"
        },
        "id": "WvyALuMecmRF",
        "outputId": "7496f889-556f-4c88-b4d0-2fe87129bb6d"
      },
      "outputs": [
        {
          "name": "stdout",
          "output_type": "stream",
          "text": [
            "[1, 56, 2, 1, 1, 1, 1, 2, 2, 2, 2, 2, 2, 1, 2, 1]\n"
          ]
        }
      ],
      "source": [
        "fila_deseada = 49\n",
        "\n",
        "if fila_deseada < len(data):\n",
        "  fila_completa = data.iloc[fila_deseada].tolist()\n",
        "  print(fila_completa)\n",
        "else:\n",
        "  print(\"La fila no existe\")"
      ]
    },
    {
      "cell_type": "code",
      "execution_count": 30,
      "metadata": {
        "colab": {
          "base_uri": "https://localhost:8080/",
          "height": 503
        },
        "id": "F565FrXpcwoW",
        "outputId": "b18f0d22-5abc-4f87-ea44-b20090d80ce4"
      },
      "outputs": [
        {
          "name": "stdout",
          "output_type": "stream",
          "text": [
            "theta calculado por el descenso por el gradiente: [ 4.05805977 -0.2308383   0.20036878  0.76019325  0.72664265  0.37976252\n",
            "  0.69791789  1.28952603  1.18383635  0.58372118  0.30434349  0.90328457\n",
            "  1.22280887 -0.18817412  1.30432741  0.38651529]\n",
            "0.999999999999881\n"
          ]
        },
        {
          "data": {
            "image/png": "[encoded data removed]",
            "text/plain": [
              "<Figure size 640x480 with 1 Axes>"
            ]
          },
          "metadata": {},
          "output_type": "display_data"
        }
      ],
      "source": [
        "# Elegir algun valor para alpha (probar varias alternativas)\n",
        "alpha = 0.03 #0.001\n",
        "num_iters = 10000 # 100\n",
        "\n",
        "# inicializa theta y ejecuta el descenso por el gradiente\n",
        "theta = np.zeros(16)\n",
        "theta, J_history = descensoGradiente(theta, X, y, alpha, num_iters)\n",
        "\n",
        "# Grafica la convergencia del costo\n",
        "pyplot.plot(np.arange(len(J_history)), J_history, lw=2)\n",
        "pyplot.xlabel('Numero de iteraciones')\n",
        "pyplot.ylabel('Costo J')\n",
        "\n",
        "# Muestra los resultados del descenso por el gradiente\n",
        "print('theta calculado por el descenso por el gradiente: {:s}'.format(str(theta)))\n",
        "\n",
        "X_array = [1, 1, 56, 2, 1, 1, 1, 1, 2, 2, 2, 2, 2, 2, 1, 2]\n",
        "# mean = np.mean(X_array)\n",
        "# std = np.std(X_array)\n",
        "# X_array = (X_array - mean) / std\n",
        "\n",
        "\n",
        "z = np.dot(X_array, theta)\n",
        "probability = sigmoid(z)\n",
        "\n",
        "print(probability)\n",
        "\n",
        "# print(f\" (usando el descenso por el gradiente):{aprueba}\")\n",
        "#0.9124981079062219"
      ]
    },
    {
      "cell_type": "code",
      "execution_count": 31,
      "metadata": {
        "id": "Mgcbo1tE3ST5"
      },
      "outputs": [],
      "source": [
        "def costFunction(theta, X, y):\n",
        "    # Inicializar algunos valores utiles\n",
        "    m = y.size  # numero de ejemplos de entrenamiento\n",
        "\n",
        "    J = 0\n",
        "    grad = np.zeros(theta.shape)\n",
        "\n",
        "    h = sigmoid(X.dot(theta.T))\n",
        "\n",
        "    epsilon = 1e-10  # Un valor pequeño para evitar divisiones por cero\n",
        "    J = (1 / m) * np.sum(-y.dot(np.log(h + epsilon)) - (1 - y).dot(np.log(1 - h + epsilon)))\n",
        "    grad = (1 / m) * (h - y).dot(X)\n",
        "\n",
        "    return J, grad"
      ]
    },
    {
      "cell_type": "code",
      "execution_count": 32,
      "metadata": {
        "colab": {
          "base_uri": "https://localhost:8080/"
        },
        "id": "x5SOQsk63W_E",
        "outputId": "f3e1d19e-e0df-4aed-dc4f-1f129b7b4611"
      },
      "outputs": [
        {
          "name": "stdout",
          "output_type": "stream",
          "text": [
            "[0. 0. 0. 0. 0. 0. 0. 0. 0. 0. 0. 0. 0. 0. 0. 0.]\n",
            "Costo en theta inicial (zeros): 0.693\n",
            "Costo esperado (aproximado): 0.693\n",
            "\n",
            "[-0.35020243 -0.03062549 -0.0302019  -0.02427969 -0.06560495 -0.05411128\n",
            " -0.06701145 -0.03910217 -0.07318125 -0.11990603 -0.08998472 -0.11436449\n",
            " -0.09500915 -0.02920196 -0.09716294 -0.07373154]\n"
          ]
        }
      ],
      "source": [
        "# Inicializacion de parametros de ajuste\n",
        "initial_theta = np.zeros(n+1)\n",
        "print(initial_theta)\n",
        "cost, grad = costFunction(initial_theta, X, y)\n",
        "print('Costo en theta inicial (zeros): {:.3f}'.format(cost))\n",
        "print('Costo esperado (aproximado): 0.693\\n')\n",
        "print(grad)"
      ]
    },
    {
      "cell_type": "code",
      "execution_count": 45,
      "metadata": {
        "colab": {
          "base_uri": "https://localhost:8080/"
        },
        "id": "jXodMk173lKJ",
        "outputId": "325523c5-9b89-4d58-c1b9-0d760e0d8209"
      },
      "outputs": [
        {
          "name": "stdout",
          "output_type": "stream",
          "text": [
            "[ 1  1 56  2  1  1  1  1  2  2  2  2  2  2  1  2]\n",
            "Costo en theta prueba: 8.442\n",
            "Gradiente en theta prueba:\n",
            "\t[-0.370, 0.065, 0.344, -0.009, -0.077, -0.035, -0.083, -0.063, -0.041, -0.042, -0.036, -0.042, 0.009, -0.012, -0.125, -0.067]\n"
          ]
        }
      ],
      "source": [
        "# Calcula y muestra el costo y el gradiente con valores de theta diferentes a cero\n",
        "\n",
        "test_theta = np.array([1, 1, 56, 2, 1, 1, 1, 1, 2, 2, 2, 2, 2, 2, 1, 2])\n",
        "#test_theta = np.array([-11.74749157, 0.09927308, 0.09316497])\n",
        "print(test_theta)\n",
        "cost, grad = costFunction(test_theta, X, y)\n",
        "\n",
        "print('Costo en theta prueba: {:.3f}'.format(cost))\n",
        "\n",
        "print('Gradiente en theta prueba:')\n",
        "print('\\t[{:.3f}, {:.3f}, {:.3f}, {:.3f}, {:.3f}, {:.3f}, {:.3f}, {:.3f}, {:.3f}, {:.3f}, {:.3f}, {:.3f}, {:.3f}, {:.3f}, {:.3f}, {:.3f}]'.format(*grad))"
      ]
    },
    {
      "cell_type": "code",
      "execution_count": 47,
      "metadata": {
        "colab": {
          "base_uri": "https://localhost:8080/"
        },
        "id": "iKEM1dub34Ny",
        "outputId": "691373c4-6ee1-4117-cf1e-98a90dd211d6"
      },
      "outputs": [
        {
          "name": "stdout",
          "output_type": "stream",
          "text": [
            "Costo con un valor de theta encontrado por optimize.minimize: 0.166\n",
            "Costo esperado (aproximado): 0.218\n",
            "\n",
            "theta:\n",
            "\t[4.544, -0.253, 0.206, 0.908, 0.747, 0.383, 0.770, 1.535, 1.368, 0.565, 0.247, 0.921, 1.523, -0.299, 1.661, 0.417]\n"
          ]
        }
      ],
      "source": [
        "# Establecer las opciones para optimize.minimize\n",
        "# options= {'maxiter': 1000}\n",
        "options= {}\n",
        "\n",
        "# revisar la documentacion de scipy's optimize.minimize para mayor descripcion de los parametros\n",
        "# La funcion devuekve un objeto `OptimizeResult`\n",
        "# Se utiliza el algoritmo de Newton truncado para la optimización.\n",
        "res = optimize.minimize(costFunction,\n",
        "                        initial_theta,\n",
        "                        (X, y),\n",
        "                        jac=True,\n",
        "                        method='TNC',\n",
        "                        options=options)\n",
        "\n",
        "# la propiedad fun del objeto devuelto por `OptimizeResult`\n",
        "# contiene el valor del costFunction de un theta optimizado\n",
        "cost = res.fun\n",
        "\n",
        "# Theta optimizada esta en la propiedad x\n",
        "theta = res.x\n",
        "\n",
        "# Imprimir theta en la pantalla\n",
        "print('Costo con un valor de theta encontrado por optimize.minimize: {:.3f}'.format(cost))\n",
        "print('Costo esperado (aproximado): 0.218\\n');\n",
        "\n",
        "print('theta:')\n",
        "print('\\t[{:.3f}, {:.3f}, {:.3f}, {:.3f}, {:.3f}, {:.3f}, {:.3f}, {:.3f}, {:.3f}, {:.3f}, {:.3f}, {:.3f}, {:.3f}, {:.3f}, {:.3f}, {:.3f}]'.format(*theta))"
      ]
    },
    {
      "cell_type": "code",
      "execution_count": 48,
      "metadata": {
        "id": "7lrQrvgk4pIK"
      },
      "outputs": [],
      "source": [
        "def plotData(X, y):\n",
        "    # Gragica los puntos de datos X y y en una nueva figura. Grafica los puntos de datos con * para los positivos y\n",
        "    # o para los negativos.\n",
        "\n",
        "    # Crea una nueva figura\n",
        "    fig = pyplot.figure()\n",
        "\n",
        "    # Find Indices of Positive and Negative Examples\n",
        "    pos = y == 1\n",
        "    neg = y == 0\n",
        "\n",
        "    # Plot Examples\n",
        "    pyplot.plot(X[pos, 0], X[pos, 1], 'k*', lw=2, ms=10)\n",
        "    pyplot.plot(X[neg, 0], X[neg, 1], 'ko', mfc='y', ms=8, mec='k', mew=1)"
      ]
    },
    {
      "cell_type": "code",
      "execution_count": 49,
      "metadata": {
        "id": "DihSeh0D3-Sw"
      },
      "outputs": [],
      "source": [
        "def plotDecisionBoundary(plotData, theta, X, y):\n",
        "    \"\"\"\n",
        "    Grafica los puntos X y Y en una nueva figura con un limite de desicion definido por theta.\n",
        "    the data points X and y into a new figure with the decision boundary defined by theta.\n",
        "    Grafica los puntos con * para los ejemplos positivos y con o para los ejemplos negativos.\n",
        "\n",
        "    Parametros:\n",
        "    ----------\n",
        "    plotData : func\n",
        "        A function reference for plotting the X, y data.\n",
        "\n",
        "    theta : array_like\n",
        "        Parametros para la regresion logistica. Un vecto de la forma (n+1, ).\n",
        "\n",
        "    X : array_like\n",
        "        Data set de entrada. Se supone que X es una de las siguientes:\n",
        "            1) Matriz Mx3, donde la primera columna es una columna de unos para intercepción.\n",
        "            2) Matriz MxN, N> 3, donde la primera columna son todos unos.\n",
        "\n",
        "    y : array_like\n",
        "        Vector de datos de etiquetas de la forma (m, ).\n",
        "    \"\"\"\n",
        "    # hacer que theta sera un arreglo numpy\n",
        "    theta = np.array(theta)\n",
        "      # Graficar los datos (recordar que la primera columna en X es la intercepción)\n",
        "    plotData(X[:, 1:3], y)\n",
        "\n",
        "    if X.shape[1] <= 3:\n",
        "        # Solo se requieren 2 puntos para definir una linea, para lo cual se eligen dos puntos finales\n",
        "        plot_x = np.array([np.min(X[:, 1]) - 2, np.max(X[:, 1]) + 2])\n",
        "\n",
        "        # Calcular la línea límite de decisión\n",
        "        plot_y = (-1. / theta[2]) * (theta[1] * plot_x + theta[0])\n",
        "\n",
        "        # Graficar la línea límite de decisión\n",
        "        pyplot.plot(plot_x, plot_y)\n",
        "\n",
        "        # Leyenda, específica para el ejercicio\n",
        "        pyplot.legend(['Aceptado', 'No aceptado', 'Límite de decisión'])\n",
        "        pyplot.xlim([30, 100])\n",
        "        pyplot.ylim([30, 100])\n",
        "    else:\n",
        "       # Rango de la grilla\n",
        "        u = np.linspace(-1, 1.5, 50)\n",
        "        v = np.linspace(-1, 1.5, 50)\n",
        "\n",
        "        z = np.zeros((len(u), len(v)))\n",
        "        # Evaluar z = theta*x sobre la grilla\n",
        "        for i, ui in enumerate(u):\n",
        "            for j, vj in enumerate(v):\n",
        "                z[i, j] = np.dot(mapFeature(ui, vj), theta)\n",
        "\n",
        "        z = z.T  # Importante transponer z antes de llamar al contorno\n",
        "\n",
        "        # Plot z = 0 como contorno y z < 0 como región negativa\n",
        "        pyplot.contour(u, v, z, levels=[0], linewidths=2, colors='g')\n",
        "        pyplot.contourf(u, v, z, levels=[np.min(z), 0, np.max(z)], cmap='Greens', alpha=0.4)\n"
      ]
    },
    {
      "cell_type": "code",
      "execution_count": 51,
      "metadata": {
        "colab": {
          "base_uri": "https://localhost:8080/",
          "height": 739
        },
        "id": "4_OilYbW4JHl",
        "outputId": "87bfc8f4-fffb-46ba-9dd3-7e272f16f641"
      },
      "outputs": [
        {
          "ename": "NameError",
          "evalue": "name 'mapFeature' is not defined",
          "output_type": "error",
          "traceback": [
            "\u001b[1;31m---------------------------------------------------------------------------\u001b[0m",
            "\u001b[1;31mNameError\u001b[0m                                 Traceback (most recent call last)",
            "\u001b[1;32mc:\\Users\\Franz\\Desktop\\practica ia\\regresion clasi\\survey.ipynb Cell 37\u001b[0m line \u001b[0;36m2\n\u001b[0;32m      <a href='vscode-notebook-cell:/c%3A/Users/Franz/Desktop/practica%20ia/regresion%20clasi/survey.ipynb#X52sZmlsZQ%3D%3D?line=0'>1</a>\u001b[0m \u001b[39m# Graficar limites\u001b[39;00m\n\u001b[1;32m----> <a href='vscode-notebook-cell:/c%3A/Users/Franz/Desktop/practica%20ia/regresion%20clasi/survey.ipynb#X52sZmlsZQ%3D%3D?line=1'>2</a>\u001b[0m plotDecisionBoundary(plotData, theta, X, y)\n",
            "\u001b[1;32mc:\\Users\\Franz\\Desktop\\practica ia\\regresion clasi\\survey.ipynb Cell 37\u001b[0m line \u001b[0;36m5\n\u001b[0;32m     <a href='vscode-notebook-cell:/c%3A/Users/Franz/Desktop/practica%20ia/regresion%20clasi/survey.ipynb#X52sZmlsZQ%3D%3D?line=48'>49</a>\u001b[0m \u001b[39mfor\u001b[39;00m i, ui \u001b[39min\u001b[39;00m \u001b[39menumerate\u001b[39m(u):\n\u001b[0;32m     <a href='vscode-notebook-cell:/c%3A/Users/Franz/Desktop/practica%20ia/regresion%20clasi/survey.ipynb#X52sZmlsZQ%3D%3D?line=49'>50</a>\u001b[0m     \u001b[39mfor\u001b[39;00m j, vj \u001b[39min\u001b[39;00m \u001b[39menumerate\u001b[39m(v):\n\u001b[1;32m---> <a href='vscode-notebook-cell:/c%3A/Users/Franz/Desktop/practica%20ia/regresion%20clasi/survey.ipynb#X52sZmlsZQ%3D%3D?line=50'>51</a>\u001b[0m         z[i, j] \u001b[39m=\u001b[39m np\u001b[39m.\u001b[39mdot(mapFeature(ui, vj), theta)\n\u001b[0;32m     <a href='vscode-notebook-cell:/c%3A/Users/Franz/Desktop/practica%20ia/regresion%20clasi/survey.ipynb#X52sZmlsZQ%3D%3D?line=52'>53</a>\u001b[0m z \u001b[39m=\u001b[39m z\u001b[39m.\u001b[39mT  \u001b[39m# Importante transponer z antes de llamar al contorno\u001b[39;00m\n\u001b[0;32m     <a href='vscode-notebook-cell:/c%3A/Users/Franz/Desktop/practica%20ia/regresion%20clasi/survey.ipynb#X52sZmlsZQ%3D%3D?line=54'>55</a>\u001b[0m \u001b[39m# Plot z = 0 como contorno y z < 0 como región negativa\u001b[39;00m\n",
            "\u001b[1;31mNameError\u001b[0m: name 'mapFeature' is not defined"
          ]
        },
        {
          "data": {
            "image/png": "[encoded data removed]",
            "text/plain": [
              "<Figure size 640x480 with 1 Axes>"
            ]
          },
          "metadata": {},
          "output_type": "display_data"
        }
      ],
      "source": [
        "# Graficar limites\n",
        "plotDecisionBoundary(plotData, theta, X, y)"
      ]
    },
    {
      "cell_type": "code",
      "execution_count": 52,
      "metadata": {
        "id": "rebzLSHv4Pez"
      },
      "outputs": [],
      "source": [
        "def predict(theta, X):\n",
        "    \"\"\"\n",
        "    Predecir si la etiqueta es 0 o 1 mediante regresión logística aprendida.\n",
        "    Calcula las predicciones para X usando un umbral en 0.5 (es decir, si sigmoide (theta.T * x)> = 0.5, predice 1)\n",
        "\n",
        "    Parametros\n",
        "    ----------\n",
        "    theta : array_like\n",
        "        Parametros para regresion logistica. Un vecto de la forma (n+1, ).\n",
        "\n",
        "    X : array_like\n",
        "        Datos utilizados para el calculo de las predicciones.\n",
        "        La fila es el numero de los puntos para calcular las predicciones,\n",
        "        y las columnas con el numero de caracteristicas.\n",
        "\n",
        "    Devuelve\n",
        "    -------\n",
        "    p : array_like\n",
        "        Predicciones y 0 o 1 para cada fila en X.\n",
        "    \"\"\"\n",
        "    m = X.shape[0] # Numero de ejemplo de entrenamiento\n",
        "\n",
        "    p = np.zeros(m)\n",
        "\n",
        "    p = np.round(sigmoid(X.dot(theta.T)))\n",
        "    return p"
      ]
    },
    {
      "cell_type": "code",
      "execution_count": 53,
      "metadata": {
        "colab": {
          "base_uri": "https://localhost:8080/"
        },
        "id": "TSsOVeju4SVi",
        "outputId": "1e4c83a7-1213-4c33-e2e4-5ae3eb4c4f86"
      },
      "outputs": [
        {
          "name": "stdout",
          "output_type": "stream",
          "text": [
            "0.99999999999999\n",
            "Precisión de entrenamiento: 93.93 %\n"
          ]
        }
      ],
      "source": [
        "#  Predice la probabilidad de ingreso para un estudiante con nota de 45 en el examen 1 y nota de 85 en el examen 2\n",
        "prob = sigmoid(np.dot([1, 1, 56, 2, 1, 1, 1, 1, 2, 2, 2, 2, 2, 2, 1, 2], theta))\n",
        "print (prob)\n",
        "# print('Para un estudiante con notas de 45 y 85, se predice una probabilidad de admisión de: {:.3f}%'.format(prob))\n",
        "# print('Valor esperado: 0.775 +/- 0.002\\n')\n",
        "\n",
        "# Compute accuracy on our training set\n",
        "p = predict(theta, X)\n",
        "print('Precisión de entrenamiento: {:.2f} %'.format(np.mean(p == y) * 100))\n",
        "# print('Precisión esperada (aproximadamente): 92.04 %')"
      ]
    }
  ],
  "metadata": {
    "colab": {
      "provenance": []
    },
    "kernelspec": {
      "display_name": "Python 3",
      "name": "python3"
    },
    "language_info": {
      "codemirror_mode": {
        "name": "ipython",
        "version": 3
      },
      "file_extension": ".py",
      "mimetype": "text/x-python",
      "name": "python",
      "nbconvert_exporter": "python",
      "pygments_lexer": "ipython3",
      "version": "3.11.5"
    }
  },
  "nbformat": 4,
  "nbformat_minor": 0
}
