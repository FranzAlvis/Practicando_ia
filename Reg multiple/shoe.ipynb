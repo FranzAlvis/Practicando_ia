{
  "cells": [
    {
      "cell_type": "code",
      "execution_count": 4,
      "metadata": {
        "id": "E1LanRqLBTQ6"
      },
      "outputs": [],
      "source": [
        "# utilizado para manejos de directorios y rutas\n",
        "import os\n",
        "\n",
        "# Computacion vectorial y cientifica para python\n",
        "# Para realizar cálculos numéricos y operaciones vectoriales\n",
        "import numpy as np\n",
        "\n",
        "# Librerias para graficación (trazado de gráficos)\n",
        "from matplotlib import pyplot\n",
        "# Necesario para graficar superficies 3D\n",
        "from mpl_toolkits.mplot3d import Axes3D\n",
        "\n",
        "# Muestra las gráficas dentro del cuaderno\n",
        "%matplotlib inline"
      ]
    },
    {
      "cell_type": "code",
      "execution_count": 5,
      "metadata": {
        "id": "3lvDWRgfB6BK"
      },
      "outputs": [],
      "source": [
        "# importando pandas para el analisis de datos\n",
        "import pandas as pd\n",
        "# se utiliza para codificar variables categóricas en variables numéricas\n",
        "from sklearn.preprocessing import LabelEncoder\n",
        "\n",
        "#from datetime import datetime"
      ]
    },
    {
      "cell_type": "code",
      "execution_count": 6,
      "metadata": {
        "id": "w4Ay7RiqCAZI"
      },
      "outputs": [],
      "source": [
        "#Carga de dataset\n",
        "data = pd.read_csv('Shoe prices.csv')"
      ]
    },
    {
      "cell_type": "code",
      "execution_count": 7,
      "metadata": {
        "colab": {
          "base_uri": "https://localhost:8080/"
        },
        "id": "d3-8qV_0NdTn",
        "outputId": "8de1058c-8375-461e-fdd7-23ea46014bff"
      },
      "outputs": [
        {
          "name": "stdout",
          "output_type": "stream",
          "text": [
            "<class 'pandas.core.frame.DataFrame'>\n"
          ]
        }
      ],
      "source": [
        "print(type(data))"
      ]
    },
    {
      "cell_type": "code",
      "execution_count": 8,
      "metadata": {
        "colab": {
          "base_uri": "https://localhost:8080/"
        },
        "id": "le1t0OrvCEY1",
        "outputId": "06e29da8-6702-45c1-b8b0-7aa724f43486"
      },
      "outputs": [
        {
          "name": "stdout",
          "output_type": "stream",
          "text": [
            "            Brand              Model        Type Gender    Size      Color  \\\n",
            "0            Nike       Air Jordan 1  Basketball    Men   US 10  Red/Black   \n",
            "1          Adidas     Ultra Boost 21     Running    Men  US 9.5      Black   \n",
            "2          Reebok    Classic Leather      Casual    Men   US 11      White   \n",
            "3        Converse       Chuck Taylor      Casual  Women    US 8       Navy   \n",
            "4            Puma       Future Rider   Lifestyle  Women  US 7.5       Pink   \n",
            "...           ...                ...         ...    ...     ...        ...   \n",
            "1001  New Balance  Fresh Foam 880v11     Running  Women   US 10       Grey   \n",
            "1002        Asics    Gel-Kayano Lite     Running    Men  US 9.5      Black   \n",
            "1003         Fila           Venom 94     Fashion  Women  US 7.5      White   \n",
            "1004     Skechers            Summits    Training    Men    US 8       Grey   \n",
            "1005         Nike         Air Max 97     Running  Women  US 7.5     Silver   \n",
            "\n",
            "       Material Price (USD)  \n",
            "0       Leather    $170.00   \n",
            "1     Primeknit    $180.00   \n",
            "2       Leather     $75.00   \n",
            "3        Canvas     $55.00   \n",
            "4          Mesh     $80.00   \n",
            "...         ...         ...  \n",
            "1001       Mesh    $130.00   \n",
            "1002       Mesh    $160.00   \n",
            "1003    Leather     $70.00   \n",
            "1004       Mesh     $55.00   \n",
            "1005    Leather    $170.00   \n",
            "\n",
            "[1006 rows x 8 columns]\n"
          ]
        }
      ],
      "source": [
        "print(data)"
      ]
    },
    {
      "cell_type": "code",
      "execution_count": 9,
      "metadata": {
        "colab": {
          "base_uri": "https://localhost:8080/"
        },
        "id": "hQW0l3iECGd_",
        "outputId": "421933be-1499-4748-86cc-44b82dc44d91"
      },
      "outputs": [
        {
          "name": "stdout",
          "output_type": "stream",
          "text": [
            "<class 'pandas.core.frame.DataFrame'>\n",
            "RangeIndex: 1006 entries, 0 to 1005\n",
            "Data columns (total 8 columns):\n",
            " #   Column       Non-Null Count  Dtype \n",
            "---  ------       --------------  ----- \n",
            " 0   Brand        1006 non-null   object\n",
            " 1   Model        1006 non-null   object\n",
            " 2   Type         1006 non-null   object\n",
            " 3   Gender       1006 non-null   object\n",
            " 4   Size         1006 non-null   object\n",
            " 5   Color        1006 non-null   object\n",
            " 6   Material     1006 non-null   object\n",
            " 7   Price (USD)  1006 non-null   object\n",
            "dtypes: object(8)\n",
            "memory usage: 63.0+ KB\n"
          ]
        }
      ],
      "source": [
        "data.info()"
      ]
    },
    {
      "cell_type": "code",
      "execution_count": 10,
      "metadata": {
        "id": "r4U2gfb7CIM-"
      },
      "outputs": [],
      "source": [
        "columnas_eliminar = ['Price (USD)']\n",
        "simbolo = '$'\n",
        "\n",
        "# solo se pone en bucle una vez ya que hay un solo dato en la lista.\n",
        "for columna in columnas_eliminar:\n",
        "    # str.replace es metodo de pandas\n",
        "    # se asegura que el símbolo \"$\" se trate como una cadena literal en lugar de una expresión regular\n",
        "    data[columna] = data[columna].str.replace(simbolo, '', regex=False)"
      ]
    },
    {
      "cell_type": "code",
      "execution_count": 11,
      "metadata": {
        "colab": {
          "base_uri": "https://localhost:8080/"
        },
        "id": "bJ56Nq0dCKqm",
        "outputId": "3ab27adb-437a-45af-adce-5c08d29a31ae"
      },
      "outputs": [
        {
          "name": "stdout",
          "output_type": "stream",
          "text": [
            "            Brand              Model        Type Gender    Size      Color  \\\n",
            "0            Nike       Air Jordan 1  Basketball    Men   US 10  Red/Black   \n",
            "1          Adidas     Ultra Boost 21     Running    Men  US 9.5      Black   \n",
            "2          Reebok    Classic Leather      Casual    Men   US 11      White   \n",
            "3        Converse       Chuck Taylor      Casual  Women    US 8       Navy   \n",
            "4            Puma       Future Rider   Lifestyle  Women  US 7.5       Pink   \n",
            "...           ...                ...         ...    ...     ...        ...   \n",
            "1001  New Balance  Fresh Foam 880v11     Running  Women   US 10       Grey   \n",
            "1002        Asics    Gel-Kayano Lite     Running    Men  US 9.5      Black   \n",
            "1003         Fila           Venom 94     Fashion  Women  US 7.5      White   \n",
            "1004     Skechers            Summits    Training    Men    US 8       Grey   \n",
            "1005         Nike         Air Max 97     Running  Women  US 7.5     Silver   \n",
            "\n",
            "       Material Price (USD)  \n",
            "0       Leather     170.00   \n",
            "1     Primeknit     180.00   \n",
            "2       Leather      75.00   \n",
            "3        Canvas      55.00   \n",
            "4          Mesh      80.00   \n",
            "...         ...         ...  \n",
            "1001       Mesh     130.00   \n",
            "1002       Mesh     160.00   \n",
            "1003    Leather      70.00   \n",
            "1004       Mesh      55.00   \n",
            "1005    Leather     170.00   \n",
            "\n",
            "[1006 rows x 8 columns]\n"
          ]
        }
      ],
      "source": [
        "print(data)"
      ]
    },
    {
      "cell_type": "code",
      "execution_count": 12,
      "metadata": {
        "colab": {
          "base_uri": "https://localhost:8080/"
        },
        "id": "y80bJ3bqCN3P",
        "outputId": "7dbec9f0-12ff-4a32-e64c-db59cd09910f"
      },
      "outputs": [
        {
          "name": "stdout",
          "output_type": "stream",
          "text": [
            "<class 'pandas.core.frame.DataFrame'>\n",
            "RangeIndex: 1006 entries, 0 to 1005\n",
            "Data columns (total 8 columns):\n",
            " #   Column       Non-Null Count  Dtype \n",
            "---  ------       --------------  ----- \n",
            " 0   Brand        1006 non-null   object\n",
            " 1   Model        1006 non-null   object\n",
            " 2   Type         1006 non-null   object\n",
            " 3   Gender       1006 non-null   object\n",
            " 4   Size         1006 non-null   object\n",
            " 5   Color        1006 non-null   object\n",
            " 6   Material     1006 non-null   object\n",
            " 7   Price (USD)  1006 non-null   object\n",
            "dtypes: object(8)\n",
            "memory usage: 63.0+ KB\n"
          ]
        }
      ],
      "source": [
        "data.info()"
      ]
    },
    {
      "cell_type": "code",
      "execution_count": 13,
      "metadata": {
        "id": "jMs6LXEBCPY3"
      },
      "outputs": [],
      "source": [
        "# Supongamos que 'data' es tu DataFrame\n",
        "columna_categorica = 'Price (USD)'\n",
        "columna_numerica = 'Price'\n",
        "\n",
        "# Crea una nueva columna numérica y copia los valores de la columna categórica\n",
        "# to_numeric se utiliza para cambiar de categoricas a numericas\n",
        "# El parámetro errors='coerce' indica que si hay valores no numéricos se establescan como NaN en la nueva columna.\n",
        "data[columna_numerica] = pd.to_numeric(data[columna_categorica], errors='coerce')\n",
        "\n",
        "# Elimina la columna categórica original\n",
        "# axis indica que solo se eliminara una columna\n",
        "# inplace indica que se debe modificar directamente en el data\n",
        "data.drop(columna_categorica, axis=1, inplace=True)"
      ]
    },
    {
      "cell_type": "code",
      "execution_count": 14,
      "metadata": {
        "colab": {
          "base_uri": "https://localhost:8080/"
        },
        "id": "LmBDR8JGCP5e",
        "outputId": "0cf2cbb0-ca6b-4b65-854a-c90d8220392c"
      },
      "outputs": [
        {
          "name": "stdout",
          "output_type": "stream",
          "text": [
            "<class 'pandas.core.frame.DataFrame'>\n",
            "RangeIndex: 1006 entries, 0 to 1005\n",
            "Data columns (total 8 columns):\n",
            " #   Column    Non-Null Count  Dtype  \n",
            "---  ------    --------------  -----  \n",
            " 0   Brand     1006 non-null   object \n",
            " 1   Model     1006 non-null   object \n",
            " 2   Type      1006 non-null   object \n",
            " 3   Gender    1006 non-null   object \n",
            " 4   Size      1006 non-null   object \n",
            " 5   Color     1006 non-null   object \n",
            " 6   Material  1006 non-null   object \n",
            " 7   Price     1006 non-null   float64\n",
            "dtypes: float64(1), object(7)\n",
            "memory usage: 63.0+ KB\n"
          ]
        }
      ],
      "source": [
        "data.info()"
      ]
    },
    {
      "cell_type": "code",
      "execution_count": 15,
      "metadata": {
        "id": "JEaGZAkmCSNh"
      },
      "outputs": [],
      "source": [
        "#variables categoricas\n",
        "# con select_dtypes seleccionamos las columnas de data de tipo object\n",
        "columnas_categoricas = data.select_dtypes(include=['object']).columns"
      ]
    },
    {
      "cell_type": "code",
      "execution_count": 16,
      "metadata": {
        "colab": {
          "base_uri": "https://localhost:8080/"
        },
        "id": "66YjpWZDN3Ab",
        "outputId": "832a2531-e70c-4427-c746-6e148c165ef5"
      },
      "outputs": [
        {
          "name": "stdout",
          "output_type": "stream",
          "text": [
            "Index(['Brand', 'Model', 'Type', 'Gender', 'Size', 'Color', 'Material'], dtype='object')\n"
          ]
        }
      ],
      "source": [
        "print(columnas_categoricas)"
      ]
    },
    {
      "cell_type": "code",
      "execution_count": 17,
      "metadata": {
        "id": "HcKJjKJaCUDp"
      },
      "outputs": [],
      "source": [
        "#Procesamiento de frases o palabras\n",
        "for columna in columnas_categoricas:\n",
        "  # se crea una instancia (se utiliza para convetir categoricos a numericos)\n",
        "  le = LabelEncoder()\n",
        "  # cambia de categoricos a numericos unico\n",
        "  data[columna] = le.fit_transform(data[columna])"
      ]
    },
    {
      "cell_type": "code",
      "execution_count": 18,
      "metadata": {
        "colab": {
          "base_uri": "https://localhost:8080/"
        },
        "id": "wcRPk-WwCVeM",
        "outputId": "40bbc99f-f644-428a-bef0-c064c6242d67"
      },
      "outputs": [
        {
          "name": "stdout",
          "output_type": "stream",
          "text": [
            "      Brand  Model  Type  Gender  Size  Color  Material  Price\n",
            "0         5     17     0       0     0     61        10  170.0\n",
            "1         0    212    10       0    12      1        20  180.0\n",
            "2         7     49     1       0     2     67        10   75.0\n",
            "3         2     48     1       1     9     52         0   55.0\n",
            "4         6    105     7       1     8     56        14   80.0\n",
            "...     ...    ...   ...     ...   ...    ...       ...    ...\n",
            "1001      4     89    10       1     0     39        14  130.0\n",
            "1002      1    123    10       0    12      1        14  160.0\n",
            "1003      3    225     5       1     8     67        10   70.0\n",
            "1004      8    202    15       0     9     39        14   55.0\n",
            "1005      5     22    10       1     8     63        10  170.0\n",
            "\n",
            "[1006 rows x 8 columns]\n"
          ]
        }
      ],
      "source": [
        "#resultado\n",
        "print(data)"
      ]
    },
    {
      "cell_type": "code",
      "execution_count": 19,
      "metadata": {
        "colab": {
          "base_uri": "https://localhost:8080/"
        },
        "id": "9JxRNO0TCa1A",
        "outputId": "1087fa3c-2075-4ffb-9f80-4287b926e7ed"
      },
      "outputs": [
        {
          "name": "stdout",
          "output_type": "stream",
          "text": [
            "<class 'pandas.core.frame.DataFrame'>\n",
            "RangeIndex: 1006 entries, 0 to 1005\n",
            "Data columns (total 8 columns):\n",
            " #   Column    Non-Null Count  Dtype  \n",
            "---  ------    --------------  -----  \n",
            " 0   Brand     1006 non-null   int32  \n",
            " 1   Model     1006 non-null   int32  \n",
            " 2   Type      1006 non-null   int32  \n",
            " 3   Gender    1006 non-null   int32  \n",
            " 4   Size      1006 non-null   int32  \n",
            " 5   Color     1006 non-null   int32  \n",
            " 6   Material  1006 non-null   int32  \n",
            " 7   Price     1006 non-null   float64\n",
            "dtypes: float64(1), int32(7)\n",
            "memory usage: 35.5 KB\n"
          ]
        }
      ],
      "source": [
        "data.info()"
      ]
    },
    {
      "cell_type": "code",
      "execution_count": 20,
      "metadata": {
        "id": "i7NgpjbcCdtk"
      },
      "outputs": [],
      "source": [
        "# Lectura de Datos\n",
        "# iloc accede a los datos\n",
        "# x me muestra las primeras 12 columnas\n",
        "X = data.iloc[:, :7]\n",
        "# y me muestra la ultima columna\n",
        "y = data.iloc[:, 7]\n",
        "m = y.size"
      ]
    },
    {
      "cell_type": "code",
      "execution_count": 21,
      "metadata": {
        "colab": {
          "base_uri": "https://localhost:8080/"
        },
        "id": "uYPXGZVYCe1O",
        "outputId": "0d71e05c-cca8-43a2-c060-b6488ccb8325"
      },
      "outputs": [
        {
          "name": "stdout",
          "output_type": "stream",
          "text": [
            "      Brand  Model  Type  Gender  Size  Color  Material\n",
            "0         5     17     0       0     0     61        10\n",
            "1         0    212    10       0    12      1        20\n",
            "2         7     49     1       0     2     67        10\n",
            "3         2     48     1       1     9     52         0\n",
            "4         6    105     7       1     8     56        14\n",
            "...     ...    ...   ...     ...   ...    ...       ...\n",
            "1001      4     89    10       1     0     39        14\n",
            "1002      1    123    10       0    12      1        14\n",
            "1003      3    225     5       1     8     67        10\n",
            "1004      8    202    15       0     9     39        14\n",
            "1005      5     22    10       1     8     63        10\n",
            "\n",
            "[1006 rows x 7 columns]\n",
            "********************\n",
            "0       170.0\n",
            "1       180.0\n",
            "2        75.0\n",
            "3        55.0\n",
            "4        80.0\n",
            "        ...  \n",
            "1001    130.0\n",
            "1002    160.0\n",
            "1003     70.0\n",
            "1004     55.0\n",
            "1005    170.0\n",
            "Name: Price, Length: 1006, dtype: float64\n",
            "********************\n",
            "1006\n"
          ]
        }
      ],
      "source": [
        "print(X)\n",
        "print('*'*20)\n",
        "print(y)\n",
        "print('*'*20)\n",
        "print(m)"
      ]
    },
    {
      "cell_type": "code",
      "execution_count": 22,
      "metadata": {
        "id": "pvFMCYz3CgZT"
      },
      "outputs": [],
      "source": [
        "def  featureNormalize(X):\n",
        "    # Se crea una copia del conjunto de datos X para evitar modificar los datos originales.\n",
        "    X_norm = X.copy()\n",
        "    # se crea un arreglo de 0 para almacenar la media y desviacion estandar\n",
        "    mu = np.zeros(X.shape[1])\n",
        "    sigma = np.zeros(X.shape[1])\n",
        "\n",
        "    # media\n",
        "    mu = np.mean(X, axis = 0)\n",
        "    # desviacion estandar\n",
        "    sigma = np.std(X, axis = 0)\n",
        "    X_norm = (X - mu) / sigma\n",
        "\n",
        "    return X_norm, mu, sigma"
      ]
    },
    {
      "cell_type": "code",
      "execution_count": 23,
      "metadata": {
        "colab": {
          "base_uri": "https://localhost:8080/"
        },
        "id": "JbYLEUd9ChzI",
        "outputId": "141ef607-dd32-4bd6-89ea-c7c182e7a573"
      },
      "outputs": [
        {
          "name": "stdout",
          "output_type": "stream",
          "text": [
            "      Brand  Model  Type  Gender  Size  Color  Material\n",
            "0         5     17     0       0     0     61        10\n",
            "1         0    212    10       0    12      1        20\n",
            "2         7     49     1       0     2     67        10\n",
            "3         2     48     1       1     9     52         0\n",
            "4         6    105     7       1     8     56        14\n",
            "...     ...    ...   ...     ...   ...    ...       ...\n",
            "1001      4     89    10       1     0     39        14\n",
            "1002      1    123    10       0    12      1        14\n",
            "1003      3    225     5       1     8     67        10\n",
            "1004      8    202    15       0     9     39        14\n",
            "1005      5     22    10       1     8     63        10\n",
            "\n",
            "[1006 rows x 7 columns]\n",
            "********************\n",
            "Media calculada: Brand         4.472167\n",
            "Model       118.103380\n",
            "Type          7.154076\n",
            "Gender        0.468191\n",
            "Size          7.089463\n",
            "Color        35.570577\n",
            "Material     13.236581\n",
            "dtype: float64\n",
            "********************\n",
            "Desviación estandar calculada: Brand        2.840477\n",
            "Model       68.314304\n",
            "Type         4.795118\n",
            "Gender       0.498987\n",
            "Size         4.015124\n",
            "Color       26.550535\n",
            "Material     7.749668\n",
            "dtype: float64\n",
            "********************\n",
            "         Brand     Model      Type    Gender      Size     Color  Material\n",
            "0     0.185825 -1.479974 -1.491950 -0.938282 -1.765690  0.957774 -0.417641\n",
            "1    -1.574442  1.374480  0.593505 -0.938282  1.223010 -1.302067  0.872737\n",
            "2     0.889933 -1.011551 -1.283404 -0.938282 -1.267573  1.183759 -0.417641\n",
            "3    -0.870335 -1.026189 -1.283404  1.065777  0.475835  0.618798 -1.708019\n",
            "4     0.537879 -0.191810 -0.032132  1.065777  0.226777  0.769454  0.098510\n",
            "...        ...       ...       ...       ...       ...       ...       ...\n",
            "1001 -0.166228 -0.426022  0.593505  1.065777 -1.765690  0.129166  0.098510\n",
            "1002 -1.222389  0.071678  0.593505 -0.938282  1.223010 -1.302067  0.098510\n",
            "1003 -0.518282  1.564777 -0.449223  1.065777  0.226777  1.183759 -0.417641\n",
            "1004  1.241986  1.228097  1.636232 -0.938282  0.475835  0.129166  0.098510\n",
            "1005  0.185825 -1.406783  0.593505  1.065777  0.226777  1.033102 -0.417641\n",
            "\n",
            "[1006 rows x 7 columns]\n"
          ]
        }
      ],
      "source": [
        "# llama featureNormalize con los datos cargados\n",
        "X_norm, mu, sigma = featureNormalize(X)\n",
        "\n",
        "print(X)\n",
        "print('*'*20)\n",
        "print('Media calculada:', mu)\n",
        "print('*'*20)\n",
        "print('Desviación estandar calculada:', sigma)\n",
        "print('*'*20)\n",
        "print(X_norm)"
      ]
    },
    {
      "cell_type": "code",
      "execution_count": 24,
      "metadata": {
        "id": "dDTv01IQCjCo"
      },
      "outputs": [],
      "source": [
        "# Añade el termino de interseccion a X\n",
        "# (Columna de unos para X0)\n",
        "# np.ones(m, numero de columnas)\n",
        "X = np.concatenate([np.ones((m, 1)), X_norm], axis=1)"
      ]
    },
    {
      "cell_type": "code",
      "execution_count": 25,
      "metadata": {
        "colab": {
          "base_uri": "https://localhost:8080/"
        },
        "id": "P7ZbX5dACki1",
        "outputId": "6e79faf8-86f7-42ec-d78a-eafaa9b04255"
      },
      "outputs": [
        {
          "name": "stdout",
          "output_type": "stream",
          "text": [
            "[[ 1.          0.18582547 -1.47997379 ... -1.76568972  0.95777443\n",
            "  -0.4176412 ]\n",
            " [ 1.         -1.57444213  1.37447964 ...  1.22300998 -1.30206705\n",
            "   0.87273671]\n",
            " [ 1.          0.8899325  -1.01155066 ... -1.2675731   1.18375858\n",
            "  -0.4176412 ]\n",
            " ...\n",
            " [ 1.         -0.51828157  1.56477653 ...  0.22677675  1.18375858\n",
            "  -0.4176412 ]\n",
            " [ 1.          1.24198602  1.22809741 ...  0.47583506  0.12916589\n",
            "   0.09850996]\n",
            " [ 1.          0.18582547 -1.40678267 ...  0.22677675  1.03310248\n",
            "  -0.4176412 ]]\n"
          ]
        }
      ],
      "source": [
        "print(X)"
      ]
    },
    {
      "cell_type": "code",
      "execution_count": 26,
      "metadata": {
        "id": "ehWgf5n5Clao"
      },
      "outputs": [],
      "source": [
        "def computeCostMulti(X, y, theta):\n",
        "    # Inicializa algunos valores utiles\n",
        "    # shape == devuelve el tamaño de la primera dimensión del arreglo\n",
        "    m = y.shape[0] # numero de ejemplos de entrenamiento\n",
        "\n",
        "    # valor del costo\n",
        "    J = 0\n",
        "\n",
        "    # Se calcula la hipótesis\n",
        "    h = np.dot(X, theta)\n",
        "\n",
        "    # square == elevado\n",
        "    J = (1/(2 * m)) * np.sum(np.square(np.dot(X, theta) - y))\n",
        "\n",
        "    return J"
      ]
    },
    {
      "cell_type": "code",
      "execution_count": 27,
      "metadata": {
        "id": "rpkI4gHmCnEv"
      },
      "outputs": [],
      "source": [
        "def gradientDescentMulti(X, y, theta, alpha, num_iters):\n",
        "\n",
        "    # Inicializa algunos valores\n",
        "    m = y.shape[0] # numero de ejemplos de entrenamiento\n",
        "\n",
        "    # realiza una copia de theta, el cual será actualizada por el descenso por el gradiente\n",
        "    theta = theta.copy()\n",
        "\n",
        "    J_history = []\n",
        "\n",
        "    for i in range(num_iters):\n",
        "        theta = theta - (alpha / m) * (np.dot(X, theta) - y).dot(X)\n",
        "        J_history.append(computeCostMulti(X, y, theta))\n",
        "\n",
        "    return theta, J_history"
      ]
    },
    {
      "cell_type": "code",
      "execution_count": 28,
      "metadata": {},
      "outputs": [
        {
          "name": "stdout",
          "output_type": "stream",
          "text": [
            "[7.0, 52.0, 1.0, 1.0, 10.0, 56.0, 10.0, 70.0]\n"
          ]
        }
      ],
      "source": [
        "fila_deseada = 12\n",
        "\n",
        "if fila_deseada < len(data):\n",
        "  fila_completa = data.iloc[fila_deseada].tolist()\n",
        "  print(fila_completa)\n",
        "else:\n",
        "  print(\"La fila no existe\")"
      ]
    },
    {
      "cell_type": "code",
      "execution_count": 29,
      "metadata": {
        "colab": {
          "base_uri": "https://localhost:8080/",
          "height": 518
        },
        "id": "dc2jDJmNCo5i",
        "outputId": "7c15ad81-c989-4c6d-b2f0-f39267b8e054"
      },
      "outputs": [
        {
          "name": "stdout",
          "output_type": "stream",
          "text": [
            "theta calculado por el descenso por el gradiente: [100.62525321 -19.29058861   1.04959692   9.43122623  -2.8321328\n",
            "  -1.76128588  -4.28343126   6.10921047]\n",
            "El valor predecido es (usando el descenso por el gradiente): 60.1957\n"
          ]
        },
        {
          "data": {
            "image/png": "[encoded data removed]",
            "text/plain": [
              "<Figure size 640x480 with 1 Axes>"
            ]
          },
          "metadata": {},
          "output_type": "display_data"
        }
      ],
      "source": [
        "# Elegir algun valor para alpha (probar varias alternativas)\n",
        "alpha = 0.001\n",
        "num_iters = 5000\n",
        "\n",
        "# inicializa theta y ejecuta el descenso por el gradiente\n",
        "theta = np.zeros(8)\n",
        "theta, J_history = gradientDescentMulti(X, y, theta, alpha, num_iters)\n",
        "\n",
        "# Grafica la convergencia del costo\n",
        "pyplot.plot(np.arange(len(J_history)), J_history, lw=2)\n",
        "pyplot.xlabel('Numero de iteraciones')\n",
        "pyplot.ylabel('Costo J')\n",
        "\n",
        "# Muestra los resultados del descenso por el gradiente\n",
        "print('theta calculado por el descenso por el gradiente: {:s}'.format(str(theta)))\n",
        "\n",
        "# Estimar el precio para un smart watch con distintas caracteristicas\n",
        "X_array = [1, 7.0, 52.0, 1.0, 1.0, 10.0, 56.0, 10.0]\n",
        "X_array[1:8] = (X_array[1:8] - mu) / sigma\n",
        "price = np.dot(X_array, theta)   # Se debe cambiar esto\n",
        "\n",
        "print('El valor predecido es (usando el descenso por el gradiente): {:.4f}'.format(price))"
      ]
    },
    {
      "cell_type": "code",
      "execution_count": 31,
      "metadata": {},
      "outputs": [],
      "source": [
        "# Lectura de Datos\n",
        "# iloc accede a los datos\n",
        "# x me muestra las primeras 12 columnas\n",
        "X = data.iloc[:, :7]\n",
        "# y me muestra la ultima columna\n",
        "y = data.iloc[:, 7]\n",
        "m = y.size"
      ]
    },
    {
      "cell_type": "code",
      "execution_count": 32,
      "metadata": {},
      "outputs": [],
      "source": [
        "X = np.concatenate([np.ones((m, 1)), X], axis=1)"
      ]
    },
    {
      "cell_type": "code",
      "execution_count": 33,
      "metadata": {},
      "outputs": [],
      "source": [
        "# importante que para usar m>n, evitar datos redundantes, no se normaliza\n",
        "def normalEqn(X, y):\n",
        "\n",
        "    theta = np.zeros(X.shape[1])\n",
        "\n",
        "    theta = np.dot(np.dot(np.linalg.inv(np.dot(X.T,X)),X.T),y)\n",
        "\n",
        "    return theta"
      ]
    },
    {
      "cell_type": "code",
      "execution_count": 34,
      "metadata": {},
      "outputs": [
        {
          "name": "stdout",
          "output_type": "stream",
          "text": [
            "Theta calculado a partir de la ecuación de la normal: [ 1.17753000e+02 -7.05054616e+00  1.04922618e-02  2.15092114e+00\n",
            " -6.30149830e+00 -4.27853096e-01 -1.53054946e-01  7.46805022e-01]\n",
            "Precio predecido para una cada de superficie de 1650 sq-ft y 3 dormitorios (usando la ecuación de la normal): $59\n"
          ]
        }
      ],
      "source": [
        "# Calcula los parametros con la ecuación de la normal\n",
        "theta = normalEqn(X, y);\n",
        "\n",
        "# Muestra los resultados optenidos a partir de la aplicación de la ecuación de la normal\n",
        "print('Theta calculado a partir de la ecuación de la normal: {:s}'.format(str(theta)));\n",
        "\n",
        "# Estimar el número total de fumadores con distintas caracteristicas\n",
        "\n",
        "X_array = [1, 7.0, 52.0, 1.0, 1.0, 10.0, 56.0, 10.0]\n",
        "price = np.dot(X_array, theta)\n",
        "\n",
        "print('Precio predecido para una cada de superficie de 1650 sq-ft y 3 dormitorios (usando la ecuación de la normal): ${:.0f}'.format(price))"
      ]
    }
  ],
  "metadata": {
    "colab": {
      "provenance": []
    },
    "kernelspec": {
      "display_name": "Python 3",
      "name": "python3"
    },
    "language_info": {
      "codemirror_mode": {
        "name": "ipython",
        "version": 3
      },
      "file_extension": ".py",
      "mimetype": "text/x-python",
      "name": "python",
      "nbconvert_exporter": "python",
      "pygments_lexer": "ipython3",
      "version": "3.11.5"
    }
  },
  "nbformat": 4,
  "nbformat_minor": 0
}
