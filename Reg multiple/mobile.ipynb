{
  "cells": [
    {
      "cell_type": "code",
      "execution_count": 11,
      "metadata": {
        "id": "E1LanRqLBTQ6"
      },
      "outputs": [],
      "source": [
        "# utilizado para manejos de directorios y rutas\n",
        "import os\n",
        "\n",
        "# Computacion vectorial y cientifica para python\n",
        "# Para realizar cálculos numéricos y operaciones vectoriales\n",
        "import numpy as np\n",
        "\n",
        "# Librerias para graficación (trazado de gráficos)\n",
        "from matplotlib import pyplot\n",
        "# Necesario para graficar superficies 3D\n",
        "from mpl_toolkits.mplot3d import Axes3D\n",
        "# \n",
        "# Muestra las gráficas dentro del cuaderno\n",
        "%matplotlib inline"
      ]
    },
    {
      "cell_type": "code",
      "execution_count": 12,
      "metadata": {
        "id": "3lvDWRgfB6BK"
      },
      "outputs": [],
      "source": [
        "# importando pandas para el analisis de datos\n",
        "import pandas as pd\n",
        "# se utiliza para codificar variables categóricas en variables numéricas\n",
        "from sklearn.preprocessing import LabelEncoder\n",
        "\n",
        "#from datetime import datetime"
      ]
    },
    {
      "cell_type": "code",
      "execution_count": 3,
      "metadata": {
        "id": "w4Ay7RiqCAZI"
      },
      "outputs": [],
      "source": [
        "#Carga de dataset\n",
        "data = pd.read_csv('Mobile phone price.csv', delimiter=\";\")"
      ]
    },
    {
      "cell_type": "code",
      "execution_count": 4,
      "metadata": {
        "colab": {
          "base_uri": "https://localhost:8080/"
        },
        "id": "d3-8qV_0NdTn",
        "outputId": "8de1058c-8375-461e-fdd7-23ea46014bff"
      },
      "outputs": [
        {
          "name": "stdout",
          "output_type": "stream",
          "text": [
            "<class 'pandas.core.frame.DataFrame'>\n"
          ]
        }
      ],
      "source": [
        "print(type(data))"
      ]
    },
    {
      "cell_type": "code",
      "execution_count": 13,
      "metadata": {
        "colab": {
          "base_uri": "https://localhost:8080/"
        },
        "id": "le1t0OrvCEY1",
        "outputId": "06e29da8-6702-45c1-b8b0-7aa724f43486"
      },
      "outputs": [
        {
          "name": "stdout",
          "output_type": "stream",
          "text": [
            "       Brand              Model Storage    RAM  Screen Size (inches)  \\\n",
            "0      Apple      iPhone 13 Pro   128 GB   6 GB                  6.1   \n",
            "1    Samsung   Galaxy S21 Ultra   256 GB  12 GB                  6.8   \n",
            "2    OnePlus              9 Pro   128 GB   8 GB                  6.7   \n",
            "3     Xiaomi  Redmi Note 10 Pro   128 GB   6 GB                 6.67   \n",
            "4     Google            Pixel 6   128 GB   8 GB                  6.4   \n",
            "..       ...                ...      ...    ...                  ...   \n",
            "402  Samsung   Galaxy Note20 5G      128      8                  6.7   \n",
            "403   Xiaomi      Mi 10 Lite 5G      128      6                 6.57   \n",
            "404    Apple  iPhone 12 Pro Max      128      6                  6.7   \n",
            "405     Oppo              Reno3      128      8                  6.4   \n",
            "406  Samsung    Galaxy S10 Lite      128      6                  6.7   \n",
            "\n",
            "            Camera (MP)  Battery Capacity (mAh) Price ($)  \n",
            "0          12 + 12 + 12                    3095       999  \n",
            "1    108 + 10 + 10 + 12                    5000      1199  \n",
            "2       48 + 50 + 8 + 2                    4500       899  \n",
            "3        64 + 8 + 5 + 2                    5020       279  \n",
            "4             50 + 12.2                    4614       799  \n",
            "..                  ...                     ...       ...  \n",
            "402            12+64+12                    4300      1049  \n",
            "403            48+8+2+2                    4160       349  \n",
            "404            12+12+12                    3687      1099  \n",
            "405           48+13+8+2                    4025       429  \n",
            "406             48+12+5                    4500       649  \n",
            "\n",
            "[407 rows x 8 columns]\n"
          ]
        }
      ],
      "source": [
        "print(data)"
      ]
    },
    {
      "cell_type": "code",
      "execution_count": 14,
      "metadata": {
        "colab": {
          "base_uri": "https://localhost:8080/"
        },
        "id": "hQW0l3iECGd_",
        "outputId": "421933be-1499-4748-86cc-44b82dc44d91"
      },
      "outputs": [
        {
          "name": "stdout",
          "output_type": "stream",
          "text": [
            "<class 'pandas.core.frame.DataFrame'>\n",
            "RangeIndex: 407 entries, 0 to 406\n",
            "Data columns (total 8 columns):\n",
            " #   Column                  Non-Null Count  Dtype \n",
            "---  ------                  --------------  ----- \n",
            " 0   Brand                   407 non-null    object\n",
            " 1   Model                   407 non-null    object\n",
            " 2   Storage                 407 non-null    object\n",
            " 3   RAM                     407 non-null    object\n",
            " 4   Screen Size (inches)    407 non-null    object\n",
            " 5   Camera (MP)             407 non-null    object\n",
            " 6   Battery Capacity (mAh)  407 non-null    int64 \n",
            " 7   Price ($)               407 non-null    object\n",
            "dtypes: int64(1), object(7)\n",
            "memory usage: 25.6+ KB\n"
          ]
        }
      ],
      "source": [
        "data.info()"
      ]
    },
    {
      "cell_type": "code",
      "execution_count": 15,
      "metadata": {
        "id": "JEaGZAkmCSNh"
      },
      "outputs": [],
      "source": [
        "#variables categoricas\n",
        "# con select_dtypes seleccionamos las columnas de data de tipo object\n",
        "columnas_categoricas = data.select_dtypes(include=['object']).columns"
      ]
    },
    {
      "cell_type": "code",
      "execution_count": 16,
      "metadata": {
        "colab": {
          "base_uri": "https://localhost:8080/"
        },
        "id": "66YjpWZDN3Ab",
        "outputId": "832a2531-e70c-4427-c746-6e148c165ef5"
      },
      "outputs": [
        {
          "name": "stdout",
          "output_type": "stream",
          "text": [
            "Index(['Brand', 'Model', 'Storage ', 'RAM ', 'Screen Size (inches)',\n",
            "       'Camera (MP)', 'Price ($)'],\n",
            "      dtype='object')\n"
          ]
        }
      ],
      "source": [
        "print(columnas_categoricas)"
      ]
    },
    {
      "cell_type": "code",
      "execution_count": 17,
      "metadata": {
        "id": "HcKJjKJaCUDp"
      },
      "outputs": [],
      "source": [
        "#Procesamiento de frases o palabras\n",
        "for columna in columnas_categoricas:\n",
        "  # se crea una instancia (se utiliza para convetir categoricos a numericos)\n",
        "  #instanciando\n",
        "  le = LabelEncoder()\n",
        "  # cambia de categoricos a numericos unico\n",
        "  data[columna] = le.fit_transform(data[columna])"
      ]
    },
    {
      "cell_type": "code",
      "execution_count": 18,
      "metadata": {
        "colab": {
          "base_uri": "https://localhost:8080/"
        },
        "id": "wcRPk-WwCVeM",
        "outputId": "40bbc99f-f644-428a-bef0-c064c6242d67"
      },
      "outputs": [
        {
          "name": "stdout",
          "output_type": "stream",
          "text": [
            "     Brand  Model  Storage   RAM   Screen Size (inches)  Camera (MP)  \\\n",
            "0        0    232         1    15                     8           15   \n",
            "1       12    100         4     1                    35            0   \n",
            "2        9     19         1    18                    31           53   \n",
            "3       15    178         1    15                    30          119   \n",
            "4        4    162         1    18                    15           87   \n",
            "..     ...    ...       ...   ...                   ...          ...   \n",
            "402     12     95         0    17                    31           19   \n",
            "403     15    111         0    14                    26           70   \n",
            "404      0    229         0    14                    31           17   \n",
            "405     10    188         0    17                    15           59   \n",
            "406     12     96         0    14                    31           57   \n",
            "\n",
            "     Battery Capacity (mAh)  Price ($)  \n",
            "0                      3095         88  \n",
            "1                      5000         45  \n",
            "2                      4500         85  \n",
            "3                      5020         63  \n",
            "4                      4614         84  \n",
            "..                      ...        ...  \n",
            "402                    4300         42  \n",
            "403                    4160         67  \n",
            "404                    3687         43  \n",
            "405                    4025         73  \n",
            "406                    4500         79  \n",
            "\n",
            "[407 rows x 8 columns]\n"
          ]
        }
      ],
      "source": [
        "#resultado\n",
        "print(data)"
      ]
    },
    {
      "cell_type": "code",
      "execution_count": 19,
      "metadata": {
        "colab": {
          "base_uri": "https://localhost:8080/"
        },
        "id": "9JxRNO0TCa1A",
        "outputId": "1087fa3c-2075-4ffb-9f80-4287b926e7ed"
      },
      "outputs": [
        {
          "name": "stdout",
          "output_type": "stream",
          "text": [
            "<class 'pandas.core.frame.DataFrame'>\n",
            "RangeIndex: 407 entries, 0 to 406\n",
            "Data columns (total 8 columns):\n",
            " #   Column                  Non-Null Count  Dtype\n",
            "---  ------                  --------------  -----\n",
            " 0   Brand                   407 non-null    int32\n",
            " 1   Model                   407 non-null    int32\n",
            " 2   Storage                 407 non-null    int32\n",
            " 3   RAM                     407 non-null    int32\n",
            " 4   Screen Size (inches)    407 non-null    int32\n",
            " 5   Camera (MP)             407 non-null    int32\n",
            " 6   Battery Capacity (mAh)  407 non-null    int64\n",
            " 7   Price ($)               407 non-null    int32\n",
            "dtypes: int32(7), int64(1)\n",
            "memory usage: 14.4 KB\n"
          ]
        }
      ],
      "source": [
        "data.info()"
      ]
    },
    {
      "cell_type": "code",
      "execution_count": 20,
      "metadata": {
        "id": "i7NgpjbcCdtk"
      },
      "outputs": [],
      "source": [
        "# Lectura de Datos\n",
        "# iloc accede a los datos\n",
        "# x me muestra las primeras 12 columnas\n",
        "X = data.iloc[:, :7]\n",
        "# y me muestra la ultima columna\n",
        "y = data.iloc[:, 7]\n",
        "m = y.size"
      ]
    },
    {
      "cell_type": "code",
      "execution_count": 21,
      "metadata": {
        "colab": {
          "base_uri": "https://localhost:8080/"
        },
        "id": "uYPXGZVYCe1O",
        "outputId": "0d71e05c-cca8-43a2-c060-b6488ccb8325"
      },
      "outputs": [
        {
          "name": "stdout",
          "output_type": "stream",
          "text": [
            "     Brand  Model  Storage   RAM   Screen Size (inches)  Camera (MP)  \\\n",
            "0        0    232         1    15                     8           15   \n",
            "1       12    100         4     1                    35            0   \n",
            "2        9     19         1    18                    31           53   \n",
            "3       15    178         1    15                    30          119   \n",
            "4        4    162         1    18                    15           87   \n",
            "..     ...    ...       ...   ...                   ...          ...   \n",
            "402     12     95         0    17                    31           19   \n",
            "403     15    111         0    14                    26           70   \n",
            "404      0    229         0    14                    31           17   \n",
            "405     10    188         0    17                    15           59   \n",
            "406     12     96         0    14                    31           57   \n",
            "\n",
            "     Battery Capacity (mAh)  \n",
            "0                      3095  \n",
            "1                      5000  \n",
            "2                      4500  \n",
            "3                      5020  \n",
            "4                      4614  \n",
            "..                      ...  \n",
            "402                    4300  \n",
            "403                    4160  \n",
            "404                    3687  \n",
            "405                    4025  \n",
            "406                    4500  \n",
            "\n",
            "[407 rows x 7 columns]\n",
            "********************\n",
            "0      88\n",
            "1      45\n",
            "2      85\n",
            "3      63\n",
            "4      84\n",
            "       ..\n",
            "402    42\n",
            "403    67\n",
            "404    43\n",
            "405    73\n",
            "406    79\n",
            "Name: Price ($), Length: 407, dtype: int32\n",
            "********************\n",
            "407\n"
          ]
        }
      ],
      "source": [
        "print(X)\n",
        "print('*'*20)\n",
        "print(y)\n",
        "print('*'*20)\n",
        "print(m)"
      ]
    },
    {
      "cell_type": "code",
      "execution_count": 22,
      "metadata": {
        "id": "pvFMCYz3CgZT"
      },
      "outputs": [],
      "source": [
        "def  featureNormalize(X):\n",
        "    # Se crea una copia del conjunto de datos X para evitar modificar los datos originales.\n",
        "    X_norm = X.copy()\n",
        "    # se crea un arreglo de 0 para almacenar la media y desviacion estandar\n",
        "    mu = np.zeros(X.shape[1])\n",
        "    sigma = np.zeros(X.shape[1])\n",
        "\n",
        "    # media\n",
        "    mu = np.mean(X, axis = 0)\n",
        "    # desviacion estandar\n",
        "    sigma = np.std(X, axis = 0)\n",
        "    X_norm = (X - mu) / sigma\n",
        "\n",
        "    return X_norm, mu, sigma"
      ]
    },
    {
      "cell_type": "code",
      "execution_count": 23,
      "metadata": {
        "colab": {
          "base_uri": "https://localhost:8080/"
        },
        "id": "JbYLEUd9ChzI",
        "outputId": "141ef607-dd32-4bd6-89ea-c7c182e7a573"
      },
      "outputs": [
        {
          "name": "stdout",
          "output_type": "stream",
          "text": [
            "     Brand  Model  Storage   RAM   Screen Size (inches)  Camera (MP)  \\\n",
            "0        0    232         1    15                     8           15   \n",
            "1       12    100         4     1                    35            0   \n",
            "2        9     19         1    18                    31           53   \n",
            "3       15    178         1    15                    30          119   \n",
            "4        4    162         1    18                    15           87   \n",
            "..     ...    ...       ...   ...                   ...          ...   \n",
            "402     12     95         0    17                    31           19   \n",
            "403     15    111         0    14                    26           70   \n",
            "404      0    229         0    14                    31           17   \n",
            "405     10    188         0    17                    15           59   \n",
            "406     12     96         0    14                    31           57   \n",
            "\n",
            "     Battery Capacity (mAh)  \n",
            "0                      3095  \n",
            "1                      5000  \n",
            "2                      4500  \n",
            "3                      5020  \n",
            "4                      4614  \n",
            "..                      ...  \n",
            "402                    4300  \n",
            "403                    4160  \n",
            "404                    3687  \n",
            "405                    4025  \n",
            "406                    4500  \n",
            "\n",
            "[407 rows x 7 columns]\n",
            "********************\n",
            "Media calculada: Brand                       10.142506\n",
            "Model                      118.211302\n",
            "Storage                      4.083538\n",
            "RAM                         12.842752\n",
            "Screen Size (inches)        21.437346\n",
            "Camera (MP)                 71.454545\n",
            "Battery Capacity (mAh)    4676.476658\n",
            "dtype: float64\n",
            "********************\n",
            "Desviación estandar calculada: Brand                       4.174844\n",
            "Model                      70.448856\n",
            "Storage                     4.229056\n",
            "RAM                         4.662553\n",
            "Screen Size (inches)        7.900821\n",
            "Camera (MP)                41.520988\n",
            "Battery Capacity (mAh)    796.213758\n",
            "dtype: float64\n",
            "********************\n",
            "        Brand     Model  Storage       RAM   Screen Size (inches)  \\\n",
            "0   -2.429433  1.615196 -0.729132  0.462675             -1.700753   \n",
            "1    0.444925 -0.258504 -0.019753 -2.539972              1.716613   \n",
            "2   -0.273664 -1.408274 -0.729132  1.106100              1.210337   \n",
            "3    1.163515  0.848682 -0.729132  0.462675              1.083768   \n",
            "4   -1.471314  0.621567 -0.729132  1.106100             -0.814769   \n",
            "..        ...       ...       ...       ...                   ...   \n",
            "402  0.444925 -0.329477 -0.965591  0.891625              1.210337   \n",
            "403  1.163515 -0.102362 -0.965591  0.248201              0.577491   \n",
            "404 -2.429433  1.572612 -0.965591  0.248201              1.210337   \n",
            "405 -0.034134  0.990629 -0.965591  0.891625             -0.814769   \n",
            "406  0.444925 -0.315283 -0.965591  0.248201              1.210337   \n",
            "\n",
            "     Camera (MP)  Battery Capacity (mAh)  \n",
            "0      -1.359663               -1.986246  \n",
            "1      -1.720926                0.406327  \n",
            "2      -0.444463               -0.221645  \n",
            "3       1.145095                0.431446  \n",
            "4       0.374400               -0.078467  \n",
            "..           ...                     ...  \n",
            "402    -1.263326               -0.472834  \n",
            "403    -0.035032               -0.648666  \n",
            "404    -1.311494               -1.242727  \n",
            "405    -0.299958               -0.818218  \n",
            "406    -0.348126               -0.221645  \n",
            "\n",
            "[407 rows x 7 columns]\n"
          ]
        }
      ],
      "source": [
        "# llama featureNormalize con los datos cargados\n",
        "X_norm, mu, sigma = featureNormalize(X)\n",
        "\n",
        "print(X)\n",
        "print('*'*20)\n",
        "print('Media calculada:', mu)\n",
        "print('*'*20)\n",
        "print('Desviación estandar calculada:', sigma)\n",
        "print('*'*20)\n",
        "print(X_norm)"
      ]
    },
    {
      "cell_type": "code",
      "execution_count": 24,
      "metadata": {
        "id": "dDTv01IQCjCo"
      },
      "outputs": [],
      "source": [
        "# Añade el termino de interseccion a X\n",
        "# (Columna de unos para X0)\n",
        "# np.ones(m, numero de columnas)\n",
        "# m numero de filas == ejemplos\n",
        "# n = numero de columnas\n",
        "X = np.concatenate([np.ones((m, 1)), X_norm], axis=1)"
      ]
    },
    {
      "cell_type": "code",
      "execution_count": 25,
      "metadata": {
        "colab": {
          "base_uri": "https://localhost:8080/"
        },
        "id": "P7ZbX5dACki1",
        "outputId": "6e79faf8-86f7-42ec-d78a-eafaa9b04255"
      },
      "outputs": [
        {
          "name": "stdout",
          "output_type": "stream",
          "text": [
            "[[ 1.         -2.42943349  1.61519582 ... -1.70075309 -1.35966288\n",
            "  -1.98624634]\n",
            " [ 1.          0.44492532 -0.25850387 ...  1.71661311 -1.72092596\n",
            "   0.40632724]\n",
            " [ 1.         -0.27366438 -1.40827414 ...  1.21033663 -0.44446307\n",
            "  -0.22164482]\n",
            " ...\n",
            " [ 1.         -2.42943349  1.57261173 ...  1.21033663 -1.31149447\n",
            "  -1.24272741]\n",
            " [ 1.         -0.03413448  0.99062925 ... -0.81476926 -0.29995783\n",
            "  -0.81821829]\n",
            " [ 1.          0.44492532 -0.31528265 ...  1.21033663 -0.34812624\n",
            "  -0.22164482]]\n"
          ]
        }
      ],
      "source": [
        "print(X)"
      ]
    },
    {
      "cell_type": "code",
      "execution_count": 26,
      "metadata": {
        "id": "ehWgf5n5Clao"
      },
      "outputs": [],
      "source": [
        "def computeCostMulti(X, y, theta):\n",
        "    # Inicializa algunos valores utiles\n",
        "    # shape == devuelve el tamaño de la primera dimensión del arreglo\n",
        "    m = y.shape[0] # numero de ejemplos de entrenamiento\n",
        "\n",
        "    # valor del costo\n",
        "    J = 0\n",
        "\n",
        "    # Se calcula la hipótesis\n",
        "    # dot == multiplicacion de matrices\n",
        "    h = np.dot(X, theta)\n",
        "    # θ₀ * x₀ + θ₁ * x₁ + θ₂ * x₂ + ... + θₙ * xₙ\n",
        "    # square == elevado\n",
        "    J = (1/(2 * m)) * np.sum(np.square(np.dot(X, theta) - y))\n",
        "\n",
        "    return J"
      ]
    },
    {
      "cell_type": "code",
      "execution_count": 27,
      "metadata": {
        "id": "rpkI4gHmCnEv"
      },
      "outputs": [],
      "source": [
        "def gradientDescentMulti(X, y, theta, alpha, num_iters):\n",
        "\n",
        "    # Inicializa algunos valores\n",
        "    m = y.shape[0] # numero de ejemplos de entrenamiento\n",
        "\n",
        "    # realiza una copia de theta, el cual será actualizada por el descenso por el gradiente\n",
        "    theta = theta.copy()\n",
        "\n",
        "    J_history = []\n",
        "\n",
        "    for i in range(num_iters):\n",
        "        theta = theta - (alpha / m) * (np.dot(X, theta) - y).dot(X)\n",
        "        J_history.append(computeCostMulti(X, y, theta))\n",
        "\n",
        "    return theta, J_history"
      ]
    },
    {
      "cell_type": "code",
      "execution_count": 28,
      "metadata": {},
      "outputs": [
        {
          "name": "stdout",
          "output_type": "stream",
          "text": [
            "[11, 63, 1, 18, 29, 116, 5000, 66]\n"
          ]
        }
      ],
      "source": [
        "fila_deseada = 12\n",
        "\n",
        "if fila_deseada < len(data):\n",
        "  fila_completa = data.iloc[fila_deseada].tolist()\n",
        "  print(fila_completa)\n",
        "else:\n",
        "  print(\"La fila no existe\")"
      ]
    },
    {
      "cell_type": "code",
      "execution_count": 35,
      "metadata": {
        "colab": {
          "base_uri": "https://localhost:8080/",
          "height": 518
        },
        "id": "dc2jDJmNCo5i",
        "outputId": "7c15ad81-c989-4c6d-b2f0-f39267b8e054"
      },
      "outputs": [
        {
          "name": "stdout",
          "output_type": "stream",
          "text": [
            "theta calculado por el descenso por el gradiente: [ 41.31259218  -3.77076909   0.56795642 -12.63473961  -3.49711151\n",
            "   1.6819651   -3.01636439  -8.96867521]\n",
            "El valor predecido es (usando el descenso por el gradiente): 40.1669\n"
          ]
        },
        {
          "data": {
            "image/png": "[encoded data removed]",
            "text/plain": [
              "<Figure size 640x480 with 1 Axes>"
            ]
          },
          "metadata": {},
          "output_type": "display_data"
        }
      ],
      "source": [
        "# Elegir algun valor para alpha (probar varias alternativas)\n",
        "alpha = 0.001\n",
        "num_iters = 5000\n",
        "\n",
        "# inicializa theta y ejecuta el descenso por el gradiente\n",
        "theta = np.zeros(8) \n",
        "theta, J_history = gradientDescentMulti(X, y, theta, alpha, num_iters)\n",
        "\n",
        "# Grafica la convergencia del costo\n",
        "pyplot.plot(np.arange(len(J_history)), J_history, lw=2)\n",
        "pyplot.xlabel('Numero de iteraciones')\n",
        "pyplot.ylabel('Costo J')\n",
        "\n",
        "# Muestra los resultados del descenso por el gradiente\n",
        "print('theta calculado por el descenso por el gradiente: {:s}'.format(str(theta)))\n",
        "\n",
        "# Estimar el precio para un smart watch con distintas caracteristicas\n",
        "X_array = [1, 11, 63, 1, 18, 29, 116, 5000]\n",
        "X_array[1:8] = (X_array[1:8] - mu) / sigma\n",
        "price = np.dot(X_array, theta)   # Se debe cambiar esto\n",
        "\n",
        "print('El valor predecido es (usando el descenso por el gradiente): {:.4f}'.format(price))"
      ]
    },
    {
      "cell_type": "code",
      "execution_count": 36,
      "metadata": {},
      "outputs": [
        {
          "name": "stdout",
          "output_type": "stream",
          "text": [
            "     Brand  Model  Storage   RAM   Screen Size (inches)  Camera (MP)  \\\n",
            "0        0    232         1    15                     8           15   \n",
            "1       12    100         4     1                    35            0   \n",
            "2        9     19         1    18                    31           53   \n",
            "3       15    178         1    15                    30          119   \n",
            "4        4    162         1    18                    15           87   \n",
            "..     ...    ...       ...   ...                   ...          ...   \n",
            "402     12     95         0    17                    31           19   \n",
            "403     15    111         0    14                    26           70   \n",
            "404      0    229         0    14                    31           17   \n",
            "405     10    188         0    17                    15           59   \n",
            "406     12     96         0    14                    31           57   \n",
            "\n",
            "     Battery Capacity (mAh)  Price ($)  \n",
            "0                      3095         88  \n",
            "1                      5000         45  \n",
            "2                      4500         85  \n",
            "3                      5020         63  \n",
            "4                      4614         84  \n",
            "..                      ...        ...  \n",
            "402                    4300         42  \n",
            "403                    4160         67  \n",
            "404                    3687         43  \n",
            "405                    4025         73  \n",
            "406                    4500         79  \n",
            "\n",
            "[407 rows x 8 columns]\n"
          ]
        }
      ],
      "source": [
        "print(data)"
      ]
    },
    {
      "cell_type": "code",
      "execution_count": 37,
      "metadata": {},
      "outputs": [],
      "source": [
        "# Lectura de Datos\n",
        "# iloc accede a los datos\n",
        "# x me muestra las primeras 12 columnas\n",
        "X = data.iloc[:, :7]\n",
        "# y me muestra la ultima columna\n",
        "y = data.iloc[:, 7]\n",
        "m = y.size"
      ]
    },
    {
      "cell_type": "code",
      "execution_count": 38,
      "metadata": {},
      "outputs": [],
      "source": [
        "X = np.concatenate([np.ones((m, 1)), X], axis=1)"
      ]
    },
    {
      "cell_type": "code",
      "execution_count": 39,
      "metadata": {},
      "outputs": [],
      "source": [
        "# importante que para usar m>n, evitar datos redundantes, no se normaliza\n",
        "def normalEqn(X, y):\n",
        "\n",
        "    theta = np.zeros(X.shape[1])\n",
        "\n",
        "    theta = np.dot(np.dot(np.linalg.inv(np.dot(X.T,X)),X.T),y)\n",
        "\n",
        "    return theta"
      ]
    },
    {
      "cell_type": "code",
      "execution_count": 40,
      "metadata": {},
      "outputs": [
        {
          "name": "stdout",
          "output_type": "stream",
          "text": [
            "Theta calculado a partir de la ecuación de la normal: [ 1.27696431e+02 -8.20891668e-01  6.09891836e-03 -3.04581539e+00\n",
            " -7.98237305e-01  2.20966116e-01 -7.32517762e-02 -1.18278884e-02]\n",
            "Precio predecido para una cada de superficie de 1650 sq-ft y 3 dormitorios (usando la ecuación de la normal): $40\n"
          ]
        }
      ],
      "source": [
        "# Calcula los parametros con la ecuación de la normal\n",
        "theta = normalEqn(X, y);\n",
        "\n",
        "# Muestra los resultados optenidos a partir de la aplicación de la ecuación de la normal\n",
        "print('Theta calculado a partir de la ecuación de la normal: {:s}'.format(str(theta)));\n",
        "\n",
        "# Estimar el número total de fumadores con distintas caracteristicas\n",
        "\n",
        "X_array = [1, 11, 63, 1, 18, 29, 116, 5000]\n",
        "price = np.dot(X_array, theta)\n",
        "\n",
        "print('Precio predecido para una cada de superficie de 1650 sq-ft y 3 dormitorios (usando la ecuación de la normal): ${:.0f}'.format(price))"
      ]
    }
  ],
  "metadata": {
    "colab": {
      "provenance": []
    },
    "kernelspec": {
      "display_name": "Python 3",
      "name": "python3"
    },
    "language_info": {
      "codemirror_mode": {
        "name": "ipython",
        "version": 3
      },
      "file_extension": ".py",
      "mimetype": "text/x-python",
      "name": "python",
      "nbconvert_exporter": "python",
      "pygments_lexer": "ipython3",
      "version": "3.11.5"
    }
  },
  "nbformat": 4,
  "nbformat_minor": 0
}
