{
  "cells": [
    {
      "cell_type": "code",
      "execution_count": 1,
      "metadata": {
        "id": "E1LanRqLBTQ6"
      },
      "outputs": [],
      "source": [
        "# utilizado para manejos de directorios y rutas\n",
        "import os\n",
        "\n",
        "# Computacion vectorial y cientifica para python\n",
        "# Para realizar cálculos numéricos y operaciones vectoriales\n",
        "import numpy as np\n",
        "\n",
        "# Librerias para graficación (trazado de gráficos)\n",
        "from matplotlib import pyplot\n",
        "# Necesario para graficar superficies 3D\n",
        "from mpl_toolkits.mplot3d import Axes3D\n",
        "\n",
        "from scipy import optimize\n",
        "\n",
        "# Muestra las gráficas dentro del cuaderno\n",
        "%matplotlib inline"
      ]
    },
    {
      "cell_type": "code",
      "execution_count": 2,
      "metadata": {},
      "outputs": [],
      "source": [
        "# Importar libreria para dividir entrenamiento y prueba\n",
        "from sklearn.model_selection import train_test_split"
      ]
    },
    {
      "cell_type": "code",
      "execution_count": 3,
      "metadata": {
        "id": "3lvDWRgfB6BK"
      },
      "outputs": [],
      "source": [
        "# importando pandas para el analisis de datos\n",
        "import pandas as pd\n",
        "# se utiliza para codificar variables categóricas en variables numéricas\n",
        "from sklearn.preprocessing import LabelEncoder\n",
        "\n",
        "#from datetime import datetime"
      ]
    },
    {
      "cell_type": "code",
      "execution_count": 4,
      "metadata": {
        "id": "w4Ay7RiqCAZI"
      },
      "outputs": [],
      "source": [
        "#Carga de dataset\n",
        "data = pd.read_csv('Big Mart Sales.csv')"
      ]
    },
    {
      "cell_type": "code",
      "execution_count": 5,
      "metadata": {
        "colab": {
          "base_uri": "https://localhost:8080/"
        },
        "id": "d3-8qV_0NdTn",
        "outputId": "8de1058c-8375-461e-fdd7-23ea46014bff"
      },
      "outputs": [
        {
          "name": "stdout",
          "output_type": "stream",
          "text": [
            "<class 'pandas.core.frame.DataFrame'>\n"
          ]
        }
      ],
      "source": [
        "print(type(data))"
      ]
    },
    {
      "cell_type": "code",
      "execution_count": 6,
      "metadata": {
        "colab": {
          "base_uri": "https://localhost:8080/"
        },
        "id": "le1t0OrvCEY1",
        "outputId": "06e29da8-6702-45c1-b8b0-7aa724f43486"
      },
      "outputs": [
        {
          "name": "stdout",
          "output_type": "stream",
          "text": [
            "     ProductID  Weight FatContent  ProductVisibility         ProductType  \\\n",
            "0        FDW58  20.750    Low Fat           0.007565         Snack Foods   \n",
            "1        FDW14   8.300        reg           0.038428               Dairy   \n",
            "2        NCN55  14.600    Low Fat           0.099575              Others   \n",
            "3        FDQ58   7.315    Low Fat           0.015388         Snack Foods   \n",
            "4        FDY38     NaN    Regular           0.118599               Dairy   \n",
            "...        ...     ...        ...                ...                 ...   \n",
            "5676     FDB58  10.500    Regular           0.013496         Snack Foods   \n",
            "5677     FDD47   7.600    Regular           0.142991       Starchy Foods   \n",
            "5678     NCO17  10.000    Low Fat           0.073529  Health and Hygiene   \n",
            "5679     FDJ26  15.300    Regular           0.000000              Canned   \n",
            "5680     FDU37   9.500    Regular           0.104720              Canned   \n",
            "\n",
            "           MRP OutletID  EstablishmentYear OutletSize LocationType  \\\n",
            "0     107.8622   OUT049               1999     Medium       Tier 1   \n",
            "1      87.3198   OUT017               2007        NaN       Tier 2   \n",
            "2     241.7538   OUT010               1998        NaN       Tier 3   \n",
            "3     155.0340   OUT017               2007        NaN       Tier 2   \n",
            "4     234.2300   OUT027               1985     Medium       Tier 3   \n",
            "...        ...      ...                ...        ...          ...   \n",
            "5676  141.3154   OUT046               1997      Small       Tier 1   \n",
            "5677  169.1448   OUT018               2009     Medium       Tier 3   \n",
            "5678  118.7440   OUT045               2002        NaN       Tier 2   \n",
            "5679  214.6218   OUT017               2007        NaN       Tier 2   \n",
            "5680   79.7960   OUT045               2002        NaN       Tier 2   \n",
            "\n",
            "             OutletType  \n",
            "0     Supermarket Type1  \n",
            "1     Supermarket Type1  \n",
            "2         Grocery Store  \n",
            "3     Supermarket Type1  \n",
            "4     Supermarket Type3  \n",
            "...                 ...  \n",
            "5676  Supermarket Type1  \n",
            "5677  Supermarket Type2  \n",
            "5678  Supermarket Type1  \n",
            "5679  Supermarket Type1  \n",
            "5680  Supermarket Type1  \n",
            "\n",
            "[5681 rows x 11 columns]\n"
          ]
        }
      ],
      "source": [
        "print(data)"
      ]
    },
    {
      "cell_type": "code",
      "execution_count": 7,
      "metadata": {
        "colab": {
          "base_uri": "https://localhost:8080/"
        },
        "id": "hQW0l3iECGd_",
        "outputId": "421933be-1499-4748-86cc-44b82dc44d91"
      },
      "outputs": [
        {
          "name": "stdout",
          "output_type": "stream",
          "text": [
            "<class 'pandas.core.frame.DataFrame'>\n",
            "RangeIndex: 5681 entries, 0 to 5680\n",
            "Data columns (total 11 columns):\n",
            " #   Column             Non-Null Count  Dtype  \n",
            "---  ------             --------------  -----  \n",
            " 0   ProductID          5681 non-null   object \n",
            " 1   Weight             4705 non-null   float64\n",
            " 2   FatContent         5681 non-null   object \n",
            " 3   ProductVisibility  5681 non-null   float64\n",
            " 4   ProductType        5681 non-null   object \n",
            " 5   MRP                5681 non-null   float64\n",
            " 6   OutletID           5681 non-null   object \n",
            " 7   EstablishmentYear  5681 non-null   int64  \n",
            " 8   OutletSize         4075 non-null   object \n",
            " 9   LocationType       5681 non-null   object \n",
            " 10  OutletType         5681 non-null   object \n",
            "dtypes: float64(3), int64(1), object(7)\n",
            "memory usage: 488.3+ KB\n"
          ]
        }
      ],
      "source": [
        "data.info()"
      ]
    },
    {
      "cell_type": "code",
      "execution_count": 8,
      "metadata": {
        "id": "jMs6LXEBCPY3"
      },
      "outputs": [],
      "source": [
        "# Supongamos que 'data' es tu DataFrame\n",
        "columnas_eliminar = ['ProductID']\n",
        "# Crea una nueva columna numérica y copia los valores de la columna categórica\n",
        "\n",
        "# Elimina la columna categórica original\n",
        "# axis indica que solo se eliminara una columna\n",
        "# inplace indica que se debe modificar directamente en el data\n",
        "data.drop(columnas_eliminar, axis=1, inplace=True)"
      ]
    },
    {
      "cell_type": "code",
      "execution_count": 9,
      "metadata": {
        "colab": {
          "base_uri": "https://localhost:8080/"
        },
        "id": "LmBDR8JGCP5e",
        "outputId": "0cf2cbb0-ca6b-4b65-854a-c90d8220392c"
      },
      "outputs": [
        {
          "name": "stdout",
          "output_type": "stream",
          "text": [
            "<class 'pandas.core.frame.DataFrame'>\n",
            "RangeIndex: 5681 entries, 0 to 5680\n",
            "Data columns (total 10 columns):\n",
            " #   Column             Non-Null Count  Dtype  \n",
            "---  ------             --------------  -----  \n",
            " 0   Weight             4705 non-null   float64\n",
            " 1   FatContent         5681 non-null   object \n",
            " 2   ProductVisibility  5681 non-null   float64\n",
            " 3   ProductType        5681 non-null   object \n",
            " 4   MRP                5681 non-null   float64\n",
            " 5   OutletID           5681 non-null   object \n",
            " 6   EstablishmentYear  5681 non-null   int64  \n",
            " 7   OutletSize         4075 non-null   object \n",
            " 8   LocationType       5681 non-null   object \n",
            " 9   OutletType         5681 non-null   object \n",
            "dtypes: float64(3), int64(1), object(6)\n",
            "memory usage: 444.0+ KB\n"
          ]
        }
      ],
      "source": [
        "data.info()"
      ]
    },
    {
      "cell_type": "code",
      "execution_count": 10,
      "metadata": {
        "id": "JEaGZAkmCSNh"
      },
      "outputs": [],
      "source": [
        "#variables categoricas\n",
        "# con select_dtypes seleccionamos las columnas de data de tipo object\n",
        "columnas_categoricas = data.select_dtypes(include=['object']).columns"
      ]
    },
    {
      "cell_type": "code",
      "execution_count": 11,
      "metadata": {
        "colab": {
          "base_uri": "https://localhost:8080/"
        },
        "id": "66YjpWZDN3Ab",
        "outputId": "832a2531-e70c-4427-c746-6e148c165ef5"
      },
      "outputs": [
        {
          "name": "stdout",
          "output_type": "stream",
          "text": [
            "Index(['FatContent', 'ProductType', 'OutletID', 'OutletSize', 'LocationType',\n",
            "       'OutletType'],\n",
            "      dtype='object')\n"
          ]
        }
      ],
      "source": [
        "print(columnas_categoricas)"
      ]
    },
    {
      "cell_type": "code",
      "execution_count": 12,
      "metadata": {
        "id": "HcKJjKJaCUDp"
      },
      "outputs": [],
      "source": [
        "#Procesamiento de frases o palabras\n",
        "for columna in columnas_categoricas:\n",
        "  # se crea una instancia (se utiliza para convetir categoricos a numericos)\n",
        "  le = LabelEncoder()\n",
        "  # cambia de categoricos a numericos unico\n",
        "  data[columna] = le.fit_transform(data[columna])"
      ]
    },
    {
      "cell_type": "code",
      "execution_count": 13,
      "metadata": {
        "colab": {
          "base_uri": "https://localhost:8080/"
        },
        "id": "wcRPk-WwCVeM",
        "outputId": "40bbc99f-f644-428a-bef0-c064c6242d67"
      },
      "outputs": [
        {
          "name": "stdout",
          "output_type": "stream",
          "text": [
            "      Weight  FatContent  ProductVisibility  ProductType       MRP  OutletID  \\\n",
            "0     20.750           1           0.007565           13  107.8622         9   \n",
            "1      8.300           4           0.038428            4   87.3198         2   \n",
            "2     14.600           1           0.099575           11  241.7538         0   \n",
            "3      7.315           1           0.015388           13  155.0340         2   \n",
            "4        NaN           2           0.118599            4  234.2300         5   \n",
            "...      ...         ...                ...          ...       ...       ...   \n",
            "5676  10.500           2           0.013496           13  141.3154         8   \n",
            "5677   7.600           2           0.142991           15  169.1448         3   \n",
            "5678  10.000           1           0.073529            8  118.7440         7   \n",
            "5679  15.300           2           0.000000            3  214.6218         2   \n",
            "5680   9.500           2           0.104720            3   79.7960         7   \n",
            "\n",
            "      EstablishmentYear  OutletSize  LocationType  OutletType  \n",
            "0                  1999           1             0           1  \n",
            "1                  2007           3             1           1  \n",
            "2                  1998           3             2           0  \n",
            "3                  2007           3             1           1  \n",
            "4                  1985           1             2           3  \n",
            "...                 ...         ...           ...         ...  \n",
            "5676               1997           2             0           1  \n",
            "5677               2009           1             2           2  \n",
            "5678               2002           3             1           1  \n",
            "5679               2007           3             1           1  \n",
            "5680               2002           3             1           1  \n",
            "\n",
            "[5681 rows x 10 columns]\n"
          ]
        }
      ],
      "source": [
        "#resultado\n",
        "print(data)"
      ]
    },
    {
      "cell_type": "code",
      "execution_count": 14,
      "metadata": {
        "colab": {
          "base_uri": "https://localhost:8080/"
        },
        "id": "9JxRNO0TCa1A",
        "outputId": "1087fa3c-2075-4ffb-9f80-4287b926e7ed"
      },
      "outputs": [
        {
          "name": "stdout",
          "output_type": "stream",
          "text": [
            "<class 'pandas.core.frame.DataFrame'>\n",
            "RangeIndex: 5681 entries, 0 to 5680\n",
            "Data columns (total 10 columns):\n",
            " #   Column             Non-Null Count  Dtype  \n",
            "---  ------             --------------  -----  \n",
            " 0   Weight             4705 non-null   float64\n",
            " 1   FatContent         5681 non-null   int32  \n",
            " 2   ProductVisibility  5681 non-null   float64\n",
            " 3   ProductType        5681 non-null   int32  \n",
            " 4   MRP                5681 non-null   float64\n",
            " 5   OutletID           5681 non-null   int32  \n",
            " 6   EstablishmentYear  5681 non-null   int64  \n",
            " 7   OutletSize         5681 non-null   int32  \n",
            " 8   LocationType       5681 non-null   int32  \n",
            " 9   OutletType         5681 non-null   int32  \n",
            "dtypes: float64(3), int32(6), int64(1)\n",
            "memory usage: 310.8 KB\n"
          ]
        }
      ],
      "source": [
        "data.info()"
      ]
    },
    {
      "cell_type": "code",
      "execution_count": 15,
      "metadata": {
        "id": "renIUmfGCbac"
      },
      "outputs": [],
      "source": [
        "#llenar datos vacios\n",
        "columnas_especificas = [\"Weight\"]\n",
        "# se calcula la media de las columnas seleccionadas\n",
        "media_columnas = data[columnas_especificas].mean()\n",
        "# fill == llenar\n",
        "data[columnas_especificas] = data[columnas_especificas].fillna(media_columnas)"
      ]
    },
    {
      "cell_type": "code",
      "execution_count": 16,
      "metadata": {
        "colab": {
          "base_uri": "https://localhost:8080/"
        },
        "id": "RBVmVYDwQPCA",
        "outputId": "5c7737a1-a463-4df2-f83a-c12a0eac3018"
      },
      "outputs": [
        {
          "name": "stdout",
          "output_type": "stream",
          "text": [
            "Weight    12.695633\n",
            "dtype: float64\n"
          ]
        }
      ],
      "source": [
        "print(media_columnas)"
      ]
    },
    {
      "cell_type": "code",
      "execution_count": 17,
      "metadata": {
        "colab": {
          "base_uri": "https://localhost:8080/"
        },
        "id": "-qAsgP7XCclX",
        "outputId": "93a92c83-a8e0-4062-ad62-4b7005a3a3ad"
      },
      "outputs": [
        {
          "name": "stdout",
          "output_type": "stream",
          "text": [
            "<class 'pandas.core.frame.DataFrame'>\n",
            "RangeIndex: 5681 entries, 0 to 5680\n",
            "Data columns (total 10 columns):\n",
            " #   Column             Non-Null Count  Dtype  \n",
            "---  ------             --------------  -----  \n",
            " 0   Weight             5681 non-null   float64\n",
            " 1   FatContent         5681 non-null   int32  \n",
            " 2   ProductVisibility  5681 non-null   float64\n",
            " 3   ProductType        5681 non-null   int32  \n",
            " 4   MRP                5681 non-null   float64\n",
            " 5   OutletID           5681 non-null   int32  \n",
            " 6   EstablishmentYear  5681 non-null   int64  \n",
            " 7   OutletSize         5681 non-null   int32  \n",
            " 8   LocationType       5681 non-null   int32  \n",
            " 9   OutletType         5681 non-null   int32  \n",
            "dtypes: float64(3), int32(6), int64(1)\n",
            "memory usage: 310.8 KB\n"
          ]
        }
      ],
      "source": [
        "data.info()"
      ]
    },
    {
      "cell_type": "code",
      "execution_count": 18,
      "metadata": {},
      "outputs": [],
      "source": [
        "# Define un diccionario de mapeo para los nombres en español\n",
        "nombres_en_espanol = {\n",
        "    'ProductID': 'Identificador de producto',\n",
        "    'Weight': 'Peso',\n",
        "    'FatContent': 'Contenido de grasa',\n",
        "    'ProductVisibility': 'Visibilidad del producto',\n",
        "    'ProductType': 'Tipo de producto',\n",
        "    'MRP': 'Precio de venta al público',\n",
        "    'OutletID': 'Identificador de tienda',\n",
        "    'EstablishmentYear': 'Año de establecimiento',\n",
        "    'OutletSize': 'Tamaño de la tienda',\n",
        "    'LocationType': 'Tipo de ubicación',\n",
        "    'OutletType': 'Tipo de tienda'\n",
        "}\n",
        "\n",
        "# Cambia los nombres de las columnas al español\n",
        "data = data.rename(columns=nombres_en_espanol)"
      ]
    },
    {
      "cell_type": "code",
      "execution_count": 19,
      "metadata": {},
      "outputs": [
        {
          "name": "stdout",
          "output_type": "stream",
          "text": [
            "<class 'pandas.core.frame.DataFrame'>\n",
            "RangeIndex: 5681 entries, 0 to 5680\n",
            "Data columns (total 10 columns):\n",
            " #   Column                      Non-Null Count  Dtype  \n",
            "---  ------                      --------------  -----  \n",
            " 0   Peso                        5681 non-null   float64\n",
            " 1   Contenido de grasa          5681 non-null   int32  \n",
            " 2   Visibilidad del producto    5681 non-null   float64\n",
            " 3   Tipo de producto            5681 non-null   int32  \n",
            " 4   Precio de venta al público  5681 non-null   float64\n",
            " 5   Identificador de tienda     5681 non-null   int32  \n",
            " 6   Año de establecimiento      5681 non-null   int64  \n",
            " 7   Tamaño de la tienda         5681 non-null   int32  \n",
            " 8   Tipo de ubicación           5681 non-null   int32  \n",
            " 9   Tipo de tienda              5681 non-null   int32  \n",
            "dtypes: float64(3), int32(6), int64(1)\n",
            "memory usage: 310.8 KB\n"
          ]
        }
      ],
      "source": [
        "data.info()"
      ]
    },
    {
      "cell_type": "code",
      "execution_count": 20,
      "metadata": {},
      "outputs": [
        {
          "name": "stdout",
          "output_type": "stream",
          "text": [
            "Test longitud 854, Train longitud 3415\n"
          ]
        }
      ],
      "source": [
        "longitud = 4269\n",
        "train_long = longitud - longitud * 0.2\n",
        "test_long = longitud - longitud * 0.8\n",
        "print(f'Test longitud {int(np.round(test_long))}, Train longitud {int(train_long)}')"
      ]
    },
    {
      "cell_type": "code",
      "execution_count": 21,
      "metadata": {},
      "outputs": [],
      "source": [
        "# Division de dataset en entrenamiento y prueba\n",
        "train_data, test_data = train_test_split(data, test_size=0.2, random_state=42)"
      ]
    },
    {
      "cell_type": "code",
      "execution_count": 22,
      "metadata": {},
      "outputs": [],
      "source": [
        "train_data.to_csv(\"train.csv\", index=False)"
      ]
    },
    {
      "cell_type": "code",
      "execution_count": 23,
      "metadata": {},
      "outputs": [],
      "source": [
        "test_data.to_csv(\"test.csv\", index=False)"
      ]
    },
    {
      "cell_type": "code",
      "execution_count": 24,
      "metadata": {},
      "outputs": [],
      "source": [
        "#Carga de dataset\n",
        "data = pd.read_csv('test.csv')"
      ]
    },
    {
      "cell_type": "code",
      "execution_count": 25,
      "metadata": {},
      "outputs": [
        {
          "name": "stdout",
          "output_type": "stream",
          "text": [
            "<class 'pandas.core.frame.DataFrame'>\n",
            "RangeIndex: 1137 entries, 0 to 1136\n",
            "Data columns (total 10 columns):\n",
            " #   Column                      Non-Null Count  Dtype  \n",
            "---  ------                      --------------  -----  \n",
            " 0   Peso                        1137 non-null   float64\n",
            " 1   Contenido de grasa          1137 non-null   int64  \n",
            " 2   Visibilidad del producto    1137 non-null   float64\n",
            " 3   Tipo de producto            1137 non-null   int64  \n",
            " 4   Precio de venta al público  1137 non-null   float64\n",
            " 5   Identificador de tienda     1137 non-null   int64  \n",
            " 6   Año de establecimiento      1137 non-null   int64  \n",
            " 7   Tamaño de la tienda         1137 non-null   int64  \n",
            " 8   Tipo de ubicación           1137 non-null   int64  \n",
            " 9   Tipo de tienda              1137 non-null   int64  \n",
            "dtypes: float64(3), int64(7)\n",
            "memory usage: 89.0 KB\n"
          ]
        }
      ],
      "source": [
        "data.info()"
      ]
    },
    {
      "cell_type": "code",
      "execution_count": 26,
      "metadata": {
        "id": "i7NgpjbcCdtk"
      },
      "outputs": [],
      "source": [
        "# Lectura de Datos\n",
        "# iloc accede a los datos\n",
        "# x me muestra las primeras 12 columnas\n",
        "columnas_seleccionadas = list(range(0, 4)) + list(range(5, 10))\n",
        "X = data.iloc[:, columnas_seleccionadas]\n",
        "y = data.iloc[:, 4]\n",
        "m = y.size"
      ]
    },
    {
      "cell_type": "code",
      "execution_count": 27,
      "metadata": {
        "colab": {
          "base_uri": "https://localhost:8080/"
        },
        "id": "uYPXGZVYCe1O",
        "outputId": "0d71e05c-cca8-43a2-c060-b6488ccb8325"
      },
      "outputs": [
        {
          "name": "stdout",
          "output_type": "stream",
          "text": [
            "           Peso  Contenido de grasa  Visibilidad del producto  \\\n",
            "0     19.250000                   2                  0.034896   \n",
            "1     12.695633                   1                  0.045198   \n",
            "2      7.840000                   4                  0.153734   \n",
            "3      8.575000                   2                  0.120256   \n",
            "4     12.800000                   1                  0.091037   \n",
            "...         ...                 ...                       ...   \n",
            "1132  19.850000                   1                  0.026009   \n",
            "1133  20.100000                   1                  0.000000   \n",
            "1134  12.695633                   1                  0.099167   \n",
            "1135  18.850000                   1                  0.055445   \n",
            "1136  11.000000                   1                  0.008947   \n",
            "\n",
            "      Tipo de producto  Identificador de tienda  Año de establecimiento  \\\n",
            "0                    3                        2                    2007   \n",
            "1                    8                        5                    1985   \n",
            "2                    3                        9                    1999   \n",
            "3                    4                        0                    1998   \n",
            "4                   11                        8                    1997   \n",
            "...                ...                      ...                     ...   \n",
            "1132                 9                        9                    1999   \n",
            "1133                 8                        6                    2004   \n",
            "1134                13                        5                    1985   \n",
            "1135                 0                        9                    1999   \n",
            "1136                10                        8                    1997   \n",
            "\n",
            "      Tamaño de la tienda  Tipo de ubicación  Tipo de tienda  \n",
            "0                       3                  1               1  \n",
            "1                       1                  2               3  \n",
            "2                       1                  0               1  \n",
            "3                       3                  2               0  \n",
            "4                       2                  0               1  \n",
            "...                   ...                ...             ...  \n",
            "1132                    1                  0               1  \n",
            "1133                    2                  1               1  \n",
            "1134                    1                  2               3  \n",
            "1135                    1                  0               1  \n",
            "1136                    2                  0               1  \n",
            "\n",
            "[1137 rows x 9 columns]\n",
            "********************\n",
            "0       141.0496\n",
            "1       150.2392\n",
            "2        51.9350\n",
            "3       196.2794\n",
            "4       108.9938\n",
            "          ...   \n",
            "1132     49.8376\n",
            "1133    142.3154\n",
            "1134    113.1544\n",
            "1135    130.6284\n",
            "1136    119.4756\n",
            "Name: Precio de venta al público, Length: 1137, dtype: float64\n",
            "********************\n",
            "1137\n"
          ]
        }
      ],
      "source": [
        "print(X)\n",
        "print('*'*20)\n",
        "print(y)\n",
        "print('*'*20)\n",
        "print(m)"
      ]
    },
    {
      "cell_type": "code",
      "execution_count": 28,
      "metadata": {
        "id": "pvFMCYz3CgZT"
      },
      "outputs": [],
      "source": [
        "def  featureNormalize(X):\n",
        "    # Se crea una copia del conjunto de datos X para evitar modificar los datos originales.\n",
        "    X_norm = X.copy()\n",
        "    # se crea un arreglo de 0 para almacenar la media y desviacion estandar\n",
        "    mu = np.zeros(X.shape[1])\n",
        "    sigma = np.zeros(X.shape[1])\n",
        "\n",
        "    # media\n",
        "    mu = np.mean(X, axis = 0)\n",
        "    # desviacion estandar\n",
        "    sigma = np.std(X, axis = 0)\n",
        "    X_norm = (X - mu) / sigma\n",
        "\n",
        "    return X_norm, mu, sigma"
      ]
    },
    {
      "cell_type": "code",
      "execution_count": 29,
      "metadata": {
        "colab": {
          "base_uri": "https://localhost:8080/"
        },
        "id": "JbYLEUd9ChzI",
        "outputId": "141ef607-dd32-4bd6-89ea-c7c182e7a573"
      },
      "outputs": [
        {
          "name": "stdout",
          "output_type": "stream",
          "text": [
            "           Peso  Contenido de grasa  Visibilidad del producto  \\\n",
            "0     19.250000                   2                  0.034896   \n",
            "1     12.695633                   1                  0.045198   \n",
            "2      7.840000                   4                  0.153734   \n",
            "3      8.575000                   2                  0.120256   \n",
            "4     12.800000                   1                  0.091037   \n",
            "...         ...                 ...                       ...   \n",
            "1132  19.850000                   1                  0.026009   \n",
            "1133  20.100000                   1                  0.000000   \n",
            "1134  12.695633                   1                  0.099167   \n",
            "1135  18.850000                   1                  0.055445   \n",
            "1136  11.000000                   1                  0.008947   \n",
            "\n",
            "      Tipo de producto  Identificador de tienda  Año de establecimiento  \\\n",
            "0                    3                        2                    2007   \n",
            "1                    8                        5                    1985   \n",
            "2                    3                        9                    1999   \n",
            "3                    4                        0                    1998   \n",
            "4                   11                        8                    1997   \n",
            "...                ...                      ...                     ...   \n",
            "1132                 9                        9                    1999   \n",
            "1133                 8                        6                    2004   \n",
            "1134                13                        5                    1985   \n",
            "1135                 0                        9                    1999   \n",
            "1136                10                        8                    1997   \n",
            "\n",
            "      Tamaño de la tienda  Tipo de ubicación  Tipo de tienda  \n",
            "0                       3                  1               1  \n",
            "1                       1                  2               3  \n",
            "2                       1                  0               1  \n",
            "3                       3                  2               0  \n",
            "4                       2                  0               1  \n",
            "...                   ...                ...             ...  \n",
            "1132                    1                  0               1  \n",
            "1133                    2                  1               1  \n",
            "1134                    1                  2               3  \n",
            "1135                    1                  0               1  \n",
            "1136                    2                  0               1  \n",
            "\n",
            "[1137 rows x 9 columns]\n",
            "********************\n",
            "Media calculada: Peso                          12.878127\n",
            "Contenido de grasa             1.364116\n",
            "Visibilidad del producto       0.062597\n",
            "Tipo de producto               7.240985\n",
            "Identificador de tienda        4.702726\n",
            "Año de establecimiento      1997.882146\n",
            "Tamaño de la tienda            1.771328\n",
            "Tipo de ubicación              1.075638\n",
            "Tipo de tienda                 1.174142\n",
            "dtype: float64\n",
            "********************\n",
            "Desviación estandar calculada: Peso                        4.234120\n",
            "Contenido de grasa          0.635546\n",
            "Visibilidad del producto    0.049975\n",
            "Tipo de producto            4.327610\n",
            "Identificador de tienda     2.806814\n",
            "Año de establecimiento      8.427674\n",
            "Tamaño de la tienda         0.966704\n",
            "Tipo de ubicación           0.816225\n",
            "Tipo de tienda              0.796607\n",
            "dtype: float64\n",
            "********************\n",
            "          Peso  Contenido de grasa  Visibilidad del producto  \\\n",
            "0     1.504887            1.000531                 -0.554288   \n",
            "1    -0.043101           -0.572918                 -0.348140   \n",
            "2    -1.189888            4.147431                  1.823653   \n",
            "3    -1.016298            1.000531                  1.153772   \n",
            "4    -0.018452           -0.572918                  0.569098   \n",
            "...        ...                 ...                       ...   \n",
            "1132  1.646593           -0.572918                 -0.732116   \n",
            "1133  1.705637           -0.572918                 -1.252557   \n",
            "1134 -0.043101           -0.572918                  0.731777   \n",
            "1135  1.410417           -0.572918                 -0.143112   \n",
            "1136 -0.443570           -0.572918                 -1.073537   \n",
            "\n",
            "      Tipo de producto  Identificador de tienda  Año de establecimiento  \\\n",
            "0            -0.979983                -0.962916                1.081894   \n",
            "1             0.175389                 0.105911               -1.528553   \n",
            "2            -0.979983                 1.531014                0.132641   \n",
            "3            -0.748909                -1.675468                0.013984   \n",
            "4             0.868612                 1.174739               -0.104673   \n",
            "...                ...                      ...                     ...   \n",
            "1132          0.406463                 1.531014                0.132641   \n",
            "1133          0.175389                 0.462187                0.725924   \n",
            "1134          1.330761                 0.105911               -1.528553   \n",
            "1135         -1.673207                 1.531014                0.132641   \n",
            "1136          0.637538                 1.174739               -0.104673   \n",
            "\n",
            "      Tamaño de la tienda  Tipo de ubicación  Tipo de tienda  \n",
            "0                1.270991          -0.092668       -0.218605  \n",
            "1               -0.797895           1.132485        2.292044  \n",
            "2               -0.797895          -1.317821       -0.218605  \n",
            "3                1.270991           1.132485       -1.473930  \n",
            "4                0.236548          -1.317821       -0.218605  \n",
            "...                   ...                ...             ...  \n",
            "1132            -0.797895          -1.317821       -0.218605  \n",
            "1133             0.236548          -0.092668       -0.218605  \n",
            "1134            -0.797895           1.132485        2.292044  \n",
            "1135            -0.797895          -1.317821       -0.218605  \n",
            "1136             0.236548          -1.317821       -0.218605  \n",
            "\n",
            "[1137 rows x 9 columns]\n"
          ]
        }
      ],
      "source": [
        "# llama featureNormalize con los datos cargados\n",
        "X_norm, mu, sigma = featureNormalize(X)\n",
        "\n",
        "print(X)\n",
        "print('*'*20)\n",
        "print('Media calculada:', mu)\n",
        "print('*'*20)\n",
        "print('Desviación estandar calculada:', sigma)\n",
        "print('*'*20)\n",
        "print(X_norm)"
      ]
    },
    {
      "cell_type": "code",
      "execution_count": 30,
      "metadata": {
        "id": "dDTv01IQCjCo"
      },
      "outputs": [],
      "source": [
        "# Añade el termino de interseccion a X\n",
        "# (Columna de unos para X0)\n",
        "# np.ones(m, numero de columnas)\n",
        "X = np.concatenate([np.ones((m, 1)), X_norm], axis=1)"
      ]
    },
    {
      "cell_type": "code",
      "execution_count": 31,
      "metadata": {
        "colab": {
          "base_uri": "https://localhost:8080/"
        },
        "id": "P7ZbX5dACki1",
        "outputId": "6e79faf8-86f7-42ec-d78a-eafaa9b04255"
      },
      "outputs": [
        {
          "name": "stdout",
          "output_type": "stream",
          "text": [
            "[[ 1.          1.50488716  1.00053129 ...  1.27099092 -0.09266768\n",
            "  -0.21860537]\n",
            " [ 1.         -0.04310074 -0.57291833 ... -0.7978948   1.13248524\n",
            "   2.29204423]\n",
            " [ 1.         -1.18988762  4.14743054 ... -0.7978948  -1.3178206\n",
            "  -0.21860537]\n",
            " ...\n",
            " [ 1.         -0.04310074 -0.57291833 ... -0.7978948   1.13248524\n",
            "   2.29204423]\n",
            " [ 1.          1.41041653 -0.57291833 ... -0.7978948  -1.3178206\n",
            "  -0.21860537]\n",
            " [ 1.         -0.44356963 -0.57291833 ...  0.23654806 -1.3178206\n",
            "  -0.21860537]]\n"
          ]
        }
      ],
      "source": [
        "print(X)"
      ]
    },
    {
      "cell_type": "code",
      "execution_count": 32,
      "metadata": {
        "id": "ehWgf5n5Clao"
      },
      "outputs": [],
      "source": [
        "def computeCostMulti(X, y, theta):\n",
        "    # Inicializa algunos valores utiles\n",
        "    # shape == devuelve el tamaño de la primera dimensión del arreglo\n",
        "    m = y.shape[0] # numero de ejemplos de entrenamiento\n",
        "\n",
        "    # valor del costo\n",
        "    J = 0\n",
        "\n",
        "    # Se calcula la hipótesis\n",
        "    h = np.dot(X, theta)\n",
        "\n",
        "    # square == elevado\n",
        "    J = (1/(2 * m)) * np.sum(np.square(np.dot(X, theta) - y))\n",
        "\n",
        "    return J"
      ]
    },
    {
      "cell_type": "code",
      "execution_count": 33,
      "metadata": {
        "id": "rpkI4gHmCnEv"
      },
      "outputs": [],
      "source": [
        "def gradientDescentMulti(X, y, theta, alpha, num_iters):\n",
        "\n",
        "    # Inicializa algunos valores\n",
        "    m = y.shape[0] # numero de ejemplos de entrenamiento\n",
        "\n",
        "    # realiza una copia de theta, el cual será actualizada por el descenso por el gradiente\n",
        "    theta = theta.copy()\n",
        "\n",
        "    J_history = []\n",
        "\n",
        "    for i in range(num_iters):\n",
        "        theta = theta - (alpha / m) * (np.dot(X, theta) - y).dot(X)\n",
        "        J_history.append(computeCostMulti(X, y, theta))\n",
        "\n",
        "    return theta, J_history"
      ]
    },
    {
      "cell_type": "code",
      "execution_count": 68,
      "metadata": {},
      "outputs": [
        {
          "name": "stdout",
          "output_type": "stream",
          "text": [
            "[9.3, 1.0, 0.066783292, 5.0, 183.0292, 8.0, 1997.0, 2.0, 0.0, 1.0]\n"
          ]
        }
      ],
      "source": [
        "data = pd.read_csv('test.csv')\n",
        "fila_deseada = 120\n",
        "\n",
        "if fila_deseada < len(data):\n",
        "  fila_completa = data.iloc[fila_deseada].tolist()\n",
        "  print(fila_completa)\n",
        "else:\n",
        "  print(\"La fila no existe\")"
      ]
    },
    {
      "cell_type": "code",
      "execution_count": 71,
      "metadata": {
        "colab": {
          "base_uri": "https://localhost:8080/",
          "height": 518
        },
        "id": "dc2jDJmNCo5i",
        "outputId": "7c15ad81-c989-4c6d-b2f0-f39267b8e054"
      },
      "outputs": [
        {
          "name": "stdout",
          "output_type": "stream",
          "text": [
            "theta calculado por el descenso por el gradiente: [140.61528241   1.71056634  -1.29164153  -4.12539849   1.65944151\n",
            "  -0.81789347  -4.28444531   1.65034188   2.6338463   -1.08747413]\n",
            "El valor predecido es (usando el descenso por el gradiente): 135.3496\n"
          ]
        },
        {
          "data": {
            "image/png": "[encoded data removed]",
            "text/plain": [
              "<Figure size 640x480 with 1 Axes>"
            ]
          },
          "metadata": {},
          "output_type": "display_data"
        }
      ],
      "source": [
        "# Elegir algun valor para alpha (probar varias alternativas)\n",
        "alpha = 0.001\n",
        "num_iters = 5000\n",
        "\n",
        "# inicializa theta y ejecuta el descenso por el gradiente\n",
        "# 86.6856\n",
        "theta = np.zeros(10)\n",
        "theta, J_history = gradientDescentMulti(X, y, theta, alpha, num_iters)\n",
        "\n",
        "# Grafica la convergencia del costo\n",
        "pyplot.plot(np.arange(len(J_history)), J_history, lw=2)\n",
        "pyplot.xlabel('Numero de iteraciones')\n",
        "pyplot.ylabel('Costo J')\n",
        "\n",
        "# Muestra los resultados del descenso por el gradiente\n",
        "print('theta calculado por el descenso por el gradiente: {:s}'.format(str(theta)))\n",
        "\n",
        "# Estimar el precio para un smart watch con distintas caracteristicas\n",
        "X_array = [1, 9.3, 1.0, 0.066783292, 5.0, 8.0, 1997.0, 2.0, 0.0, 1.0]\n",
        "X_array[1:10] = (X_array[1:10] - mu) / sigma\n",
        "price = np.dot(X_array, theta)   # Se debe cambiar esto\n",
        "\n",
        "print('El valor predecido es (usando el descenso por el gradiente): {:.4f}'.format(price))"
      ]
    }
  ],
  "metadata": {
    "colab": {
      "provenance": []
    },
    "kernelspec": {
      "display_name": "Python 3",
      "name": "python3"
    },
    "language_info": {
      "codemirror_mode": {
        "name": "ipython",
        "version": 3
      },
      "file_extension": ".py",
      "mimetype": "text/x-python",
      "name": "python",
      "nbconvert_exporter": "python",
      "pygments_lexer": "ipython3",
      "version": "3.11.5"
    }
  },
  "nbformat": 4,
  "nbformat_minor": 0
}
