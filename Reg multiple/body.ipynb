{
  "cells": [
    {
      "cell_type": "code",
      "execution_count": 1,
      "metadata": {
        "id": "E1LanRqLBTQ6"
      },
      "outputs": [],
      "source": [
        "# utilizado para manejos de directorios y rutas\n",
        "import os\n",
        "\n",
        "# Computacion vectorial y cientifica para python\n",
        "# Para realizar cálculos numéricos y operaciones vectoriales\n",
        "import numpy as np\n",
        "\n",
        "# Librerias para graficación (trazado de gráficos)\n",
        "from matplotlib import pyplot\n",
        "# Necesario para graficar superficies 3D\n",
        "from mpl_toolkits.mplot3d import Axes3D\n",
        "\n",
        "# Muestra las gráficas dentro del cuaderno\n",
        "%matplotlib inline"
      ]
    },
    {
      "cell_type": "code",
      "execution_count": 2,
      "metadata": {
        "id": "3lvDWRgfB6BK"
      },
      "outputs": [],
      "source": [
        "# importando pandas para el analisis de datos\n",
        "import pandas as pd\n",
        "# se utiliza para codificar variables categóricas en variables numéricas\n",
        "from sklearn.preprocessing import LabelEncoder\n",
        "\n",
        "#from datetime import datetime"
      ]
    },
    {
      "cell_type": "code",
      "execution_count": 3,
      "metadata": {
        "id": "w4Ay7RiqCAZI"
      },
      "outputs": [],
      "source": [
        "#Carga de dataset\n",
        "data = pd.read_csv('bodyfat.csv')"
      ]
    },
    {
      "cell_type": "code",
      "execution_count": 4,
      "metadata": {
        "colab": {
          "base_uri": "https://localhost:8080/"
        },
        "id": "d3-8qV_0NdTn",
        "outputId": "8de1058c-8375-461e-fdd7-23ea46014bff"
      },
      "outputs": [
        {
          "name": "stdout",
          "output_type": "stream",
          "text": [
            "<class 'pandas.core.frame.DataFrame'>\n"
          ]
        }
      ],
      "source": [
        "print(type(data))"
      ]
    },
    {
      "cell_type": "code",
      "execution_count": 5,
      "metadata": {
        "colab": {
          "base_uri": "https://localhost:8080/"
        },
        "id": "le1t0OrvCEY1",
        "outputId": "06e29da8-6702-45c1-b8b0-7aa724f43486"
      },
      "outputs": [
        {
          "name": "stdout",
          "output_type": "stream",
          "text": [
            "     Density  BodyFat  Age  Weight  Height  Neck  Chest  Abdomen    Hip  \\\n",
            "0     1.0708     12.3   23  154.25   67.75  36.2   93.1     85.2   94.5   \n",
            "1     1.0853      6.1   22  173.25   72.25  38.5   93.6     83.0   98.7   \n",
            "2     1.0414     25.3   22  154.00   66.25  34.0   95.8     87.9   99.2   \n",
            "3     1.0751     10.4   26  184.75   72.25  37.4  101.8     86.4  101.2   \n",
            "4     1.0340     28.7   24  184.25   71.25  34.4   97.3    100.0  101.9   \n",
            "..       ...      ...  ...     ...     ...   ...    ...      ...    ...   \n",
            "247   1.0736     11.0   70  134.25   67.00  34.9   89.2     83.6   88.8   \n",
            "248   1.0236     33.6   72  201.00   69.75  40.9  108.5    105.0  104.5   \n",
            "249   1.0328     29.3   72  186.75   66.00  38.9  111.1    111.5  101.7   \n",
            "250   1.0399     26.0   72  190.75   70.50  38.9  108.3    101.3   97.8   \n",
            "251   1.0271     31.9   74  207.50   70.00  40.8  112.4    108.5  107.1   \n",
            "\n",
            "     Thigh  Knee  Ankle  Biceps  Forearm  Wrist  \n",
            "0     59.0  37.3   21.9    32.0     27.4   17.1  \n",
            "1     58.7  37.3   23.4    30.5     28.9   18.2  \n",
            "2     59.6  38.9   24.0    28.8     25.2   16.6  \n",
            "3     60.1  37.3   22.8    32.4     29.4   18.2  \n",
            "4     63.2  42.2   24.0    32.2     27.7   17.7  \n",
            "..     ...   ...    ...     ...      ...    ...  \n",
            "247   49.6  34.8   21.5    25.6     25.7   18.5  \n",
            "248   59.6  40.8   23.2    35.2     28.6   20.1  \n",
            "249   60.3  37.3   21.5    31.3     27.2   18.0  \n",
            "250   56.0  41.6   22.7    30.5     29.4   19.8  \n",
            "251   59.3  42.2   24.6    33.7     30.0   20.9  \n",
            "\n",
            "[252 rows x 15 columns]\n"
          ]
        }
      ],
      "source": [
        "print(data)"
      ]
    },
    {
      "cell_type": "code",
      "execution_count": 6,
      "metadata": {
        "colab": {
          "base_uri": "https://localhost:8080/"
        },
        "id": "hQW0l3iECGd_",
        "outputId": "421933be-1499-4748-86cc-44b82dc44d91"
      },
      "outputs": [
        {
          "name": "stdout",
          "output_type": "stream",
          "text": [
            "<class 'pandas.core.frame.DataFrame'>\n",
            "RangeIndex: 252 entries, 0 to 251\n",
            "Data columns (total 15 columns):\n",
            " #   Column   Non-Null Count  Dtype  \n",
            "---  ------   --------------  -----  \n",
            " 0   Density  252 non-null    float64\n",
            " 1   BodyFat  252 non-null    float64\n",
            " 2   Age      252 non-null    int64  \n",
            " 3   Weight   252 non-null    float64\n",
            " 4   Height   252 non-null    float64\n",
            " 5   Neck     252 non-null    float64\n",
            " 6   Chest    252 non-null    float64\n",
            " 7   Abdomen  252 non-null    float64\n",
            " 8   Hip      252 non-null    float64\n",
            " 9   Thigh    252 non-null    float64\n",
            " 10  Knee     252 non-null    float64\n",
            " 11  Ankle    252 non-null    float64\n",
            " 12  Biceps   252 non-null    float64\n",
            " 13  Forearm  252 non-null    float64\n",
            " 14  Wrist    252 non-null    float64\n",
            "dtypes: float64(14), int64(1)\n",
            "memory usage: 29.7 KB\n"
          ]
        }
      ],
      "source": [
        "data.info()"
      ]
    },
    {
      "cell_type": "code",
      "execution_count": 9,
      "metadata": {
        "id": "i7NgpjbcCdtk"
      },
      "outputs": [],
      "source": [
        "# Lectura de Datos\n",
        "# iloc accede a los datos\n",
        "# x me muestra las primeras 12 columnas\n",
        "columnas_seleccionadas = list(range(0, 1)) + list(range(2, 15))\n",
        "X = data.iloc[:, columnas_seleccionadas]\n",
        "y = data.iloc[:, 1]\n",
        "m = y.size"
      ]
    },
    {
      "cell_type": "code",
      "execution_count": 10,
      "metadata": {
        "colab": {
          "base_uri": "https://localhost:8080/"
        },
        "id": "uYPXGZVYCe1O",
        "outputId": "0d71e05c-cca8-43a2-c060-b6488ccb8325"
      },
      "outputs": [
        {
          "name": "stdout",
          "output_type": "stream",
          "text": [
            "     Density  Age  Weight  Height  Neck  Chest  Abdomen    Hip  Thigh  Knee  \\\n",
            "0     1.0708   23  154.25   67.75  36.2   93.1     85.2   94.5   59.0  37.3   \n",
            "1     1.0853   22  173.25   72.25  38.5   93.6     83.0   98.7   58.7  37.3   \n",
            "2     1.0414   22  154.00   66.25  34.0   95.8     87.9   99.2   59.6  38.9   \n",
            "3     1.0751   26  184.75   72.25  37.4  101.8     86.4  101.2   60.1  37.3   \n",
            "4     1.0340   24  184.25   71.25  34.4   97.3    100.0  101.9   63.2  42.2   \n",
            "..       ...  ...     ...     ...   ...    ...      ...    ...    ...   ...   \n",
            "247   1.0736   70  134.25   67.00  34.9   89.2     83.6   88.8   49.6  34.8   \n",
            "248   1.0236   72  201.00   69.75  40.9  108.5    105.0  104.5   59.6  40.8   \n",
            "249   1.0328   72  186.75   66.00  38.9  111.1    111.5  101.7   60.3  37.3   \n",
            "250   1.0399   72  190.75   70.50  38.9  108.3    101.3   97.8   56.0  41.6   \n",
            "251   1.0271   74  207.50   70.00  40.8  112.4    108.5  107.1   59.3  42.2   \n",
            "\n",
            "     Ankle  Biceps  Forearm  Wrist  \n",
            "0     21.9    32.0     27.4   17.1  \n",
            "1     23.4    30.5     28.9   18.2  \n",
            "2     24.0    28.8     25.2   16.6  \n",
            "3     22.8    32.4     29.4   18.2  \n",
            "4     24.0    32.2     27.7   17.7  \n",
            "..     ...     ...      ...    ...  \n",
            "247   21.5    25.6     25.7   18.5  \n",
            "248   23.2    35.2     28.6   20.1  \n",
            "249   21.5    31.3     27.2   18.0  \n",
            "250   22.7    30.5     29.4   19.8  \n",
            "251   24.6    33.7     30.0   20.9  \n",
            "\n",
            "[252 rows x 14 columns]\n",
            "********************\n",
            "0      12.3\n",
            "1       6.1\n",
            "2      25.3\n",
            "3      10.4\n",
            "4      28.7\n",
            "       ... \n",
            "247    11.0\n",
            "248    33.6\n",
            "249    29.3\n",
            "250    26.0\n",
            "251    31.9\n",
            "Name: BodyFat, Length: 252, dtype: float64\n",
            "********************\n",
            "252\n"
          ]
        }
      ],
      "source": [
        "print(X)\n",
        "print('*'*20)\n",
        "print(y)\n",
        "print('*'*20)\n",
        "print(m)"
      ]
    },
    {
      "cell_type": "code",
      "execution_count": 11,
      "metadata": {
        "id": "pvFMCYz3CgZT"
      },
      "outputs": [],
      "source": [
        "def  featureNormalize(X):\n",
        "    # Se crea una copia del conjunto de datos X para evitar modificar los datos originales.\n",
        "    X_norm = X.copy()\n",
        "    # se crea un arreglo de 0 para almacenar la media y desviacion estandar\n",
        "    mu = np.zeros(X.shape[1])\n",
        "    sigma = np.zeros(X.shape[1])\n",
        "\n",
        "    # media\n",
        "    mu = np.mean(X, axis = 0)\n",
        "    # desviacion estandar\n",
        "    sigma = np.std(X, axis = 0)\n",
        "    X_norm = (X - mu) / sigma\n",
        "\n",
        "    return X_norm, mu, sigma"
      ]
    },
    {
      "cell_type": "code",
      "execution_count": 12,
      "metadata": {
        "colab": {
          "base_uri": "https://localhost:8080/"
        },
        "id": "JbYLEUd9ChzI",
        "outputId": "141ef607-dd32-4bd6-89ea-c7c182e7a573"
      },
      "outputs": [
        {
          "name": "stdout",
          "output_type": "stream",
          "text": [
            "     Density  Age  Weight  Height  Neck  Chest  Abdomen    Hip  Thigh  Knee  \\\n",
            "0     1.0708   23  154.25   67.75  36.2   93.1     85.2   94.5   59.0  37.3   \n",
            "1     1.0853   22  173.25   72.25  38.5   93.6     83.0   98.7   58.7  37.3   \n",
            "2     1.0414   22  154.00   66.25  34.0   95.8     87.9   99.2   59.6  38.9   \n",
            "3     1.0751   26  184.75   72.25  37.4  101.8     86.4  101.2   60.1  37.3   \n",
            "4     1.0340   24  184.25   71.25  34.4   97.3    100.0  101.9   63.2  42.2   \n",
            "..       ...  ...     ...     ...   ...    ...      ...    ...    ...   ...   \n",
            "247   1.0736   70  134.25   67.00  34.9   89.2     83.6   88.8   49.6  34.8   \n",
            "248   1.0236   72  201.00   69.75  40.9  108.5    105.0  104.5   59.6  40.8   \n",
            "249   1.0328   72  186.75   66.00  38.9  111.1    111.5  101.7   60.3  37.3   \n",
            "250   1.0399   72  190.75   70.50  38.9  108.3    101.3   97.8   56.0  41.6   \n",
            "251   1.0271   74  207.50   70.00  40.8  112.4    108.5  107.1   59.3  42.2   \n",
            "\n",
            "     Ankle  Biceps  Forearm  Wrist  \n",
            "0     21.9    32.0     27.4   17.1  \n",
            "1     23.4    30.5     28.9   18.2  \n",
            "2     24.0    28.8     25.2   16.6  \n",
            "3     22.8    32.4     29.4   18.2  \n",
            "4     24.0    32.2     27.7   17.7  \n",
            "..     ...     ...      ...    ...  \n",
            "247   21.5    25.6     25.7   18.5  \n",
            "248   23.2    35.2     28.6   20.1  \n",
            "249   21.5    31.3     27.2   18.0  \n",
            "250   22.7    30.5     29.4   19.8  \n",
            "251   24.6    33.7     30.0   20.9  \n",
            "\n",
            "[252 rows x 14 columns]\n",
            "********************\n",
            "Media calculada: Density      1.055574\n",
            "Age         44.884921\n",
            "Weight     178.924405\n",
            "Height      70.148810\n",
            "Neck        37.992063\n",
            "Chest      100.824206\n",
            "Abdomen     92.555952\n",
            "Hip         99.904762\n",
            "Thigh       59.405952\n",
            "Knee        38.590476\n",
            "Ankle       23.102381\n",
            "Biceps      32.273413\n",
            "Forearm     28.663889\n",
            "Wrist       18.229762\n",
            "dtype: float64\n",
            "********************\n",
            "Desviación estandar calculada: Density     0.018994\n",
            "Age        12.577011\n",
            "Weight     29.330790\n",
            "Height      3.655581\n",
            "Neck        2.426085\n",
            "Chest       8.413732\n",
            "Abdomen    10.761661\n",
            "Hip         7.149829\n",
            "Thigh       5.239525\n",
            "Knee        2.407015\n",
            "Ankle       1.691527\n",
            "Biceps      3.015273\n",
            "Forearm     2.016678\n",
            "Wrist       0.931731\n",
            "dtype: float64\n",
            "********************\n",
            "      Density       Age    Weight    Height      Neck     Chest   Abdomen  \\\n",
            "0    0.801647 -1.740073 -0.841246 -0.656205 -0.738665 -0.918048 -0.683533   \n",
            "1    1.565061 -1.819583 -0.193462  0.574790  0.209365 -0.858621 -0.887963   \n",
            "2   -0.746240 -1.819583 -0.849769 -1.066536 -1.645475 -0.597144 -0.432643   \n",
            "3    1.028039 -1.501543  0.198617  0.574790 -0.244041  0.115976 -0.572026   \n",
            "4   -1.135844 -1.660563  0.181570  0.301235 -1.480601 -0.418864  0.691719   \n",
            "..        ...       ...       ...       ...       ...       ...       ...   \n",
            "247  0.949065  1.996904 -1.523123 -0.861370 -1.274507 -1.381576 -0.832209   \n",
            "248 -1.683396  2.155924  0.752642 -0.109096  1.198613  0.912294  1.156332   \n",
            "249 -1.199023  2.155924  0.266805 -1.134925  0.374239  1.221312  1.760328   \n",
            "250 -0.825214  2.155924  0.403180  0.096070  0.374239  0.888523  0.812518   \n",
            "251 -1.499124  2.314944  0.974252 -0.040707  1.157394  1.375822  1.481560   \n",
            "\n",
            "          Hip     Thigh      Knee     Ankle    Biceps   Forearm     Wrist  \n",
            "0   -0.755929 -0.077479 -0.536131 -0.710826 -0.090676 -0.626718 -1.212541  \n",
            "1   -0.168502 -0.134736 -0.536131  0.175947 -0.588143  0.117079 -0.031943  \n",
            "2   -0.098570  0.037035  0.128592  0.530656 -1.151940 -1.717621 -1.749177  \n",
            "3    0.181157  0.132464 -0.536131 -0.178762  0.041982  0.365012 -0.031943  \n",
            "4    0.279061  0.724121  1.499585  0.530656 -0.024347 -0.477959 -0.568578  \n",
            "..        ...       ...       ...       ...       ...       ...       ...  \n",
            "247 -1.553151 -1.871535 -1.574763 -0.947298 -2.213203 -1.469689  0.290039  \n",
            "248  0.642706  0.037035  0.917952  0.057711  0.970588 -0.031680  2.007273  \n",
            "249  0.251088  0.170635 -0.536131 -0.947298 -0.322827 -0.725891 -0.246597  \n",
            "250 -0.294379 -0.650050  1.250314 -0.237880 -0.588143  0.365012  1.685292  \n",
            "251  1.006351 -0.020222  1.499585  0.885365  0.473120  0.662531  2.865890  \n",
            "\n",
            "[252 rows x 14 columns]\n"
          ]
        }
      ],
      "source": [
        "# llama featureNormalize con los datos cargados\n",
        "X_norm, mu, sigma = featureNormalize(X)\n",
        "\n",
        "print(X)\n",
        "print('*'*20)\n",
        "print('Media calculada:', mu)\n",
        "print('*'*20)\n",
        "print('Desviación estandar calculada:', sigma)\n",
        "print('*'*20)\n",
        "print(X_norm)"
      ]
    },
    {
      "cell_type": "code",
      "execution_count": 13,
      "metadata": {
        "id": "dDTv01IQCjCo"
      },
      "outputs": [],
      "source": [
        "# Añade el termino de interseccion a X\n",
        "# (Columna de unos para X0)\n",
        "# np.ones(m, numero de columnas)\n",
        "X = np.concatenate([np.ones((m, 1)), X_norm], axis=1)"
      ]
    },
    {
      "cell_type": "code",
      "execution_count": 14,
      "metadata": {
        "colab": {
          "base_uri": "https://localhost:8080/"
        },
        "id": "P7ZbX5dACki1",
        "outputId": "6e79faf8-86f7-42ec-d78a-eafaa9b04255"
      },
      "outputs": [
        {
          "name": "stdout",
          "output_type": "stream",
          "text": [
            "[[ 1.          0.80164696 -1.74007329 ... -0.09067593 -0.62671828\n",
            "  -1.2125412 ]\n",
            " [ 1.          1.56506057 -1.81958344 ... -0.58814329  0.11707924\n",
            "  -0.0319426 ]\n",
            " [ 1.         -0.74623993 -1.81958344 ... -1.15193963 -1.71762131\n",
            "  -1.74917692]\n",
            " ...\n",
            " [ 1.         -1.19902317  2.15592399 ... -0.32282736 -0.72589128\n",
            "  -0.24659689]\n",
            " [ 1.         -0.82521375  2.15592399 ... -0.58814329  0.36501175\n",
            "   1.68529172]\n",
            " [ 1.         -1.49912369  2.31494429 ...  0.47312041  0.66253075\n",
            "   2.86589032]]\n"
          ]
        }
      ],
      "source": [
        "print(X)"
      ]
    },
    {
      "cell_type": "code",
      "execution_count": 15,
      "metadata": {
        "id": "ehWgf5n5Clao"
      },
      "outputs": [],
      "source": [
        "def computeCostMulti(X, y, theta):\n",
        "    # Inicializa algunos valores utiles\n",
        "    # shape == devuelve el tamaño de la primera dimensión del arreglo\n",
        "    m = y.shape[0] # numero de ejemplos de entrenamiento\n",
        "\n",
        "    # valor del costo\n",
        "    J = 0\n",
        "\n",
        "    # Se calcula la hipótesis\n",
        "    h = np.dot(X, theta)\n",
        "\n",
        "    # square == elevado\n",
        "    J = (1/(2 * m)) * np.sum(np.square(np.dot(X, theta) - y))\n",
        "\n",
        "    return J"
      ]
    },
    {
      "cell_type": "code",
      "execution_count": 16,
      "metadata": {
        "id": "rpkI4gHmCnEv"
      },
      "outputs": [],
      "source": [
        "def gradientDescentMulti(X, y, theta, alpha, num_iters):\n",
        "\n",
        "    # Inicializa algunos valores\n",
        "    m = y.shape[0] # numero de ejemplos de entrenamiento\n",
        "\n",
        "    # realiza una copia de theta, el cual será actualizada por el descenso por el gradiente\n",
        "    theta = theta.copy()\n",
        "\n",
        "    J_history = []\n",
        "\n",
        "    for i in range(num_iters):\n",
        "        theta = theta - (alpha / m) * (np.dot(X, theta) - y).dot(X)\n",
        "        J_history.append(computeCostMulti(X, y, theta))\n",
        "\n",
        "    return theta, J_history"
      ]
    },
    {
      "cell_type": "code",
      "execution_count": 18,
      "metadata": {},
      "outputs": [
        {
          "name": "stdout",
          "output_type": "stream",
          "text": [
            "[1.0358, 27.9, 52.0, 206.5, 74.5, 40.8, 104.3, 99.2, 104.1, 58.5, 39.3, 24.6, 33.9, 31.2, 19.5]\n"
          ]
        }
      ],
      "source": [
        "fila_deseada = 120\n",
        "\n",
        "if fila_deseada < len(data):\n",
        "  fila_completa = data.iloc[fila_deseada].tolist()\n",
        "  print(fila_completa)\n",
        "else:\n",
        "  print(\"La fila no existe\")"
      ]
    },
    {
      "cell_type": "code",
      "execution_count": 19,
      "metadata": {
        "colab": {
          "base_uri": "https://localhost:8080/",
          "height": 518
        },
        "id": "dc2jDJmNCo5i",
        "outputId": "7c15ad81-c989-4c6d-b2f0-f39267b8e054"
      },
      "outputs": [
        {
          "name": "stdout",
          "output_type": "stream",
          "text": [
            "theta calculado por el descenso por el gradiente: [19.02207902 -6.36341508  0.49566292  0.05487481 -0.09947236 -0.3482532\n",
            "  0.49835302  1.5857279   0.09098171  0.19040126 -0.08028288 -0.08748738\n",
            " -0.06690489  0.22461432 -0.57094473]\n",
            "El valor predecido es (usando el descenso por el gradiente): 26.0296\n"
          ]
        },
        {
          "data": {
            "image/png": "[encoded data removed]",
            "text/plain": [
              "<Figure size 640x480 with 1 Axes>"
            ]
          },
          "metadata": {},
          "output_type": "display_data"
        }
      ],
      "source": [
        "# Elegir algun valor para alpha (probar varias alternativas)\n",
        "alpha = 0.001\n",
        "num_iters = 5000\n",
        "\n",
        "# inicializa theta y ejecuta el descenso por el gradiente\n",
        "theta = np.zeros(15)\n",
        "theta, J_history = gradientDescentMulti(X, y, theta, alpha, num_iters)\n",
        "\n",
        "# Grafica la convergencia del costo\n",
        "pyplot.plot(np.arange(len(J_history)), J_history, lw=2)\n",
        "pyplot.xlabel('Numero de iteraciones')\n",
        "pyplot.ylabel('Costo J')\n",
        "\n",
        "# Muestra los resultados del descenso por el gradiente\n",
        "print('theta calculado por el descenso por el gradiente: {:s}'.format(str(theta)))\n",
        "\n",
        "# Estimar el precio para un smart watch con distintas caracteristicas\n",
        "X_array = [1, 1.0358, 52.0, 206.5, 74.5, 40.8, 104.3, 99.2, 104.1, 58.5, 39.3, 24.6, 33.9, 31.2, 19.5]\n",
        "X_array[1:15] = (X_array[1:15] - mu) / sigma\n",
        "price = np.dot(X_array, theta)   # Se debe cambiar esto\n",
        "\n",
        "print('El valor predecido es (usando el descenso por el gradiente): {:.4f}'.format(price))"
      ]
    },
    {
      "cell_type": "markdown",
      "metadata": {},
      "source": [
        "# ECUACIÓN DE LA NORMAL"
      ]
    },
    {
      "cell_type": "code",
      "execution_count": 20,
      "metadata": {},
      "outputs": [
        {
          "name": "stdout",
          "output_type": "stream",
          "text": [
            "     Density  BodyFat  Age  Weight  Height  Neck  Chest  Abdomen    Hip  \\\n",
            "0     1.0708     12.3   23  154.25   67.75  36.2   93.1     85.2   94.5   \n",
            "1     1.0853      6.1   22  173.25   72.25  38.5   93.6     83.0   98.7   \n",
            "2     1.0414     25.3   22  154.00   66.25  34.0   95.8     87.9   99.2   \n",
            "3     1.0751     10.4   26  184.75   72.25  37.4  101.8     86.4  101.2   \n",
            "4     1.0340     28.7   24  184.25   71.25  34.4   97.3    100.0  101.9   \n",
            "..       ...      ...  ...     ...     ...   ...    ...      ...    ...   \n",
            "247   1.0736     11.0   70  134.25   67.00  34.9   89.2     83.6   88.8   \n",
            "248   1.0236     33.6   72  201.00   69.75  40.9  108.5    105.0  104.5   \n",
            "249   1.0328     29.3   72  186.75   66.00  38.9  111.1    111.5  101.7   \n",
            "250   1.0399     26.0   72  190.75   70.50  38.9  108.3    101.3   97.8   \n",
            "251   1.0271     31.9   74  207.50   70.00  40.8  112.4    108.5  107.1   \n",
            "\n",
            "     Thigh  Knee  Ankle  Biceps  Forearm  Wrist  \n",
            "0     59.0  37.3   21.9    32.0     27.4   17.1  \n",
            "1     58.7  37.3   23.4    30.5     28.9   18.2  \n",
            "2     59.6  38.9   24.0    28.8     25.2   16.6  \n",
            "3     60.1  37.3   22.8    32.4     29.4   18.2  \n",
            "4     63.2  42.2   24.0    32.2     27.7   17.7  \n",
            "..     ...   ...    ...     ...      ...    ...  \n",
            "247   49.6  34.8   21.5    25.6     25.7   18.5  \n",
            "248   59.6  40.8   23.2    35.2     28.6   20.1  \n",
            "249   60.3  37.3   21.5    31.3     27.2   18.0  \n",
            "250   56.0  41.6   22.7    30.5     29.4   19.8  \n",
            "251   59.3  42.2   24.6    33.7     30.0   20.9  \n",
            "\n",
            "[252 rows x 15 columns]\n"
          ]
        }
      ],
      "source": [
        "print(data)"
      ]
    },
    {
      "cell_type": "code",
      "execution_count": 21,
      "metadata": {},
      "outputs": [],
      "source": [
        "columnas_seleccionadas = list(range(0, 1)) + list(range(2, 15))\n",
        "X = data.iloc[:, columnas_seleccionadas]\n",
        "y = data.iloc[:, 1]\n",
        "m = y.size"
      ]
    },
    {
      "cell_type": "code",
      "execution_count": 22,
      "metadata": {},
      "outputs": [],
      "source": [
        "X = np.concatenate([np.ones((m, 1)), X], axis=1)"
      ]
    },
    {
      "cell_type": "code",
      "execution_count": 23,
      "metadata": {},
      "outputs": [],
      "source": [
        "# importante que para usar m>n, evitar datos redundantes, no se normaliza\n",
        "def normalEqn(X, y):\n",
        "\n",
        "    theta = np.zeros(X.shape[1])\n",
        "\n",
        "    theta = np.dot(np.dot(np.linalg.inv(np.dot(X.T,X)),X.T),y)\n",
        "\n",
        "    return theta"
      ]
    },
    {
      "cell_type": "code",
      "execution_count": 25,
      "metadata": {},
      "outputs": [
        {
          "name": "stdout",
          "output_type": "stream",
          "text": [
            "Theta calculado a partir de la ecuación de la normal: [ 4.50012569e+02 -4.11237849e+02  1.25870031e-02  1.00541597e-02\n",
            " -7.98073928e-03 -2.84558253e-02  2.67803354e-02  1.85648834e-02\n",
            "  1.91660401e-02 -1.67583631e-02 -4.63900523e-03 -8.56761181e-02\n",
            " -5.50508219e-02  3.38634347e-02  7.34493756e-03]\n",
            "Precio predecido para una cada de superficie de 1650 sq-ft y 3 dormitorios (usando la ecuación de la normal): $28\n"
          ]
        }
      ],
      "source": [
        "# Calcula los parametros con la ecuación de la normal\n",
        "theta = normalEqn(X, y);\n",
        "\n",
        "# Muestra los resultados optenidos a partir de la aplicación de la ecuación de la normal\n",
        "print('Theta calculado a partir de la ecuación de la normal: {:s}'.format(str(theta)));\n",
        "\n",
        "# Estimar el número total de fumadores con distintas caracteristicas\n",
        "\n",
        "X_array = [1, 1.0358, 52.0, 206.5, 74.5, 40.8, 104.3, 99.2, 104.1, 58.5, 39.3, 24.6, 33.9, 31.2, 19.5]\n",
        "price = np.dot(X_array, theta)\n",
        "\n",
        "print('Precio predecido para una cada de superficie de 1650 sq-ft y 3 dormitorios (usando la ecuación de la normal): ${:.0f}'.format(price))"
      ]
    }
  ],
  "metadata": {
    "colab": {
      "provenance": []
    },
    "kernelspec": {
      "display_name": "Python 3",
      "name": "python3"
    },
    "language_info": {
      "codemirror_mode": {
        "name": "ipython",
        "version": 3
      },
      "file_extension": ".py",
      "mimetype": "text/x-python",
      "name": "python",
      "nbconvert_exporter": "python",
      "pygments_lexer": "ipython3",
      "version": "3.11.5"
    }
  },
  "nbformat": 4,
  "nbformat_minor": 0
}
